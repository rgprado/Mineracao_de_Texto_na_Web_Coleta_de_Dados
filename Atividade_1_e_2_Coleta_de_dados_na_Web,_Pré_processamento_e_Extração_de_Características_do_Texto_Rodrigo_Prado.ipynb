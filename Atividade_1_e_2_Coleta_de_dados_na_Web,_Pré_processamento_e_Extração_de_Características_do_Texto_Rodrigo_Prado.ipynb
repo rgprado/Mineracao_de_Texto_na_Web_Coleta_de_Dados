{
  "nbformat": 4,
  "nbformat_minor": 0,
  "metadata": {
    "colab": {
      "provenance": [],
      "include_colab_link": true
    },
    "kernelspec": {
      "name": "python3",
      "display_name": "Python 3"
    },
    "language_info": {
      "name": "python"
    }
  },
  "cells": [
    {
      "cell_type": "markdown",
      "metadata": {
        "id": "view-in-github",
        "colab_type": "text"
      },
      "source": [
        "<a href=\"https://colab.research.google.com/github/rgprado/Mineracao_de_Texto_na_Web_Coleta_de_Dados/blob/main/Atividade_1_e_2_Coleta_de_dados_na_Web%2C_Pr%C3%A9_processamento_e_Extra%C3%A7%C3%A3o_de_Caracter%C3%ADsticas_do_Texto_Rodrigo_Prado.ipynb\" target=\"_parent\"><img src=\"https://colab.research.google.com/assets/colab-badge.svg\" alt=\"Open In Colab\"/></a>"
      ]
    },
    {
      "cell_type": "markdown",
      "source": [
        "##Coleta de dados na Web, Pré processamento e Extração de Características do Texto##\n",
        "Professor: Leonardo Valeriano Neri\n",
        "\n",
        "Aluno: Rodrigo Prado\n",
        "\n",
        "Atividade 1 e 2\n"
      ],
      "metadata": {
        "id": "FLF1LwmIvc2u"
      }
    },
    {
      "cell_type": "code",
      "execution_count": 1,
      "metadata": {
        "id": "nrPoX8knukoM",
        "colab": {
          "base_uri": "https://localhost:8080/",
          "height": 1000
        },
        "outputId": "75e51bfc-c649-47b0-c54e-994024bee477"
      },
      "outputs": [
        {
          "output_type": "stream",
          "name": "stdout",
          "text": [
            "Looking in indexes: https://pypi.org/simple, https://us-python.pkg.dev/colab-wheels/public/simple/\n",
            "Requirement already satisfied: beautifulsoup4 in /usr/local/lib/python3.8/dist-packages (4.6.3)\n",
            "/bin/bash: conda: command not found\n",
            "Looking in indexes: https://pypi.org/simple, https://us-python.pkg.dev/colab-wheels/public/simple/\n",
            "Requirement already satisfied: nltk in /usr/local/lib/python3.8/dist-packages (3.7)\n",
            "Requirement already satisfied: joblib in /usr/local/lib/python3.8/dist-packages (from nltk) (1.2.0)\n",
            "Requirement already satisfied: regex>=2021.8.3 in /usr/local/lib/python3.8/dist-packages (from nltk) (2022.6.2)\n",
            "Requirement already satisfied: tqdm in /usr/local/lib/python3.8/dist-packages (from nltk) (4.64.1)\n",
            "Requirement already satisfied: click in /usr/local/lib/python3.8/dist-packages (from nltk) (7.1.2)\n",
            "Looking in indexes: https://pypi.org/simple, https://us-python.pkg.dev/colab-wheels/public/simple/\n",
            "Requirement already satisfied: gensim in /usr/local/lib/python3.8/dist-packages (4.3.0)\n",
            "Requirement already satisfied: numpy>=1.18.5 in /usr/local/lib/python3.8/dist-packages (from gensim) (1.24.0)\n",
            "Requirement already satisfied: smart-open>=1.8.1 in /usr/local/lib/python3.8/dist-packages (from gensim) (6.3.0)\n",
            "Requirement already satisfied: scipy>=1.7.0 in /usr/local/lib/python3.8/dist-packages (from gensim) (1.7.3)\n",
            "Requirement already satisfied: FuzzyTM>=0.4.0 in /usr/local/lib/python3.8/dist-packages (from gensim) (2.0.5)\n",
            "Requirement already satisfied: pandas in /usr/local/lib/python3.8/dist-packages (from FuzzyTM>=0.4.0->gensim) (1.3.5)\n",
            "Requirement already satisfied: pyfume in /usr/local/lib/python3.8/dist-packages (from FuzzyTM>=0.4.0->gensim) (0.2.25)\n",
            "Collecting numpy>=1.18.5\n",
            "  Using cached numpy-1.22.4-cp38-cp38-manylinux_2_17_x86_64.manylinux2014_x86_64.whl (16.9 MB)\n",
            "Requirement already satisfied: pytz>=2017.3 in /usr/local/lib/python3.8/dist-packages (from pandas->FuzzyTM>=0.4.0->gensim) (2022.6)\n",
            "Requirement already satisfied: python-dateutil>=2.7.3 in /usr/local/lib/python3.8/dist-packages (from pandas->FuzzyTM>=0.4.0->gensim) (2.8.2)\n",
            "Requirement already satisfied: six>=1.5 in /usr/local/lib/python3.8/dist-packages (from python-dateutil>=2.7.3->pandas->FuzzyTM>=0.4.0->gensim) (1.15.0)\n",
            "Requirement already satisfied: simpful in /usr/local/lib/python3.8/dist-packages (from pyfume->FuzzyTM>=0.4.0->gensim) (2.9.0)\n",
            "Requirement already satisfied: fst-pso in /usr/local/lib/python3.8/dist-packages (from pyfume->FuzzyTM>=0.4.0->gensim) (1.8.1)\n",
            "Requirement already satisfied: miniful in /usr/local/lib/python3.8/dist-packages (from fst-pso->pyfume->FuzzyTM>=0.4.0->gensim) (0.0.6)\n",
            "Requirement already satisfied: requests in /usr/local/lib/python3.8/dist-packages (from simpful->pyfume->FuzzyTM>=0.4.0->gensim) (2.23.0)\n",
            "Requirement already satisfied: chardet<4,>=3.0.2 in /usr/local/lib/python3.8/dist-packages (from requests->simpful->pyfume->FuzzyTM>=0.4.0->gensim) (3.0.4)\n",
            "Requirement already satisfied: certifi>=2017.4.17 in /usr/local/lib/python3.8/dist-packages (from requests->simpful->pyfume->FuzzyTM>=0.4.0->gensim) (2022.12.7)\n",
            "Requirement already satisfied: urllib3!=1.25.0,!=1.25.1,<1.26,>=1.21.1 in /usr/local/lib/python3.8/dist-packages (from requests->simpful->pyfume->FuzzyTM>=0.4.0->gensim) (1.24.3)\n",
            "Requirement already satisfied: idna<3,>=2.5 in /usr/local/lib/python3.8/dist-packages (from requests->simpful->pyfume->FuzzyTM>=0.4.0->gensim) (2.10)\n",
            "Installing collected packages: numpy\n",
            "  Attempting uninstall: numpy\n",
            "    Found existing installation: numpy 1.24.0\n",
            "    Uninstalling numpy-1.24.0:\n",
            "      Successfully uninstalled numpy-1.24.0\n",
            "Successfully installed numpy-1.22.4\n"
          ]
        },
        {
          "output_type": "display_data",
          "data": {
            "application/vnd.colab-display-data+json": {
              "pip_warning": {
                "packages": [
                  "numpy"
                ]
              }
            }
          },
          "metadata": {}
        },
        {
          "output_type": "stream",
          "name": "stdout",
          "text": [
            "Looking in indexes: https://pypi.org/simple, https://us-python.pkg.dev/colab-wheels/public/simple/\n",
            "Requirement already satisfied: sklearn in /usr/local/lib/python3.8/dist-packages (0.0.post1)\n",
            "Looking in indexes: https://pypi.org/simple, https://us-python.pkg.dev/colab-wheels/public/simple/\n",
            "Requirement already satisfied: Unidecode in /usr/local/lib/python3.8/dist-packages (1.3.6)\n",
            "Looking in indexes: https://pypi.org/simple, https://us-python.pkg.dev/colab-wheels/public/simple/\n",
            "Requirement already satisfied: numpy in /usr/local/lib/python3.8/dist-packages (1.22.4)\n",
            "Collecting numpy\n",
            "  Using cached numpy-1.24.0-cp38-cp38-manylinux_2_17_x86_64.manylinux2014_x86_64.whl (17.3 MB)\n",
            "Installing collected packages: numpy\n",
            "  Attempting uninstall: numpy\n",
            "    Found existing installation: numpy 1.22.4\n",
            "    Uninstalling numpy-1.22.4:\n",
            "      Successfully uninstalled numpy-1.22.4\n",
            "\u001b[31mERROR: pip's dependency resolver does not currently take into account all the packages that are installed. This behaviour is the source of the following dependency conflicts.\n",
            "scipy 1.7.3 requires numpy<1.23.0,>=1.16.5, but you have numpy 1.24.0 which is incompatible.\n",
            "numba 0.56.4 requires numpy<1.24,>=1.18, but you have numpy 1.24.0 which is incompatible.\u001b[0m\n",
            "Successfully installed numpy-1.24.0\n"
          ]
        },
        {
          "output_type": "display_data",
          "data": {
            "application/vnd.colab-display-data+json": {
              "pip_warning": {
                "packages": [
                  "numpy"
                ]
              }
            }
          },
          "metadata": {}
        }
      ],
      "source": [
        "!pip install beautifulsoup4\n",
        "!conda activate NLP\n",
        "!pip install nltk\n",
        "!pip install --upgrade gensim\n",
        "!pip install sklearn\n",
        "!pip install Unidecode\n",
        "!pip install --upgrade numpy"
      ]
    },
    {
      "cell_type": "markdown",
      "source": [
        "## Importação das bibliotecas"
      ],
      "metadata": {
        "id": "HJ6DTVkiwBmq"
      }
    },
    {
      "cell_type": "code",
      "source": [
        "import pandas as pd\n",
        "import numpy as np\n",
        "import json\n",
        "from typing import List\n",
        "import os.path\n",
        "from os import path\n",
        "\n",
        "import os\n",
        "import glob\n",
        "import re\n",
        "from unidecode import unidecode\n",
        "\n",
        "from bs4 import BeautifulSoup\n",
        "import requests\n",
        "import nltk\n",
        "nltk.download('punkt')\n",
        "from nltk.tokenize import word_tokenize\n",
        "nltk.download('stopwords')\n",
        "from nltk.corpus import stopwords\n",
        "\n",
        "from sklearn.feature_extraction.text import TfidfTransformer"
      ],
      "metadata": {
        "id": "wq4epLG0uqe5",
        "colab": {
          "base_uri": "https://localhost:8080/"
        },
        "outputId": "6b8e681f-8f96-45d7-fd35-97900e5e59bb"
      },
      "execution_count": 2,
      "outputs": [
        {
          "output_type": "stream",
          "name": "stderr",
          "text": [
            "/usr/local/lib/python3.8/dist-packages/scipy/__init__.py:146: UserWarning: A NumPy version >=1.16.5 and <1.23.0 is required for this version of SciPy (detected version 1.24.0\n",
            "  warnings.warn(f\"A NumPy version >={np_minversion} and <{np_maxversion}\"\n",
            "[nltk_data] Downloading package punkt to /root/nltk_data...\n",
            "[nltk_data]   Package punkt is already up-to-date!\n",
            "[nltk_data] Downloading package stopwords to /root/nltk_data...\n",
            "[nltk_data]   Package stopwords is already up-to-date!\n"
          ]
        }
      ]
    },
    {
      "cell_type": "markdown",
      "source": [
        "## Função para criar os diretórios para salvar os arquivos extraidos"
      ],
      "metadata": {
        "id": "gGrSKc9cwRoe"
      }
    },
    {
      "cell_type": "code",
      "source": [
        "def create_json_directory(path: str):\n",
        "  output_path = \"output\"\n",
        "\n",
        "  if not os.path.exists(output_path):\n",
        "    os.makedirs(output_path)\n",
        "\n",
        "  if not os.path.exists(output_path + '/' + path):\n",
        "    os.makedirs(output_path + '/' + path)\n",
        "  else:\n",
        "    print(\"Path already exists\")"
      ],
      "metadata": {
        "id": "2gF-3_JlqJlz"
      },
      "execution_count": 3,
      "outputs": []
    },
    {
      "cell_type": "markdown",
      "source": [
        "## Função para Coleta de dados na Web"
      ],
      "metadata": {
        "id": "855XpUtawa6I"
      }
    },
    {
      "cell_type": "code",
      "source": [
        "def read_page_get_links(keywords: str) -> list:\n",
        "    response = requests.get(\"https://repositorio.ufpe.br/simple-search?location=123456789%2F50&query={}\".format(keywords))\n",
        "    soup = BeautifulSoup(response.text.strip(), 'html.parser')\n",
        "    tags = soup.find_all(name='table')\n",
        "    tag_table = tags[0]\n",
        "    tags_a = tag_table.find_all(name='a')\n",
        "    \n",
        "    urls = []\n",
        "    \n",
        "    for i in range(0, len(tags_a), 2): \n",
        "        link = tags_a[i][\"href\"]\n",
        "        urls.append(link)\n",
        "    \n",
        "    return urls"
      ],
      "metadata": {
        "id": "qpNbD8cZchaL"
      },
      "execution_count": 4,
      "outputs": []
    },
    {
      "cell_type": "markdown",
      "source": [
        "## Função para Leitura do titulo e abstract"
      ],
      "metadata": {
        "id": "XylHa4r7wq4E"
      }
    },
    {
      "cell_type": "code",
      "source": [
        "def read_table_get_title_and_abstract(info_table: List[str]) -> dict:\n",
        "    all_titles = info_table.find_all(name='td', attrs={'class': 'dc_title'})\n",
        "    title = all_titles[-1].contents[0]\n",
        "\n",
        "    all_abst = info_table.find_all(name='td', attrs={'class': 'dc_description_abstract'})\n",
        "    abst = all_abst[-1].contents[0]\n",
        "\n",
        "    dict_thesis_info = {}\n",
        "    dict_thesis_info = {\n",
        "        'title': title,\n",
        "        'abstract': abst,\n",
        "    }\n",
        "\n",
        "    return dict_thesis_info"
      ],
      "metadata": {
        "id": "t_hHo9jbchfU"
      },
      "execution_count": 5,
      "outputs": []
    },
    {
      "cell_type": "markdown",
      "source": [
        "## Função para Criar uma tabela com todos os artigos"
      ],
      "metadata": {
        "id": "TvzT4NtEw4QE"
      }
    },
    {
      "cell_type": "code",
      "source": [
        "def create_tables(urls):\n",
        "  info_table = []\n",
        "\n",
        "  for url in urls:\n",
        "      response = requests.get(f'https://repositorio.ufpe.br/{url}', allow_redirects=True)\n",
        "      soup = BeautifulSoup(response.text.strip(), 'html.parser')\n",
        "      tags_table = soup.find_all(name='table', attrs={'class': 'itemDisplayTable'})\n",
        "      info_table.append(tags_table[0])\n",
        "\n",
        "  return info_table"
      ],
      "metadata": {
        "id": "0bHHjzVSchta"
      },
      "execution_count": 6,
      "outputs": []
    },
    {
      "cell_type": "markdown",
      "source": [
        "## Função para Salvar todos os artigos por tema no diretório"
      ],
      "metadata": {
        "id": "ZVFP5Z19w-oM"
      }
    },
    {
      "cell_type": "code",
      "source": [
        "def create_output_folder(topic: str, info_table):\n",
        "  counter = 1\n",
        "\n",
        "  create_json_directory(topic)\n",
        "\n",
        "  for table in info_table:\n",
        "      output = read_table_get_title_and_abstract(table)\n",
        "      \n",
        "      # Criar a estrutura de pastas antes de executar a celula\n",
        "      with open(f\"./output/{topic}/thesis{counter}.json\", 'w') as json_file:\n",
        "          json.dump(output, json_file, ensure_ascii=False) #TODO: Automatizar a criação das pastas\n",
        "          \n",
        "      counter = counter + 1"
      ],
      "metadata": {
        "id": "ra5vZ5h4chy4"
      },
      "execution_count": 7,
      "outputs": []
    },
    {
      "cell_type": "markdown",
      "source": [
        "## Escolha dos temas a serem pesquisados"
      ],
      "metadata": {
        "id": "NTSsNYlWxG--"
      }
    },
    {
      "cell_type": "code",
      "source": [
        "topic_list = [\"machine+learning\", \"economia\", \"estatistica\", \"historia\", \"biologia\"]\n",
        "\n",
        "all_urls = []\n",
        "\n",
        "for topic in topic_list:\n",
        "  urls = read_page_get_links(topic)\n",
        "  info_table = create_tables(urls)\n",
        "  create_output_folder(topic, info_table)"
      ],
      "metadata": {
        "id": "kMOxELExchoc",
        "colab": {
          "base_uri": "https://localhost:8080/"
        },
        "outputId": "5ab26a86-4268-415b-e2ca-f8510244da0e"
      },
      "execution_count": 8,
      "outputs": [
        {
          "output_type": "stream",
          "name": "stdout",
          "text": [
            "Path already exists\n",
            "Path already exists\n",
            "Path already exists\n",
            "Path already exists\n",
            "Path already exists\n"
          ]
        }
      ]
    },
    {
      "cell_type": "code",
      "source": [
        "path = os.getcwd()\n",
        "files = glob.glob(os.path.join(path, \"output/*/*.json\"))"
      ],
      "metadata": {
        "id": "4ViSjcBitiTB"
      },
      "execution_count": 9,
      "outputs": []
    },
    {
      "cell_type": "code",
      "source": [
        "jsons = [pd.read_json(file, lines=True) for file in files]\n",
        "thesis = pd.concat(jsons, ignore_index=True)\n",
        "\n",
        "thesis[\"subject\"] = [os.path.split(os.path.dirname(file))[-1] for file in files]"
      ],
      "metadata": {
        "id": "fexLk1wYtilr"
      },
      "execution_count": 10,
      "outputs": []
    },
    {
      "cell_type": "code",
      "source": [
        "thesis"
      ],
      "metadata": {
        "colab": {
          "base_uri": "https://localhost:8080/",
          "height": 1000
        },
        "id": "tPXbPwaet2lW",
        "outputId": "43a390df-b474-4a50-a8c5-2f9b121cb12d"
      },
      "execution_count": 11,
      "outputs": [
        {
          "output_type": "execute_result",
          "data": {
            "text/plain": [
              "                                                title  \\\n",
              "0   A difusão de empresas de economia de comunhão ...   \n",
              "1   Precificação dos recursos ambientais : condiçã...   \n",
              "2   Uma abordagem da economia de comunhão como  es...   \n",
              "3   Política pública de economia solidária no Bras...   \n",
              "4   A economia digital e o comércio eletrônico :  ...   \n",
              "5   Economia compartilhada de moda e sustentabilid...   \n",
              "6   Uma análise das desigualdades dos estados bras...   \n",
              "7   Prestação de serviços de natureza comunitária ...   \n",
              "8   Competitividade do setor exportador da economi...   \n",
              "9   Outra economia acontece? A economia solidária ...   \n",
              "10  APERFEIÇOAMENTO DE TESTES NOS MODELOS SÉRIES D...   \n",
              "11  Aperfeiçoamento de testes nos modelos séries d...   \n",
              "12  A estatística e a probabilidade nos currículos...   \n",
              "13  Compreensões de letramento estatístico entre l...   \n",
              "14  Educação estatística em escolas do povo Xukuru...   \n",
              "15  Expressões Afetivas na Interpretação de Dados ...   \n",
              "16  Aplicativos que Abordam Conceitos Estatísticos...   \n",
              "17  Interpretação de gráficos: explorando o letram...   \n",
              "18  Testes de permutação e bootstrap em análise es...   \n",
              "19  Contrato didático na disciplina estatística 2 ...   \n",
              "20  Trajetórias invisibilizadas : Matilde Landeta ...   \n",
              "21   A história local no currículo da educação básica   \n",
              "22  Vozes de clio: um estudo sobre o ensino de His...   \n",
              "23  O tempo histórico na representação dos  Profes...   \n",
              "24  Saberes docentes do professor de História mobi...   \n",
              "25  Metodologia de design aplicada à concepção de ...   \n",
              "26  Biografia na sala de aula : a construção de sa...   \n",
              "27  O ensino da história: Outros recursos além do ...   \n",
              "28  O direito ao passado : uma discussão necessári...   \n",
              "29  Contações de história na região do Cariri Cear...   \n",
              "30  Os espaços não formais da região do sub-médio ...   \n",
              "31  Contribuições da audiodescrição para o ensino ...   \n",
              "32  Biologia reprodutiva de espécies lenhosas de L...   \n",
              "33  Fenologia e biologia reprodutiva do Pau-brasil...   \n",
              "34  Estratégias de ensino da Biologia evolutiva à ...   \n",
              "35  Primeiros socorros com ênfase no protagonismo ...   \n",
              "36  Proposta de uma sequência didática com produçõ...   \n",
              "37  Fenologia, biologia reprodutiva e ecologia da ...   \n",
              "38  Biologia populacional do caranguejo-uçá Ucides...   \n",
              "39  Sequência didática de biologia baseada na abor...   \n",
              "40  Time Aware Sigmoid Optimization : a new learni...   \n",
              "41  Embarrassingly parallel autoconstructive multi...   \n",
              "42  Um método de aprendizagem seqüencial com filtr...   \n",
              "43  Visão computacional aplicada a gestão da manut...   \n",
              "44  Malware detection in macOS using supervised le...   \n",
              "45  Time series forecasting with deep forest regre...   \n",
              "46  A machine learning-based methodology for autom...   \n",
              "47  SMADL – The social machines architecture descr...   \n",
              "48  Social machines: a unified paradigm to describ...   \n",
              "49  Development of machine and deep learning based...   \n",
              "\n",
              "                                             abstract           subject  \n",
              "0   Gerir uma empresa em um ambiente dinâmico e de...          economia  \n",
              "1   A concepção desse trabalho parte do entendimen...          economia  \n",
              "2   O TCM  Uma abordagem da Economia de Comunhão c...          economia  \n",
              "3   Este trabalho objetiva analisar os determinant...          economia  \n",
              "4   Apresenta-se e discute-se a Revolução e a Tecn...          economia  \n",
              "5   A presente dissertação tem como objetivo geral...          economia  \n",
              "6   A evolução das desigualdades entre as economia...          economia  \n",
              "7   Esta dissertação procura refletir sobre uma da...          economia  \n",
              "8   O objetivo desta pesquisa é analisar a competi...          economia  \n",
              "9   O objetivo desta tese é analisar e interpretar...          economia  \n",
              "10  Essa dissertação tem dois objetivos. O primeir...       estatistica  \n",
              "11  Essa dissertação tem dois objetivos. O primeir...       estatistica  \n",
              "12  Nossa pesquisa buscou investigar a formação pa...       estatistica  \n",
              "13  A Estatística é uma importante área de conheci...       estatistica  \n",
              "14  Neste trabalho objetivou-se analisar a Educaçã...       estatistica  \n",
              "15  Pesquisas realizadas recentemente sobre interp...       estatistica  \n",
              "16  A principal motivação para a elaboração desse ...       estatistica  \n",
              "17  O presente estudo objetivou analisar a compree...       estatistica  \n",
              "18  O objetivo desta dissertação é aplicar métodos...       estatistica  \n",
              "19  Para Brousseau as situações didáticas referem-...       estatistica  \n",
              "20  A partir da década de 1980, com a apropriação ...          historia  \n",
              "21  O Ensino de História do Recife foi instituído ...          historia  \n",
              "22  Este trabalho analisa as condições atuais do e...          historia  \n",
              "23  Objetiva analisar a representação de tempo par...          historia  \n",
              "24  Esta pesquisa trata sobre os saberes docentes ...          historia  \n",
              "25  Da década de 1990 até o momento a tecnologia d...          historia  \n",
              "26  O presente trabalho estuda possibilidades de u...          historia  \n",
              "27  Este trabalho engloba um levantamento e anális...          historia  \n",
              "28  O objetivo deste trabalho é demonstrar a neces...          historia  \n",
              "29  Considera que a memória oral foi por muito tem...          historia  \n",
              "30  O estudo da Biologia se caracteriza por toda u...          biologia  \n",
              "31  A maioria das pessoas com deficiência que curs...          biologia  \n",
              "32  Anadenanthera colubrina var. cebil (Griseb.) A...          biologia  \n",
              "33  O pau-brasil (Caesalpinia echinata Lam.) é uma...          biologia  \n",
              "34  O ensino da Biologia evolutiva, partindo do pr...          biologia  \n",
              "35  Observar fenômenos, levantar questionamentos, ...          biologia  \n",
              "36  Dificuldades apresentadas pelos estudantes no ...          biologia  \n",
              "37  Calotropis procera é uma espécie exótica e inv...          biologia  \n",
              "38  A biologia pesqueira objetiva investigar o cic...          biologia  \n",
              "39  A globalização permitiu às grandes empresas al...          biologia  \n",
              "40  The correct choice of hyperparameters for the ...  machine+learning  \n",
              "41  The present thesis proposes a method to automa...  machine+learning  \n",
              "42  Em aplicações de aprendizagem de máquina, é co...  machine+learning  \n",
              "43  O desgaste progressivo de peças rotativas como...  machine+learning  \n",
              "44  The development of macOS malware has grown sig...  machine+learning  \n",
              "45  A time series is a collection of ordered obser...  machine+learning  \n",
              "46  Oil refineries process hazardous substances at...  machine+learning  \n",
              "47  We are experiencing a high growth in the numbe...  machine+learning  \n",
              "48  The open, distributed approach of the Web and ...  machine+learning  \n",
              "49  Artificial intelligence-based algorithms have ...  machine+learning  "
            ],
            "text/html": [
              "\n",
              "  <div id=\"df-82296b7c-21fe-4783-89a0-dc8f24e122fb\">\n",
              "    <div class=\"colab-df-container\">\n",
              "      <div>\n",
              "<style scoped>\n",
              "    .dataframe tbody tr th:only-of-type {\n",
              "        vertical-align: middle;\n",
              "    }\n",
              "\n",
              "    .dataframe tbody tr th {\n",
              "        vertical-align: top;\n",
              "    }\n",
              "\n",
              "    .dataframe thead th {\n",
              "        text-align: right;\n",
              "    }\n",
              "</style>\n",
              "<table border=\"1\" class=\"dataframe\">\n",
              "  <thead>\n",
              "    <tr style=\"text-align: right;\">\n",
              "      <th></th>\n",
              "      <th>title</th>\n",
              "      <th>abstract</th>\n",
              "      <th>subject</th>\n",
              "    </tr>\n",
              "  </thead>\n",
              "  <tbody>\n",
              "    <tr>\n",
              "      <th>0</th>\n",
              "      <td>A difusão de empresas de economia de comunhão ...</td>\n",
              "      <td>Gerir uma empresa em um ambiente dinâmico e de...</td>\n",
              "      <td>economia</td>\n",
              "    </tr>\n",
              "    <tr>\n",
              "      <th>1</th>\n",
              "      <td>Precificação dos recursos ambientais : condiçã...</td>\n",
              "      <td>A concepção desse trabalho parte do entendimen...</td>\n",
              "      <td>economia</td>\n",
              "    </tr>\n",
              "    <tr>\n",
              "      <th>2</th>\n",
              "      <td>Uma abordagem da economia de comunhão como  es...</td>\n",
              "      <td>O TCM  Uma abordagem da Economia de Comunhão c...</td>\n",
              "      <td>economia</td>\n",
              "    </tr>\n",
              "    <tr>\n",
              "      <th>3</th>\n",
              "      <td>Política pública de economia solidária no Bras...</td>\n",
              "      <td>Este trabalho objetiva analisar os determinant...</td>\n",
              "      <td>economia</td>\n",
              "    </tr>\n",
              "    <tr>\n",
              "      <th>4</th>\n",
              "      <td>A economia digital e o comércio eletrônico :  ...</td>\n",
              "      <td>Apresenta-se e discute-se a Revolução e a Tecn...</td>\n",
              "      <td>economia</td>\n",
              "    </tr>\n",
              "    <tr>\n",
              "      <th>5</th>\n",
              "      <td>Economia compartilhada de moda e sustentabilid...</td>\n",
              "      <td>A presente dissertação tem como objetivo geral...</td>\n",
              "      <td>economia</td>\n",
              "    </tr>\n",
              "    <tr>\n",
              "      <th>6</th>\n",
              "      <td>Uma análise das desigualdades dos estados bras...</td>\n",
              "      <td>A evolução das desigualdades entre as economia...</td>\n",
              "      <td>economia</td>\n",
              "    </tr>\n",
              "    <tr>\n",
              "      <th>7</th>\n",
              "      <td>Prestação de serviços de natureza comunitária ...</td>\n",
              "      <td>Esta dissertação procura refletir sobre uma da...</td>\n",
              "      <td>economia</td>\n",
              "    </tr>\n",
              "    <tr>\n",
              "      <th>8</th>\n",
              "      <td>Competitividade do setor exportador da economi...</td>\n",
              "      <td>O objetivo desta pesquisa é analisar a competi...</td>\n",
              "      <td>economia</td>\n",
              "    </tr>\n",
              "    <tr>\n",
              "      <th>9</th>\n",
              "      <td>Outra economia acontece? A economia solidária ...</td>\n",
              "      <td>O objetivo desta tese é analisar e interpretar...</td>\n",
              "      <td>economia</td>\n",
              "    </tr>\n",
              "    <tr>\n",
              "      <th>10</th>\n",
              "      <td>APERFEIÇOAMENTO DE TESTES NOS MODELOS SÉRIES D...</td>\n",
              "      <td>Essa dissertação tem dois objetivos. O primeir...</td>\n",
              "      <td>estatistica</td>\n",
              "    </tr>\n",
              "    <tr>\n",
              "      <th>11</th>\n",
              "      <td>Aperfeiçoamento de testes nos modelos séries d...</td>\n",
              "      <td>Essa dissertação tem dois objetivos. O primeir...</td>\n",
              "      <td>estatistica</td>\n",
              "    </tr>\n",
              "    <tr>\n",
              "      <th>12</th>\n",
              "      <td>A estatística e a probabilidade nos currículos...</td>\n",
              "      <td>Nossa pesquisa buscou investigar a formação pa...</td>\n",
              "      <td>estatistica</td>\n",
              "    </tr>\n",
              "    <tr>\n",
              "      <th>13</th>\n",
              "      <td>Compreensões de letramento estatístico entre l...</td>\n",
              "      <td>A Estatística é uma importante área de conheci...</td>\n",
              "      <td>estatistica</td>\n",
              "    </tr>\n",
              "    <tr>\n",
              "      <th>14</th>\n",
              "      <td>Educação estatística em escolas do povo Xukuru...</td>\n",
              "      <td>Neste trabalho objetivou-se analisar a Educaçã...</td>\n",
              "      <td>estatistica</td>\n",
              "    </tr>\n",
              "    <tr>\n",
              "      <th>15</th>\n",
              "      <td>Expressões Afetivas na Interpretação de Dados ...</td>\n",
              "      <td>Pesquisas realizadas recentemente sobre interp...</td>\n",
              "      <td>estatistica</td>\n",
              "    </tr>\n",
              "    <tr>\n",
              "      <th>16</th>\n",
              "      <td>Aplicativos que Abordam Conceitos Estatísticos...</td>\n",
              "      <td>A principal motivação para a elaboração desse ...</td>\n",
              "      <td>estatistica</td>\n",
              "    </tr>\n",
              "    <tr>\n",
              "      <th>17</th>\n",
              "      <td>Interpretação de gráficos: explorando o letram...</td>\n",
              "      <td>O presente estudo objetivou analisar a compree...</td>\n",
              "      <td>estatistica</td>\n",
              "    </tr>\n",
              "    <tr>\n",
              "      <th>18</th>\n",
              "      <td>Testes de permutação e bootstrap em análise es...</td>\n",
              "      <td>O objetivo desta dissertação é aplicar métodos...</td>\n",
              "      <td>estatistica</td>\n",
              "    </tr>\n",
              "    <tr>\n",
              "      <th>19</th>\n",
              "      <td>Contrato didático na disciplina estatística 2 ...</td>\n",
              "      <td>Para Brousseau as situações didáticas referem-...</td>\n",
              "      <td>estatistica</td>\n",
              "    </tr>\n",
              "    <tr>\n",
              "      <th>20</th>\n",
              "      <td>Trajetórias invisibilizadas : Matilde Landeta ...</td>\n",
              "      <td>A partir da década de 1980, com a apropriação ...</td>\n",
              "      <td>historia</td>\n",
              "    </tr>\n",
              "    <tr>\n",
              "      <th>21</th>\n",
              "      <td>A história local no currículo da educação básica</td>\n",
              "      <td>O Ensino de História do Recife foi instituído ...</td>\n",
              "      <td>historia</td>\n",
              "    </tr>\n",
              "    <tr>\n",
              "      <th>22</th>\n",
              "      <td>Vozes de clio: um estudo sobre o ensino de His...</td>\n",
              "      <td>Este trabalho analisa as condições atuais do e...</td>\n",
              "      <td>historia</td>\n",
              "    </tr>\n",
              "    <tr>\n",
              "      <th>23</th>\n",
              "      <td>O tempo histórico na representação dos  Profes...</td>\n",
              "      <td>Objetiva analisar a representação de tempo par...</td>\n",
              "      <td>historia</td>\n",
              "    </tr>\n",
              "    <tr>\n",
              "      <th>24</th>\n",
              "      <td>Saberes docentes do professor de História mobi...</td>\n",
              "      <td>Esta pesquisa trata sobre os saberes docentes ...</td>\n",
              "      <td>historia</td>\n",
              "    </tr>\n",
              "    <tr>\n",
              "      <th>25</th>\n",
              "      <td>Metodologia de design aplicada à concepção de ...</td>\n",
              "      <td>Da década de 1990 até o momento a tecnologia d...</td>\n",
              "      <td>historia</td>\n",
              "    </tr>\n",
              "    <tr>\n",
              "      <th>26</th>\n",
              "      <td>Biografia na sala de aula : a construção de sa...</td>\n",
              "      <td>O presente trabalho estuda possibilidades de u...</td>\n",
              "      <td>historia</td>\n",
              "    </tr>\n",
              "    <tr>\n",
              "      <th>27</th>\n",
              "      <td>O ensino da história: Outros recursos além do ...</td>\n",
              "      <td>Este trabalho engloba um levantamento e anális...</td>\n",
              "      <td>historia</td>\n",
              "    </tr>\n",
              "    <tr>\n",
              "      <th>28</th>\n",
              "      <td>O direito ao passado : uma discussão necessári...</td>\n",
              "      <td>O objetivo deste trabalho é demonstrar a neces...</td>\n",
              "      <td>historia</td>\n",
              "    </tr>\n",
              "    <tr>\n",
              "      <th>29</th>\n",
              "      <td>Contações de história na região do Cariri Cear...</td>\n",
              "      <td>Considera que a memória oral foi por muito tem...</td>\n",
              "      <td>historia</td>\n",
              "    </tr>\n",
              "    <tr>\n",
              "      <th>30</th>\n",
              "      <td>Os espaços não formais da região do sub-médio ...</td>\n",
              "      <td>O estudo da Biologia se caracteriza por toda u...</td>\n",
              "      <td>biologia</td>\n",
              "    </tr>\n",
              "    <tr>\n",
              "      <th>31</th>\n",
              "      <td>Contribuições da audiodescrição para o ensino ...</td>\n",
              "      <td>A maioria das pessoas com deficiência que curs...</td>\n",
              "      <td>biologia</td>\n",
              "    </tr>\n",
              "    <tr>\n",
              "      <th>32</th>\n",
              "      <td>Biologia reprodutiva de espécies lenhosas de L...</td>\n",
              "      <td>Anadenanthera colubrina var. cebil (Griseb.) A...</td>\n",
              "      <td>biologia</td>\n",
              "    </tr>\n",
              "    <tr>\n",
              "      <th>33</th>\n",
              "      <td>Fenologia e biologia reprodutiva do Pau-brasil...</td>\n",
              "      <td>O pau-brasil (Caesalpinia echinata Lam.) é uma...</td>\n",
              "      <td>biologia</td>\n",
              "    </tr>\n",
              "    <tr>\n",
              "      <th>34</th>\n",
              "      <td>Estratégias de ensino da Biologia evolutiva à ...</td>\n",
              "      <td>O ensino da Biologia evolutiva, partindo do pr...</td>\n",
              "      <td>biologia</td>\n",
              "    </tr>\n",
              "    <tr>\n",
              "      <th>35</th>\n",
              "      <td>Primeiros socorros com ênfase no protagonismo ...</td>\n",
              "      <td>Observar fenômenos, levantar questionamentos, ...</td>\n",
              "      <td>biologia</td>\n",
              "    </tr>\n",
              "    <tr>\n",
              "      <th>36</th>\n",
              "      <td>Proposta de uma sequência didática com produçõ...</td>\n",
              "      <td>Dificuldades apresentadas pelos estudantes no ...</td>\n",
              "      <td>biologia</td>\n",
              "    </tr>\n",
              "    <tr>\n",
              "      <th>37</th>\n",
              "      <td>Fenologia, biologia reprodutiva e ecologia da ...</td>\n",
              "      <td>Calotropis procera é uma espécie exótica e inv...</td>\n",
              "      <td>biologia</td>\n",
              "    </tr>\n",
              "    <tr>\n",
              "      <th>38</th>\n",
              "      <td>Biologia populacional do caranguejo-uçá Ucides...</td>\n",
              "      <td>A biologia pesqueira objetiva investigar o cic...</td>\n",
              "      <td>biologia</td>\n",
              "    </tr>\n",
              "    <tr>\n",
              "      <th>39</th>\n",
              "      <td>Sequência didática de biologia baseada na abor...</td>\n",
              "      <td>A globalização permitiu às grandes empresas al...</td>\n",
              "      <td>biologia</td>\n",
              "    </tr>\n",
              "    <tr>\n",
              "      <th>40</th>\n",
              "      <td>Time Aware Sigmoid Optimization : a new learni...</td>\n",
              "      <td>The correct choice of hyperparameters for the ...</td>\n",
              "      <td>machine+learning</td>\n",
              "    </tr>\n",
              "    <tr>\n",
              "      <th>41</th>\n",
              "      <td>Embarrassingly parallel autoconstructive multi...</td>\n",
              "      <td>The present thesis proposes a method to automa...</td>\n",
              "      <td>machine+learning</td>\n",
              "    </tr>\n",
              "    <tr>\n",
              "      <th>42</th>\n",
              "      <td>Um método de aprendizagem seqüencial com filtr...</td>\n",
              "      <td>Em aplicações de aprendizagem de máquina, é co...</td>\n",
              "      <td>machine+learning</td>\n",
              "    </tr>\n",
              "    <tr>\n",
              "      <th>43</th>\n",
              "      <td>Visão computacional aplicada a gestão da manut...</td>\n",
              "      <td>O desgaste progressivo de peças rotativas como...</td>\n",
              "      <td>machine+learning</td>\n",
              "    </tr>\n",
              "    <tr>\n",
              "      <th>44</th>\n",
              "      <td>Malware detection in macOS using supervised le...</td>\n",
              "      <td>The development of macOS malware has grown sig...</td>\n",
              "      <td>machine+learning</td>\n",
              "    </tr>\n",
              "    <tr>\n",
              "      <th>45</th>\n",
              "      <td>Time series forecasting with deep forest regre...</td>\n",
              "      <td>A time series is a collection of ordered obser...</td>\n",
              "      <td>machine+learning</td>\n",
              "    </tr>\n",
              "    <tr>\n",
              "      <th>46</th>\n",
              "      <td>A machine learning-based methodology for autom...</td>\n",
              "      <td>Oil refineries process hazardous substances at...</td>\n",
              "      <td>machine+learning</td>\n",
              "    </tr>\n",
              "    <tr>\n",
              "      <th>47</th>\n",
              "      <td>SMADL – The social machines architecture descr...</td>\n",
              "      <td>We are experiencing a high growth in the numbe...</td>\n",
              "      <td>machine+learning</td>\n",
              "    </tr>\n",
              "    <tr>\n",
              "      <th>48</th>\n",
              "      <td>Social machines: a unified paradigm to describ...</td>\n",
              "      <td>The open, distributed approach of the Web and ...</td>\n",
              "      <td>machine+learning</td>\n",
              "    </tr>\n",
              "    <tr>\n",
              "      <th>49</th>\n",
              "      <td>Development of machine and deep learning based...</td>\n",
              "      <td>Artificial intelligence-based algorithms have ...</td>\n",
              "      <td>machine+learning</td>\n",
              "    </tr>\n",
              "  </tbody>\n",
              "</table>\n",
              "</div>\n",
              "      <button class=\"colab-df-convert\" onclick=\"convertToInteractive('df-82296b7c-21fe-4783-89a0-dc8f24e122fb')\"\n",
              "              title=\"Convert this dataframe to an interactive table.\"\n",
              "              style=\"display:none;\">\n",
              "        \n",
              "  <svg xmlns=\"http://www.w3.org/2000/svg\" height=\"24px\"viewBox=\"0 0 24 24\"\n",
              "       width=\"24px\">\n",
              "    <path d=\"M0 0h24v24H0V0z\" fill=\"none\"/>\n",
              "    <path d=\"M18.56 5.44l.94 2.06.94-2.06 2.06-.94-2.06-.94-.94-2.06-.94 2.06-2.06.94zm-11 1L8.5 8.5l.94-2.06 2.06-.94-2.06-.94L8.5 2.5l-.94 2.06-2.06.94zm10 10l.94 2.06.94-2.06 2.06-.94-2.06-.94-.94-2.06-.94 2.06-2.06.94z\"/><path d=\"M17.41 7.96l-1.37-1.37c-.4-.4-.92-.59-1.43-.59-.52 0-1.04.2-1.43.59L10.3 9.45l-7.72 7.72c-.78.78-.78 2.05 0 2.83L4 21.41c.39.39.9.59 1.41.59.51 0 1.02-.2 1.41-.59l7.78-7.78 2.81-2.81c.8-.78.8-2.07 0-2.86zM5.41 20L4 18.59l7.72-7.72 1.47 1.35L5.41 20z\"/>\n",
              "  </svg>\n",
              "      </button>\n",
              "      \n",
              "  <style>\n",
              "    .colab-df-container {\n",
              "      display:flex;\n",
              "      flex-wrap:wrap;\n",
              "      gap: 12px;\n",
              "    }\n",
              "\n",
              "    .colab-df-convert {\n",
              "      background-color: #E8F0FE;\n",
              "      border: none;\n",
              "      border-radius: 50%;\n",
              "      cursor: pointer;\n",
              "      display: none;\n",
              "      fill: #1967D2;\n",
              "      height: 32px;\n",
              "      padding: 0 0 0 0;\n",
              "      width: 32px;\n",
              "    }\n",
              "\n",
              "    .colab-df-convert:hover {\n",
              "      background-color: #E2EBFA;\n",
              "      box-shadow: 0px 1px 2px rgba(60, 64, 67, 0.3), 0px 1px 3px 1px rgba(60, 64, 67, 0.15);\n",
              "      fill: #174EA6;\n",
              "    }\n",
              "\n",
              "    [theme=dark] .colab-df-convert {\n",
              "      background-color: #3B4455;\n",
              "      fill: #D2E3FC;\n",
              "    }\n",
              "\n",
              "    [theme=dark] .colab-df-convert:hover {\n",
              "      background-color: #434B5C;\n",
              "      box-shadow: 0px 1px 3px 1px rgba(0, 0, 0, 0.15);\n",
              "      filter: drop-shadow(0px 1px 2px rgba(0, 0, 0, 0.3));\n",
              "      fill: #FFFFFF;\n",
              "    }\n",
              "  </style>\n",
              "\n",
              "      <script>\n",
              "        const buttonEl =\n",
              "          document.querySelector('#df-82296b7c-21fe-4783-89a0-dc8f24e122fb button.colab-df-convert');\n",
              "        buttonEl.style.display =\n",
              "          google.colab.kernel.accessAllowed ? 'block' : 'none';\n",
              "\n",
              "        async function convertToInteractive(key) {\n",
              "          const element = document.querySelector('#df-82296b7c-21fe-4783-89a0-dc8f24e122fb');\n",
              "          const dataTable =\n",
              "            await google.colab.kernel.invokeFunction('convertToInteractive',\n",
              "                                                     [key], {});\n",
              "          if (!dataTable) return;\n",
              "\n",
              "          const docLinkHtml = 'Like what you see? Visit the ' +\n",
              "            '<a target=\"_blank\" href=https://colab.research.google.com/notebooks/data_table.ipynb>data table notebook</a>'\n",
              "            + ' to learn more about interactive tables.';\n",
              "          element.innerHTML = '';\n",
              "          dataTable['output_type'] = 'display_data';\n",
              "          await google.colab.output.renderOutput(dataTable, element);\n",
              "          const docLink = document.createElement('div');\n",
              "          docLink.innerHTML = docLinkHtml;\n",
              "          element.appendChild(docLink);\n",
              "        }\n",
              "      </script>\n",
              "    </div>\n",
              "  </div>\n",
              "  "
            ]
          },
          "metadata": {},
          "execution_count": 11
        }
      ]
    },
    {
      "cell_type": "markdown",
      "source": [
        "## Definição das StopWords"
      ],
      "metadata": {
        "id": "RXXzC0o1xUvt"
      }
    },
    {
      "cell_type": "code",
      "source": [
        "languages = ['english', 'portuguese']\n",
        "list_stop = stopwords.words(languages)\n",
        "print('Both languages Stop Words', list_stop)"
      ],
      "metadata": {
        "colab": {
          "base_uri": "https://localhost:8080/"
        },
        "id": "foMWKgKYAfqk",
        "outputId": "0741d23a-88a0-412a-99e3-a99c72c247de"
      },
      "execution_count": 12,
      "outputs": [
        {
          "output_type": "stream",
          "name": "stdout",
          "text": [
            "Both languages Stop Words ['i', 'me', 'my', 'myself', 'we', 'our', 'ours', 'ourselves', 'you', \"you're\", \"you've\", \"you'll\", \"you'd\", 'your', 'yours', 'yourself', 'yourselves', 'he', 'him', 'his', 'himself', 'she', \"she's\", 'her', 'hers', 'herself', 'it', \"it's\", 'its', 'itself', 'they', 'them', 'their', 'theirs', 'themselves', 'what', 'which', 'who', 'whom', 'this', 'that', \"that'll\", 'these', 'those', 'am', 'is', 'are', 'was', 'were', 'be', 'been', 'being', 'have', 'has', 'had', 'having', 'do', 'does', 'did', 'doing', 'a', 'an', 'the', 'and', 'but', 'if', 'or', 'because', 'as', 'until', 'while', 'of', 'at', 'by', 'for', 'with', 'about', 'against', 'between', 'into', 'through', 'during', 'before', 'after', 'above', 'below', 'to', 'from', 'up', 'down', 'in', 'out', 'on', 'off', 'over', 'under', 'again', 'further', 'then', 'once', 'here', 'there', 'when', 'where', 'why', 'how', 'all', 'any', 'both', 'each', 'few', 'more', 'most', 'other', 'some', 'such', 'no', 'nor', 'not', 'only', 'own', 'same', 'so', 'than', 'too', 'very', 's', 't', 'can', 'will', 'just', 'don', \"don't\", 'should', \"should've\", 'now', 'd', 'll', 'm', 'o', 're', 've', 'y', 'ain', 'aren', \"aren't\", 'couldn', \"couldn't\", 'didn', \"didn't\", 'doesn', \"doesn't\", 'hadn', \"hadn't\", 'hasn', \"hasn't\", 'haven', \"haven't\", 'isn', \"isn't\", 'ma', 'mightn', \"mightn't\", 'mustn', \"mustn't\", 'needn', \"needn't\", 'shan', \"shan't\", 'shouldn', \"shouldn't\", 'wasn', \"wasn't\", 'weren', \"weren't\", 'won', \"won't\", 'wouldn', \"wouldn't\", 'a', 'à', 'ao', 'aos', 'aquela', 'aquelas', 'aquele', 'aqueles', 'aquilo', 'as', 'às', 'até', 'com', 'como', 'da', 'das', 'de', 'dela', 'delas', 'dele', 'deles', 'depois', 'do', 'dos', 'e', 'é', 'ela', 'elas', 'ele', 'eles', 'em', 'entre', 'era', 'eram', 'éramos', 'essa', 'essas', 'esse', 'esses', 'esta', 'está', 'estamos', 'estão', 'estar', 'estas', 'estava', 'estavam', 'estávamos', 'este', 'esteja', 'estejam', 'estejamos', 'estes', 'esteve', 'estive', 'estivemos', 'estiver', 'estivera', 'estiveram', 'estivéramos', 'estiverem', 'estivermos', 'estivesse', 'estivessem', 'estivéssemos', 'estou', 'eu', 'foi', 'fomos', 'for', 'fora', 'foram', 'fôramos', 'forem', 'formos', 'fosse', 'fossem', 'fôssemos', 'fui', 'há', 'haja', 'hajam', 'hajamos', 'hão', 'havemos', 'haver', 'hei', 'houve', 'houvemos', 'houver', 'houvera', 'houverá', 'houveram', 'houvéramos', 'houverão', 'houverei', 'houverem', 'houveremos', 'houveria', 'houveriam', 'houveríamos', 'houvermos', 'houvesse', 'houvessem', 'houvéssemos', 'isso', 'isto', 'já', 'lhe', 'lhes', 'mais', 'mas', 'me', 'mesmo', 'meu', 'meus', 'minha', 'minhas', 'muito', 'na', 'não', 'nas', 'nem', 'no', 'nos', 'nós', 'nossa', 'nossas', 'nosso', 'nossos', 'num', 'numa', 'o', 'os', 'ou', 'para', 'pela', 'pelas', 'pelo', 'pelos', 'por', 'qual', 'quando', 'que', 'quem', 'são', 'se', 'seja', 'sejam', 'sejamos', 'sem', 'ser', 'será', 'serão', 'serei', 'seremos', 'seria', 'seriam', 'seríamos', 'seu', 'seus', 'só', 'somos', 'sou', 'sua', 'suas', 'também', 'te', 'tem', 'tém', 'temos', 'tenha', 'tenham', 'tenhamos', 'tenho', 'terá', 'terão', 'terei', 'teremos', 'teria', 'teriam', 'teríamos', 'teu', 'teus', 'teve', 'tinha', 'tinham', 'tínhamos', 'tive', 'tivemos', 'tiver', 'tivera', 'tiveram', 'tivéramos', 'tiverem', 'tivermos', 'tivesse', 'tivessem', 'tivéssemos', 'tu', 'tua', 'tuas', 'um', 'uma', 'você', 'vocês', 'vos']\n"
          ]
        }
      ]
    },
    {
      "cell_type": "code",
      "source": [
        "texto = ''\n",
        "for doc in thesis[:1].iterrows():\n",
        "  texto = doc[1]['title'] + ' ' + doc[1]['abstract']\n",
        "\n",
        "print(texto)\n",
        "print(thesis[:1]['abstract'])"
      ],
      "metadata": {
        "colab": {
          "base_uri": "https://localhost:8080/"
        },
        "id": "9IqYwdEohLr1",
        "outputId": "a953653b-317a-4465-9d0f-67e963e82b30"
      },
      "execution_count": 13,
      "outputs": [
        {
          "output_type": "stream",
          "name": "stdout",
          "text": [
            "A difusão de empresas de economia de comunhão no mercado sob a ótica da teoria dos jogos Gerir uma empresa em um ambiente dinâmico e de mudanças rápidas é uma tarefa\r\n",
            "desafiadora. No cenário atual a cada dia surgem novas empresas, enquanto que outras vão à\r\n",
            "falência. Em paralelo a este fato, percebe-se o agravamento das desigualdades sociais, e que a\r\n",
            "grande maioria das inovações tecnológicas contribuiu para melhorar a qualidade de vida de um\r\n",
            "grupo bastante restrito de pessoas, enquanto que a maior parte delas encontra-se em condições\r\n",
            "desfavoráveis. Neste contexto, em 1991 surgiu a Economia de Comunhão (EdC), formada por\r\n",
            "empresas que, dentre outras características, utilizam seus lucros para diminuir as desigualdades\r\n",
            "sociais, através da ajuda e formação de pessoas necessitadas.\r\n",
            "Neste trabalho se faz um estudo do ponto de vista de Teoria dos Jogos de como tem sido a\r\n",
            "inserção destas empresas no mercado com relação aos seus concorrentes e clientes, no sentido de\r\n",
            "se compreender se o processo de adesão à EdC tem sido favorável ou desfavorável ao\r\n",
            "desenvolvimento da empresa, para deste modo se analisar as perspectivas futuras do projeto.\r\n",
            "Nele é feita uma revisão da literatura existente sobre o assunto, posteriormente é analisado\r\n",
            "o que é o projeto e quais suas características. A seguir são estudados incentivos que podem levar\r\n",
            "empresários a optarem por este sistema de gestão, depois é feito um estudo de como se deu o\r\n",
            "desenvolvimento do projeto em seus quinze anos de existência. A seguir são realizados estudos\r\n",
            "de caso em todas as empresas existentes na Região Metropolitana do Recife. Ao final se conclui\r\n",
            "que é viável para uma empresa aderir ao projeto, desde que seus empresários sejam motivados\r\n",
            "não apenas por recompensas financeiras, mas também por recompensas não materiais, os\r\n",
            "chamados bens relacionais\n",
            "0    Gerir uma empresa em um ambiente dinâmico e de...\n",
            "Name: abstract, dtype: object\n"
          ]
        }
      ]
    },
    {
      "cell_type": "code",
      "source": [
        "documents_tokens = []\n",
        "vocabulary = set()\n",
        "for article in thesis.iterrows():\n",
        "  doc = article[1]['title'] + ' ' + article[1]['abstract']\n",
        "  doc_tokens = [\n",
        "    token.lower() # pre processamento: todas as letras ficam minúsculas\n",
        "      for token in word_tokenize(doc, language='portuguese') # tokenizador para o idioma inglês a nível de palavras\n",
        "        if not token.lower() in list_stop and token.isalnum() # excluir tokens na lista \"stop\" e símbolos\n",
        "  ]\n",
        "\n",
        "  vocabulary.update(set(doc_tokens))\n",
        "  documents_tokens.append(doc_tokens)"
      ],
      "metadata": {
        "id": "5C2lERlVzctG"
      },
      "execution_count": 14,
      "outputs": []
    },
    {
      "cell_type": "code",
      "source": [
        "len(vocabulary)"
      ],
      "metadata": {
        "colab": {
          "base_uri": "https://localhost:8080/"
        },
        "id": "u4gEFG4bIrcV",
        "outputId": "76af1e39-5dbd-498c-d5bc-cd20f902e2e2"
      },
      "execution_count": 15,
      "outputs": [
        {
          "output_type": "execute_result",
          "data": {
            "text/plain": [
              "3412"
            ]
          },
          "metadata": {},
          "execution_count": 15
        }
      ]
    },
    {
      "cell_type": "code",
      "source": [
        "documents_tokens[0]"
      ],
      "metadata": {
        "colab": {
          "base_uri": "https://localhost:8080/"
        },
        "id": "Ke_XxaKjI_sg",
        "outputId": "bc9578f2-a2a6-4f45-f277-cffe0e2b57c9"
      },
      "execution_count": 16,
      "outputs": [
        {
          "output_type": "execute_result",
          "data": {
            "text/plain": [
              "['difusão',\n",
              " 'empresas',\n",
              " 'economia',\n",
              " 'comunhão',\n",
              " 'mercado',\n",
              " 'sob',\n",
              " 'ótica',\n",
              " 'teoria',\n",
              " 'jogos',\n",
              " 'gerir',\n",
              " 'empresa',\n",
              " 'ambiente',\n",
              " 'dinâmico',\n",
              " 'mudanças',\n",
              " 'rápidas',\n",
              " 'tarefa',\n",
              " 'desafiadora',\n",
              " 'cenário',\n",
              " 'atual',\n",
              " 'cada',\n",
              " 'dia',\n",
              " 'surgem',\n",
              " 'novas',\n",
              " 'empresas',\n",
              " 'enquanto',\n",
              " 'outras',\n",
              " 'vão',\n",
              " 'falência',\n",
              " 'paralelo',\n",
              " 'fato',\n",
              " 'agravamento',\n",
              " 'desigualdades',\n",
              " 'sociais',\n",
              " 'grande',\n",
              " 'maioria',\n",
              " 'inovações',\n",
              " 'tecnológicas',\n",
              " 'contribuiu',\n",
              " 'melhorar',\n",
              " 'qualidade',\n",
              " 'vida',\n",
              " 'grupo',\n",
              " 'bastante',\n",
              " 'restrito',\n",
              " 'pessoas',\n",
              " 'enquanto',\n",
              " 'maior',\n",
              " 'parte',\n",
              " 'condições',\n",
              " 'desfavoráveis',\n",
              " 'neste',\n",
              " 'contexto',\n",
              " '1991',\n",
              " 'surgiu',\n",
              " 'economia',\n",
              " 'comunhão',\n",
              " 'edc',\n",
              " 'formada',\n",
              " 'empresas',\n",
              " 'dentre',\n",
              " 'outras',\n",
              " 'características',\n",
              " 'utilizam',\n",
              " 'lucros',\n",
              " 'diminuir',\n",
              " 'desigualdades',\n",
              " 'sociais',\n",
              " 'através',\n",
              " 'ajuda',\n",
              " 'formação',\n",
              " 'pessoas',\n",
              " 'necessitadas',\n",
              " 'neste',\n",
              " 'trabalho',\n",
              " 'faz',\n",
              " 'estudo',\n",
              " 'ponto',\n",
              " 'vista',\n",
              " 'teoria',\n",
              " 'jogos',\n",
              " 'sido',\n",
              " 'inserção',\n",
              " 'destas',\n",
              " 'empresas',\n",
              " 'mercado',\n",
              " 'relação',\n",
              " 'concorrentes',\n",
              " 'clientes',\n",
              " 'sentido',\n",
              " 'compreender',\n",
              " 'processo',\n",
              " 'adesão',\n",
              " 'edc',\n",
              " 'sido',\n",
              " 'favorável',\n",
              " 'desfavorável',\n",
              " 'desenvolvimento',\n",
              " 'empresa',\n",
              " 'deste',\n",
              " 'modo',\n",
              " 'analisar',\n",
              " 'perspectivas',\n",
              " 'futuras',\n",
              " 'projeto',\n",
              " 'nele',\n",
              " 'feita',\n",
              " 'revisão',\n",
              " 'literatura',\n",
              " 'existente',\n",
              " 'sobre',\n",
              " 'assunto',\n",
              " 'posteriormente',\n",
              " 'analisado',\n",
              " 'projeto',\n",
              " 'quais',\n",
              " 'características',\n",
              " 'seguir',\n",
              " 'estudados',\n",
              " 'incentivos',\n",
              " 'podem',\n",
              " 'levar',\n",
              " 'empresários',\n",
              " 'optarem',\n",
              " 'sistema',\n",
              " 'gestão',\n",
              " 'feito',\n",
              " 'estudo',\n",
              " 'deu',\n",
              " 'desenvolvimento',\n",
              " 'projeto',\n",
              " 'quinze',\n",
              " 'anos',\n",
              " 'existência',\n",
              " 'seguir',\n",
              " 'realizados',\n",
              " 'estudos',\n",
              " 'caso',\n",
              " 'todas',\n",
              " 'empresas',\n",
              " 'existentes',\n",
              " 'região',\n",
              " 'metropolitana',\n",
              " 'recife',\n",
              " 'final',\n",
              " 'conclui',\n",
              " 'viável',\n",
              " 'empresa',\n",
              " 'aderir',\n",
              " 'projeto',\n",
              " 'desde',\n",
              " 'empresários',\n",
              " 'motivados',\n",
              " 'apenas',\n",
              " 'recompensas',\n",
              " 'financeiras',\n",
              " 'recompensas',\n",
              " 'materiais',\n",
              " 'chamados',\n",
              " 'bens',\n",
              " 'relacionais']"
            ]
          },
          "metadata": {},
          "execution_count": 16
        }
      ]
    },
    {
      "cell_type": "code",
      "source": [
        "print(thesis[:1])\n",
        "pre_processed_documents = [' '.join(doc) for doc in documents_tokens]\n",
        "print(pre_processed_documents[0])"
      ],
      "metadata": {
        "colab": {
          "base_uri": "https://localhost:8080/"
        },
        "id": "KYGKTXpQJNwy",
        "outputId": "72182a7c-45a4-4e9e-ff46-b330b59af5e6"
      },
      "execution_count": 17,
      "outputs": [
        {
          "output_type": "stream",
          "name": "stdout",
          "text": [
            "                                               title  \\\n",
            "0  A difusão de empresas de economia de comunhão ...   \n",
            "\n",
            "                                            abstract   subject  \n",
            "0  Gerir uma empresa em um ambiente dinâmico e de...  economia  \n",
            "difusão empresas economia comunhão mercado sob ótica teoria jogos gerir empresa ambiente dinâmico mudanças rápidas tarefa desafiadora cenário atual cada dia surgem novas empresas enquanto outras vão falência paralelo fato agravamento desigualdades sociais grande maioria inovações tecnológicas contribuiu melhorar qualidade vida grupo bastante restrito pessoas enquanto maior parte condições desfavoráveis neste contexto 1991 surgiu economia comunhão edc formada empresas dentre outras características utilizam lucros diminuir desigualdades sociais através ajuda formação pessoas necessitadas neste trabalho faz estudo ponto vista teoria jogos sido inserção destas empresas mercado relação concorrentes clientes sentido compreender processo adesão edc sido favorável desfavorável desenvolvimento empresa deste modo analisar perspectivas futuras projeto nele feita revisão literatura existente sobre assunto posteriormente analisado projeto quais características seguir estudados incentivos podem levar empresários optarem sistema gestão feito estudo deu desenvolvimento projeto quinze anos existência seguir realizados estudos caso todas empresas existentes região metropolitana recife final conclui viável empresa aderir projeto desde empresários motivados apenas recompensas financeiras recompensas materiais chamados bens relacionais\n"
          ]
        }
      ]
    },
    {
      "cell_type": "code",
      "source": [
        "custom_list_stop = []\n",
        "for v in list(vocabulary):\n",
        "  if len(v) == 1 or len(v) == 2:\n",
        "    custom_list_stop.append(v)\n",
        "\n",
        "custom_list_stop = custom_list_stop + ['xterm', 'x11r5', 'x11', 'xlib', 'vax', 'uwo', 'pl8', 'pl9']\n",
        "print(custom_list_stop)\n",
        "\n",
        "del documents_tokens\n",
        "del vocabulary\n",
        "documents_tokens = []\n",
        "vocabulary = set()\n",
        "for doc in pre_processed_documents:\n",
        "    tokens = [token for token in word_tokenize(doc, language='portuguese') if not token in custom_list_stop]\n",
        "    documents_tokens.append(tokens)\n",
        "    vocabulary.update(set(tokens))\n",
        "\n",
        "print('Tamanho do novo vocabulário: ', len(vocabulary))\n",
        "\n",
        "del pre_processed_documents\n",
        "pre_processed_documents = [' '.join(doc) for doc in documents_tokens]"
      ],
      "metadata": {
        "colab": {
          "base_uri": "https://localhost:8080/"
        },
        "id": "GynBDs2oJAxB",
        "outputId": "5758a07d-f941-4669-dd07-9ba5e85bdcf7"
      },
      "execution_count": 18,
      "outputs": [
        {
          "output_type": "stream",
          "name": "stdout",
          "text": [
            "['78', 'aí', 'l', '2', 'cd', 'dá', 'x', 'es', 'nº', '10', '80', 'vi', 'pe', '9', '1º', '17', '57', 'wi', '15', '13', 't2', 'cp', '3', '85', '11', 'b', 'ee', 'sp', 'sm', '60', '5', '16', 'rc', '32', 'z', 'á', '3º', 'lm', 'lc', '4', 'ps', '30', '65', 'k', '1', 'pp', 'c', '48', 'lt', 'ex', '55', 'si', 'ml', 'dl', '90', '70', 'pi', '37', 'sd', 'f1', '8', 'rs', 'ás', '2º', '45', 'br', 'xterm', 'x11r5', 'x11', 'xlib', 'vax', 'uwo', 'pl8', 'pl9']\n",
            "Tamanho do novo vocabulário:  3346\n"
          ]
        }
      ]
    },
    {
      "cell_type": "code",
      "source": [
        "from sklearn.feature_extraction.text import CountVectorizer\n",
        "\n",
        "count_vect = CountVectorizer(stop_words=list_stop, min_df=0.005, max_df=0.5, max_features=1000)\n",
        "count_vect.fit(pre_processed_documents)"
      ],
      "metadata": {
        "colab": {
          "base_uri": "https://localhost:8080/"
        },
        "id": "0XwlGGa6VScF",
        "outputId": "b179834d-dd11-44a6-96dc-54a7680248d2"
      },
      "execution_count": 19,
      "outputs": [
        {
          "output_type": "execute_result",
          "data": {
            "text/plain": [
              "CountVectorizer(max_df=0.5, max_features=1000, min_df=0.005,\n",
              "                stop_words=['i', 'me', 'my', 'myself', 'we', 'our', 'ours',\n",
              "                            'ourselves', 'you', \"you're\", \"you've\", \"you'll\",\n",
              "                            \"you'd\", 'your', 'yours', 'yourself', 'yourselves',\n",
              "                            'he', 'him', 'his', 'himself', 'she', \"she's\",\n",
              "                            'her', 'hers', 'herself', 'it', \"it's\", 'its',\n",
              "                            'itself', ...])"
            ]
          },
          "metadata": {},
          "execution_count": 19
        }
      ]
    },
    {
      "cell_type": "code",
      "source": [
        "print('Tamanho do vocabulário: ', len(count_vect.vocabulary_))\n",
        "counter = 0\n",
        "for _, count in count_vect.vocabulary_.items():\n",
        "    counter += count\n",
        "    \n",
        "print('Quantidade total de palavras: ', counter)"
      ],
      "metadata": {
        "colab": {
          "base_uri": "https://localhost:8080/"
        },
        "id": "pXD70y1UVSfw",
        "outputId": "bc420077-5d65-4ffa-fd59-d0ba5ad5b48a"
      },
      "execution_count": 20,
      "outputs": [
        {
          "output_type": "stream",
          "name": "stdout",
          "text": [
            "Tamanho do vocabulário:  1000\n",
            "Quantidade total de palavras:  499500\n"
          ]
        }
      ]
    },
    {
      "cell_type": "code",
      "source": [
        "sorted(count_vect.vocabulary_.items(), reverse=True)"
      ],
      "metadata": {
        "colab": {
          "base_uri": "https://localhost:8080/"
        },
        "id": "JaB3P7jOVSp9",
        "outputId": "2b80daf9-4532-4aed-8378-d9820cc50ba3"
      },
      "execution_count": 21,
      "outputs": [
        {
          "output_type": "execute_result",
          "data": {
            "text/plain": [
              "[('única', 999),\n",
              " ('óvulos', 998),\n",
              " ('ótica', 997),\n",
              " ('ênfase', 996),\n",
              " ('ética', 995),\n",
              " ('âmbito', 994),\n",
              " ('áreas', 993),\n",
              " ('área', 992),\n",
              " ('zoologia', 991),\n",
              " ('xukuru', 990),\n",
              " ('work', 989),\n",
              " ('web', 988),\n",
              " ('way', 987),\n",
              " ('vídeo', 986),\n",
              " ('vários', 985),\n",
              " ('várias', 984),\n",
              " ('visão', 983),\n",
              " ('visto', 982),\n",
              " ('vista', 981),\n",
              " ('visitas', 980),\n",
              " ('visitantes', 979),\n",
              " ('vinte', 978),\n",
              " ('vinculadas', 977),\n",
              " ('vida', 976),\n",
              " ('viabilidade', 975),\n",
              " ('via', 974),\n",
              " ('vez', 973),\n",
              " ('versões', 972),\n",
              " ('vector', 971),\n",
              " ('valores', 970),\n",
              " ('valor', 969),\n",
              " ('utilização', 968),\n",
              " ('utilizamos', 967),\n",
              " ('utilizam', 966),\n",
              " ('utilizados', 965),\n",
              " ('utilizadas', 964),\n",
              " ('utilizada', 963),\n",
              " ('usually', 962),\n",
              " ('uso', 961),\n",
              " ('using', 960),\n",
              " ('used', 959),\n",
              " ('urbanos', 958),\n",
              " ('universidade', 957),\n",
              " ('unified', 956),\n",
              " ('ufpe', 955),\n",
              " ('típica', 954),\n",
              " ('têm', 953),\n",
              " ('técnicos', 952),\n",
              " ('técnicas', 951),\n",
              " ('two', 950),\n",
              " ('turmas', 949),\n",
              " ('turma', 948),\n",
              " ('três', 947),\n",
              " ('trigona', 946),\n",
              " ('treinamento', 945),\n",
              " ('tratar', 944),\n",
              " ('tratamento', 943),\n",
              " ('trata', 942),\n",
              " ('transmissão', 941),\n",
              " ('transformação', 940),\n",
              " ('trajetórias', 939),\n",
              " ('trajetória', 938),\n",
              " ('training', 937),\n",
              " ('train', 936),\n",
              " ('tradições', 935),\n",
              " ('tradicional', 934),\n",
              " ('tradicionais', 933),\n",
              " ('trabalhos', 932),\n",
              " ('trabalho', 931),\n",
              " ('trabalhar', 930),\n",
              " ('trabalham', 929),\n",
              " ('trabalhados', 928),\n",
              " ('trabalhadores', 927),\n",
              " ('total', 926),\n",
              " ('tomada', 925),\n",
              " ('todos', 924),\n",
              " ('todas', 923),\n",
              " ('tipo', 922),\n",
              " ('time', 921),\n",
              " ('three', 920),\n",
              " ('thesis', 919),\n",
              " ('teóricos', 918),\n",
              " ('teórico', 917),\n",
              " ('teórica', 916),\n",
              " ('testes', 915),\n",
              " ('teste', 914),\n",
              " ('tese', 913),\n",
              " ('termos', 912),\n",
              " ('teorias', 911),\n",
              " ('teoria', 910),\n",
              " ('tendo', 909),\n",
              " ('temáticas', 908),\n",
              " ('temática', 907),\n",
              " ('tempo', 906),\n",
              " ('temas', 905),\n",
              " ('tema', 904),\n",
              " ('tecnologia', 903),\n",
              " ('taso', 902),\n",
              " ('tarefas', 901),\n",
              " ('tarefa', 900),\n",
              " ('tanto', 899),\n",
              " ('tamanho', 898),\n",
              " ('tal', 897),\n",
              " ('tais', 896),\n",
              " ('tablets', 895),\n",
              " ('séries', 894),\n",
              " ('systems', 893),\n",
              " ('system', 892),\n",
              " ('sustentabilidade', 891),\n",
              " ('support', 890),\n",
              " ('superior', 889),\n",
              " ('sujeitos', 888),\n",
              " ('splitting', 887),\n",
              " ('spinipes', 886),\n",
              " ('somente', 885),\n",
              " ('solutions', 884),\n",
              " ('solidária', 883),\n",
              " ('software', 882),\n",
              " ('socorros', 881),\n",
              " ('sociedades', 880),\n",
              " ('sociedade', 879),\n",
              " ('social', 878),\n",
              " ('sociais', 877),\n",
              " ('sobre', 876),\n",
              " ('sob', 875),\n",
              " ('smartphones', 874),\n",
              " ('smadl', 873),\n",
              " ('situações', 872),\n",
              " ('situação', 871),\n",
              " ('sistemática', 870),\n",
              " ('sistemas', 869),\n",
              " ('sistema', 868),\n",
              " ('single', 867),\n",
              " ('sido', 866),\n",
              " ('several', 865),\n",
              " ('setores', 864),\n",
              " ('setor', 863),\n",
              " ('sete', 862),\n",
              " ('serviços', 861),\n",
              " ('services', 860),\n",
              " ('series', 859),\n",
              " ('serem', 858),\n",
              " ('sequência', 857),\n",
              " ('sequencial', 856),\n",
              " ('sentido', 855),\n",
              " ('sendo', 854),\n",
              " ('semeando', 853),\n",
              " ('seis', 852),\n",
              " ('sei', 851),\n",
              " ('segundo', 850),\n",
              " ('segunda', 849),\n",
              " ('seguintes', 848),\n",
              " ('security', 847),\n",
              " ('seca', 846),\n",
              " ('saúde', 845),\n",
              " ('sala', 844),\n",
              " ('saberes', 843),\n",
              " ('saber', 842),\n",
              " ('risk', 841),\n",
              " ('rio', 840),\n",
              " ('revisão', 839),\n",
              " ('results', 838),\n",
              " ('resultados', 837),\n",
              " ('result', 836),\n",
              " ('respostas', 835),\n",
              " ('respiração', 834),\n",
              " ('respeito', 833),\n",
              " ('reprodução', 832),\n",
              " ('reprodutivo', 831),\n",
              " ('reprodutiva', 830),\n",
              " ('representação', 829),\n",
              " ('renda', 828),\n",
              " ('reliability', 827),\n",
              " ('relações', 826),\n",
              " ('relação', 825),\n",
              " ('relatório', 824),\n",
              " ('relativas', 823),\n",
              " ('relationships', 822),\n",
              " ('regiões', 821),\n",
              " ('região', 820),\n",
              " ('registro', 819),\n",
              " ('reflexão', 818),\n",
              " ('refletir', 817),\n",
              " ('refinery', 816),\n",
              " ('referência', 815),\n",
              " ('referentes', 814),\n",
              " ('rede', 813),\n",
              " ('recursos', 812),\n",
              " ('recurso', 811),\n",
              " ('reconhecimento', 810),\n",
              " ('recompensas', 809),\n",
              " ('recife', 808),\n",
              " ('recentes', 807),\n",
              " ('recent', 806),\n",
              " ('realmente', 805),\n",
              " ('realização', 804),\n",
              " ('realizamos', 803),\n",
              " ('realizados', 802),\n",
              " ('realizadoras', 801),\n",
              " ('realizado', 800),\n",
              " ('realizadas', 799),\n",
              " ('realizada', 798),\n",
              " ('realidade', 797),\n",
              " ('real', 796),\n",
              " ('reais', 795),\n",
              " ('razão', 794),\n",
              " ('rate', 793),\n",
              " ('química', 792),\n",
              " ('quinze', 791),\n",
              " ('questões', 790),\n",
              " ('questão', 789),\n",
              " ('questionários', 788),\n",
              " ('questionário', 787),\n",
              " ('questionamentos', 786),\n",
              " ('quatro', 785),\n",
              " ('quase', 784),\n",
              " ('quanto', 783),\n",
              " ('qualquer', 782),\n",
              " ('qualitativa', 781),\n",
              " ('qualidade', 780),\n",
              " ('quais', 779),\n",
              " ('quadrinhos', 778),\n",
              " ('público', 777),\n",
              " ('públicas', 776),\n",
              " ('pública', 775),\n",
              " ('pólen', 774),\n",
              " ('pétalas', 773),\n",
              " ('psicologia', 772),\n",
              " ('próprios', 771),\n",
              " ('prévios', 770),\n",
              " ('práticas', 769),\n",
              " ('prática', 768),\n",
              " ('provide', 767),\n",
              " ('protagonismo', 766),\n",
              " ('propõe', 765),\n",
              " ('proposto', 764),\n",
              " ('propostas', 763),\n",
              " ('proposta', 762),\n",
              " ('proposes', 761),\n",
              " ('proposed', 760),\n",
              " ('promover', 759),\n",
              " ('projeto', 758),\n",
              " ('programa', 757),\n",
              " ('profissionais', 756),\n",
              " ('professores', 755),\n",
              " ('professoras', 754),\n",
              " ('professora', 753),\n",
              " ('professor', 752),\n",
              " ('produção', 751),\n",
              " ('produto', 750),\n",
              " ('produce', 749),\n",
              " ('processos', 748),\n",
              " ('processo', 747),\n",
              " ('procera', 746),\n",
              " ('problemática', 745),\n",
              " ('problems', 744),\n",
              " ('problemas', 743),\n",
              " ('problema', 742),\n",
              " ('problem', 741),\n",
              " ('probabilidade', 740),\n",
              " ('privada', 739),\n",
              " ('princípios', 738),\n",
              " ('principalmente', 737),\n",
              " ('principal', 736),\n",
              " ('principais', 735),\n",
              " ('primeiros', 734),\n",
              " ('primeiro', 733),\n",
              " ('primeira', 732),\n",
              " ('preço', 731),\n",
              " ('previsão', 730),\n",
              " ('previously', 729),\n",
              " ('pretende', 728),\n",
              " ('prestação', 727),\n",
              " ('pressuposto', 726),\n",
              " ('presença', 725),\n",
              " ('presents', 724),\n",
              " ('presentes', 723),\n",
              " ('presented', 722),\n",
              " ('presente', 721),\n",
              " ('present', 720),\n",
              " ('precificação', 719),\n",
              " ('povo', 718),\n",
              " ('pouca', 717),\n",
              " ('potência', 716),\n",
              " ('potencialidades', 715),\n",
              " ('potencial', 714),\n",
              " ('possível', 713),\n",
              " ('possibilitou', 712),\n",
              " ('possibilita', 711),\n",
              " ('possibilidades', 710),\n",
              " ('possibilidade', 709),\n",
              " ('possam', 708),\n",
              " ('porém', 707),\n",
              " ('portanto', 706),\n",
              " ('população', 705),\n",
              " ('pool', 704),\n",
              " ('ponto', 703),\n",
              " ('políticos', 702),\n",
              " ('políticas', 701),\n",
              " ('política', 700),\n",
              " ('políade', 699),\n",
              " ('polinização', 698),\n",
              " ('polinizadores', 697),\n",
              " ('polinizadoras', 696),\n",
              " ('pois', 695),\n",
              " ('poderão', 694),\n",
              " ('poderá', 693),\n",
              " ('poder', 692),\n",
              " ('podendo', 691),\n",
              " ('podem', 690),\n",
              " ('pode', 689),\n",
              " ('plano', 688),\n",
              " ('planejamento', 687),\n",
              " ('pessoas', 686),\n",
              " ('pesquisas', 685),\n",
              " ('pesquisa', 684),\n",
              " ('pesos', 683),\n",
              " ('pesca', 682),\n",
              " ('período', 681),\n",
              " ('perspectivas', 680),\n",
              " ('perspectiva', 679),\n",
              " ('perpassa', 678),\n",
              " ('pernambuco', 677),\n",
              " ('permutação', 676),\n",
              " ('permeiam', 675),\n",
              " ('perguntas', 674),\n",
              " ('performing', 673),\n",
              " ('performance', 672),\n",
              " ('percebemos', 671),\n",
              " ('perante', 670),\n",
              " ('pensar', 669),\n",
              " ('pensamento', 668),\n",
              " ('pedagógicos', 667),\n",
              " ('pedagógico', 666),\n",
              " ('pedagógicas', 665),\n",
              " ('pedagógica', 664),\n",
              " ('pedagogia', 663),\n",
              " ('peculiar', 662),\n",
              " ('país', 661),\n",
              " ('passado', 660),\n",
              " ('parâmetros', 659),\n",
              " ('partir', 658),\n",
              " ('participação', 657),\n",
              " ('participantes', 656),\n",
              " ('participante', 655),\n",
              " ('parte', 654),\n",
              " ('paradigm', 653),\n",
              " ('papel', 652),\n",
              " ('outros', 651),\n",
              " ('outras', 650),\n",
              " ('outra', 649),\n",
              " ('ororubá', 648),\n",
              " ('orientações', 647),\n",
              " ('order', 646),\n",
              " ('oportunidades', 645),\n",
              " ('one', 644),\n",
              " ('onde', 643),\n",
              " ('oil', 642),\n",
              " ('oficinas', 641),\n",
              " ('oferecida', 640),\n",
              " ('ocorrência', 639),\n",
              " ('obtidos', 638),\n",
              " ('obtenção', 637),\n",
              " ('obtained', 636),\n",
              " ('observações', 635),\n",
              " ('observação', 634),\n",
              " ('observamos', 633),\n",
              " ('observado', 632),\n",
              " ('observadas', 631),\n",
              " ('objeto', 630),\n",
              " ('objetivos', 629),\n",
              " ('objetivo', 628),\n",
              " ('objetiva', 627),\n",
              " ('número', 626),\n",
              " ('níveis', 625),\n",
              " ('néctar', 624),\n",
              " ('number', 623),\n",
              " ('novos', 622),\n",
              " ('novas', 621),\n",
              " ('norte', 620),\n",
              " ('nordeste', 619),\n",
              " ('new', 618),\n",
              " ('neural', 617),\n",
              " ('networks', 616),\n",
              " ('network', 615),\n",
              " ('neste', 614),\n",
              " ('nesta', 613),\n",
              " ('nesse', 612),\n",
              " ('nessa', 611),\n",
              " ('need', 610),\n",
              " ('necessários', 609),\n",
              " ('necessário', 608),\n",
              " ('necessária', 607),\n",
              " ('necessidade', 606),\n",
              " ('natureza', 605),\n",
              " ('natural', 604),\n",
              " ('naturais', 603),\n",
              " ('nativa', 602),\n",
              " ('narrativas', 601),\n",
              " ('nacional', 600),\n",
              " ('nacionais', 599),\n",
              " ('métodos', 598),\n",
              " ('método', 597),\n",
              " ('médio', 596),\n",
              " ('médias', 595),\n",
              " ('média', 594),\n",
              " ('município', 593),\n",
              " ('municipal', 592),\n",
              " ('multilayer', 591),\n",
              " ('multicolinearidade', 590),\n",
              " ('muitos', 589),\n",
              " ('movimento', 588),\n",
              " ('motivação', 587),\n",
              " ('mostram', 586),\n",
              " ('momentos', 585),\n",
              " ('modo', 584),\n",
              " ('models', 583),\n",
              " ('modelos', 582),\n",
              " ('modelo', 581),\n",
              " ('model', 580),\n",
              " ('moda', 579),\n",
              " ('mobilizam', 578),\n",
              " ('mobilizados', 577),\n",
              " ('mlps', 576),\n",
              " ('mlp', 575),\n",
              " ('mitocôndrias', 574),\n",
              " ('metropolitana', 573),\n",
              " ('metodológico', 572),\n",
              " ('metodologias', 571),\n",
              " ('metodologia', 570),\n",
              " ('methods', 569),\n",
              " ('methodologies', 568),\n",
              " ('method', 567),\n",
              " ('mesmos', 566),\n",
              " ('mesma', 565),\n",
              " ('mercado', 564),\n",
              " ('memória', 563),\n",
              " ('melhor', 562),\n",
              " ('meio', 561),\n",
              " ('mediação', 560),\n",
              " ('mediante', 559),\n",
              " ('means', 558),\n",
              " ('mean', 557),\n",
              " ('matrizes', 556),\n",
              " ('matriz', 555),\n",
              " ('matrix', 554),\n",
              " ('matilde', 553),\n",
              " ('materiais', 552),\n",
              " ('matemática', 551),\n",
              " ('maranhão', 550),\n",
              " ('maranhense', 549),\n",
              " ('mapeamento', 548),\n",
              " ('manutenção', 547),\n",
              " ('manual', 546),\n",
              " ('maneira', 545),\n",
              " ('malware', 544),\n",
              " ('make', 543),\n",
              " ('maioria', 542),\n",
              " ('maiores', 541),\n",
              " ('maior', 540),\n",
              " ('macos', 539),\n",
              " ('machos', 538),\n",
              " ('machines', 537),\n",
              " ('machine', 536),\n",
              " ('luz', 535),\n",
              " ('logo', 534),\n",
              " ('local', 533),\n",
              " ('locais', 532),\n",
              " ('literatura', 531),\n",
              " ('limitações', 530),\n",
              " ('limitations', 529),\n",
              " ('licenciatura', 528),\n",
              " ('licenciandos', 527),\n",
              " ('levantamento', 526),\n",
              " ('levando', 525),\n",
              " ('letramento', 524),\n",
              " ('leitura', 523),\n",
              " ('leguminosae', 522),\n",
              " ('learning', 521),\n",
              " ('large', 520),\n",
              " ('language', 519),\n",
              " ('kalman', 518),\n",
              " ('junto', 517),\n",
              " ('jovens', 516),\n",
              " ('itália', 515),\n",
              " ('início', 514),\n",
              " ('investigações', 513),\n",
              " ('investigação', 512),\n",
              " ('investigativa', 511),\n",
              " ('investigar', 510),\n",
              " ('interpretações', 509),\n",
              " ('interpretação', 508),\n",
              " ('interpretar', 507),\n",
              " ('interdisciplinaridade', 506),\n",
              " ('interativa', 505),\n",
              " ('instrumento', 504),\n",
              " ('instituições', 503),\n",
              " ('instituição', 502),\n",
              " ('institucionalizados', 501),\n",
              " ('instaladas', 500),\n",
              " ('inserção', 499),\n",
              " ('iniciais', 498),\n",
              " ('informações', 497),\n",
              " ('information', 496),\n",
              " ('indígenas', 495),\n",
              " ('indivíduos', 494),\n",
              " ('indicam', 493),\n",
              " ('indicadores', 492),\n",
              " ('inclusiva', 491),\n",
              " ('improve', 490),\n",
              " ('importância', 489),\n",
              " ('importante', 488),\n",
              " ('implicações', 487),\n",
              " ('implica', 486),\n",
              " ('implementação', 485),\n",
              " ('implement', 484),\n",
              " ('imagens', 483),\n",
              " ('iluminar', 482),\n",
              " ('ies', 481),\n",
              " ('idioma', 480),\n",
              " ('ideológicos', 479),\n",
              " ('identificação', 478),\n",
              " ('identificar', 477),\n",
              " ('identidade', 476),\n",
              " ('hábitos', 475),\n",
              " ('hyperparameters', 474),\n",
              " ('however', 473),\n",
              " ('históricos', 472),\n",
              " ('histórico', 471),\n",
              " ('histórias', 470),\n",
              " ('história', 469),\n",
              " ('historiografia', 468),\n",
              " ('gómez', 467),\n",
              " ('gênero', 466),\n",
              " ('grãos', 465),\n",
              " ('gráficos', 464),\n",
              " ('gráfico', 463),\n",
              " ('grupos', 462),\n",
              " ('grupo', 461),\n",
              " ('grandes', 460),\n",
              " ('grande', 459),\n",
              " ('graduação', 458),\n",
              " ('gradiente', 457),\n",
              " ('governo', 456),\n",
              " ('good', 455),\n",
              " ('going', 454),\n",
              " ('globalização', 453),\n",
              " ('global', 452),\n",
              " ('gestão', 451),\n",
              " ('geral', 450),\n",
              " ('gerais', 449),\n",
              " ('geradores', 448),\n",
              " ('generalizados', 447),\n",
              " ('gcforest', 446),\n",
              " ('gal', 445),\n",
              " ('física', 444),\n",
              " ('fêmeas', 443),\n",
              " ('futuro', 442),\n",
              " ('função', 441),\n",
              " ('fundamentos', 440),\n",
              " ('fundamental', 439),\n",
              " ('funcionamento', 438),\n",
              " ('frutos', 437),\n",
              " ('freqüência', 436),\n",
              " ('frente', 435),\n",
              " ('francisco', 434),\n",
              " ('framework', 433),\n",
              " ('four', 432),\n",
              " ('formação', 431),\n",
              " ('formato', 430),\n",
              " ('formas', 429),\n",
              " ('formais', 428),\n",
              " ('forma', 427),\n",
              " ('forest', 426),\n",
              " ('forecasting', 425),\n",
              " ('foco', 424),\n",
              " ('floresta', 423),\n",
              " ('flores', 422),\n",
              " ('floração', 421),\n",
              " ('floral', 420),\n",
              " ('florais', 419),\n",
              " ('flor', 418),\n",
              " ('financeiras', 417),\n",
              " ('finalmente', 416),\n",
              " ('final', 415),\n",
              " ('finais', 414),\n",
              " ('fim', 413),\n",
              " ('filtro', 412),\n",
              " ('filmes', 411),\n",
              " ('fez', 410),\n",
              " ('ferramenta', 409),\n",
              " ('fenômenos', 408),\n",
              " ('fenômeno', 407),\n",
              " ('fenologia', 406),\n",
              " ('federal', 405),\n",
              " ('faz', 404),\n",
              " ('fato', 403),\n",
              " ('fafire', 402),\n",
              " ('faculdade', 401),\n",
              " ('extreme', 400),\n",
              " ('extensão', 399),\n",
              " ('expressões', 398),\n",
              " ('exploração', 397),\n",
              " ('explorando', 396),\n",
              " ('experiências', 395),\n",
              " ('experiência', 394),\n",
              " ('experimentos', 393),\n",
              " ('existentes', 392),\n",
              " ('exemplo', 391),\n",
              " ('evolução', 390),\n",
              " ('evolutiva', 389),\n",
              " ('evaluated', 388),\n",
              " ('evaluate', 387),\n",
              " ('etnográficos', 386),\n",
              " ('etnográfica', 385),\n",
              " ('etapas', 384),\n",
              " ('etapa', 383),\n",
              " ('estuário', 382),\n",
              " ('estudos', 381),\n",
              " ('estudo', 380),\n",
              " ('estudiosos', 379),\n",
              " ('estudar', 378),\n",
              " ('estudantes', 377),\n",
              " ('estudados', 376),\n",
              " ('estruturas', 375),\n",
              " ('estrutura', 374),\n",
              " ('estratégias', 373),\n",
              " ('estratégia', 372),\n",
              " ('estimadas', 371),\n",
              " ('estação', 370),\n",
              " ('estatísticos', 369),\n",
              " ('estatístico', 368),\n",
              " ('estatísticas', 367),\n",
              " ('estatística', 366),\n",
              " ('estames', 365),\n",
              " ('estadual', 364),\n",
              " ('estaduais', 363),\n",
              " ('estados', 362),\n",
              " ('estado', 361),\n",
              " ('espécies', 360),\n",
              " ('espécie', 359),\n",
              " ('específicos', 358),\n",
              " ('especificamente', 357),\n",
              " ('especialmente', 356),\n",
              " ('espaços', 355),\n",
              " ('espaço', 354),\n",
              " ('esforço', 353),\n",
              " ('escore', 352),\n",
              " ('escolhido', 351),\n",
              " ('escolha', 350),\n",
              " ('escolas', 349),\n",
              " ('escolar', 348),\n",
              " ('escola', 347),\n",
              " ('escala', 346),\n",
              " ('error', 345),\n",
              " ('erro', 344),\n",
              " ('equipes', 343),\n",
              " ('episódios', 342),\n",
              " ('envolvidos', 341),\n",
              " ('envolveram', 340),\n",
              " ('envolvendo', 339),\n",
              " ('envolvem', 338),\n",
              " ('entrevistas', 337),\n",
              " ('entrevista', 336),\n",
              " ('entretanto', 335),\n",
              " ('entidade', 334),\n",
              " ('entendimento', 333),\n",
              " ('entanto', 332),\n",
              " ('ensino', 331),\n",
              " ('ensinam', 330),\n",
              " ('enquanto', 329),\n",
              " ('engrenagens', 328),\n",
              " ('engrenagem', 327),\n",
              " ('engineering', 326),\n",
              " ('enfrentamento', 325),\n",
              " ('enfoque', 324),\n",
              " ('energia', 323),\n",
              " ('enem', 322),\n",
              " ('endpoint', 321),\n",
              " ('encontros', 320),\n",
              " ('encontrar', 319),\n",
              " ('encontrados', 318),\n",
              " ('encontradas', 317),\n",
              " ('encontrada', 316),\n",
              " ('empresários', 315),\n",
              " ('empresas', 314),\n",
              " ('empresa', 313),\n",
              " ('empreendimentos', 312),\n",
              " ('emerging', 311),\n",
              " ('embora', 310),\n",
              " ('elementos', 309),\n",
              " ('elaboração', 308),\n",
              " ('educação', 307),\n",
              " ('educacionais', 306),\n",
              " ('edc', 305),\n",
              " ('econômico', 304),\n",
              " ('econômica', 303),\n",
              " ('economias', 302),\n",
              " ('economia', 301),\n",
              " ('ecológica', 300),\n",
              " ('ecologia', 299),\n",
              " ('echinata', 298),\n",
              " ('década', 297),\n",
              " ('dynamically', 296),\n",
              " ('durante', 295),\n",
              " ('duas', 294),\n",
              " ('dua', 293),\n",
              " ('dois', 292),\n",
              " ('documental', 291),\n",
              " ('docentes', 290),\n",
              " ('docente', 289),\n",
              " ('dnns', 288),\n",
              " ('diversos', 287),\n",
              " ('diversas', 286),\n",
              " ('disso', 285),\n",
              " ('dissertação', 284),\n",
              " ('discussões', 283),\n",
              " ('discussão', 282),\n",
              " ('disciplinas', 281),\n",
              " ('disciplina', 280),\n",
              " ('discente', 279),\n",
              " ('direito', 278),\n",
              " ('dinâmicas', 277),\n",
              " ('dinâmica', 276),\n",
              " ('dimensões', 275),\n",
              " ('digital', 274),\n",
              " ('digitais', 273),\n",
              " ('dificuldades', 272),\n",
              " ('different', 271),\n",
              " ('diferenças', 270),\n",
              " ('diferentes', 269),\n",
              " ('didáticos', 268),\n",
              " ('didático', 267),\n",
              " ('didáticas', 266),\n",
              " ('didática', 265),\n",
              " ('diante', 264),\n",
              " ('dia', 263),\n",
              " ('devem', 262),\n",
              " ('developed', 261),\n",
              " ('detection', 260),\n",
              " ('destes', 259),\n",
              " ('deste', 258),\n",
              " ('destas', 257),\n",
              " ('desta', 256),\n",
              " ('desses', 255),\n",
              " ('desse', 254),\n",
              " ('dessas', 253),\n",
              " ('dessa', 252),\n",
              " ('desigualdades', 251),\n",
              " ('design', 250),\n",
              " ('desenvolvimento', 249),\n",
              " ('desenvolvido', 248),\n",
              " ('desenvolvidas', 247),\n",
              " ('desenvolvida', 246),\n",
              " ('desenvolver', 245),\n",
              " ('desempenho', 244),\n",
              " ('desde', 243),\n",
              " ('description', 242),\n",
              " ('describe', 241),\n",
              " ('desafio', 240),\n",
              " ('dentro', 239),\n",
              " ('dentre', 238),\n",
              " ('dentes', 237),\n",
              " ('demonstrate', 236),\n",
              " ('demais', 235),\n",
              " ('define', 234),\n",
              " ('deficiência', 233),\n",
              " ('deep', 232),\n",
              " ('debate', 231),\n",
              " ('datasets', 230),\n",
              " ('data', 229),\n",
              " ('dar', 228),\n",
              " ('dados', 227),\n",
              " ('dado', 226),\n",
              " ('cursos', 225),\n",
              " ('curso', 224),\n",
              " ('currículos', 223),\n",
              " ('currículo', 222),\n",
              " ('curriculares', 221),\n",
              " ('curricular', 220),\n",
              " ('cultural', 219),\n",
              " ('crítico', 218),\n",
              " ('críticas', 217),\n",
              " ('criticamente', 216),\n",
              " ('criação', 215),\n",
              " ('crescimento', 214),\n",
              " ('cotidiano', 213),\n",
              " ('corrigidas', 212),\n",
              " ('convolutional', 211),\n",
              " ('contribuições', 210),\n",
              " ('contribuição', 209),\n",
              " ('contribuir', 208),\n",
              " ('contrato', 207),\n",
              " ('conteúdos', 206),\n",
              " ('conteúdo', 205),\n",
              " ('contexto', 204),\n",
              " ('context', 203),\n",
              " ('contadores', 202),\n",
              " ('construção', 201),\n",
              " ('constituição', 200),\n",
              " ('consiste', 199),\n",
              " ('consideração', 198),\n",
              " ('considerando', 197),\n",
              " ('considerados', 196),\n",
              " ('conjunto', 195),\n",
              " ('conhecimentos', 194),\n",
              " ('conhecimento', 193),\n",
              " ('condição', 192),\n",
              " ('conclusão', 191),\n",
              " ('concepções', 190),\n",
              " ('concepção', 189),\n",
              " ('concept', 188),\n",
              " ('conceitual', 187),\n",
              " ('conceitos', 186),\n",
              " ('conceito', 185),\n",
              " ('comunitária', 184),\n",
              " ('comunidades', 183),\n",
              " ('comunidade', 182),\n",
              " ('comunhão', 181),\n",
              " ('comum', 180),\n",
              " ('computacional', 179),\n",
              " ('compreensões', 178),\n",
              " ('compreensão', 177),\n",
              " ('compreender', 176),\n",
              " ('comportamento', 175),\n",
              " ('componentes', 174),\n",
              " ('competitividade', 173),\n",
              " ('compartilhada', 172),\n",
              " ('compared', 171),\n",
              " ('combination', 170),\n",
              " ('colubrina', 169),\n",
              " ('coleta', 168),\n",
              " ('colaborativo', 167),\n",
              " ('cognitivos', 166),\n",
              " ('classificação', 165),\n",
              " ('classification', 164),\n",
              " ('citologia', 163),\n",
              " ('cinema', 162),\n",
              " ('cinco', 161),\n",
              " ('científico', 160),\n",
              " ('cidade', 159),\n",
              " ('ciclos', 158),\n",
              " ('chamados', 157),\n",
              " ('chamada', 156),\n",
              " ('celular', 155),\n",
              " ('cearense', 154),\n",
              " ('casos', 153),\n",
              " ('caso', 152),\n",
              " ('cascade', 151),\n",
              " ('caráter', 150),\n",
              " ('cariri', 149),\n",
              " ('características', 148),\n",
              " ('caracteriza', 147),\n",
              " ('campo', 146),\n",
              " ('caminho', 145),\n",
              " ('calotropis', 144),\n",
              " ('called', 143),\n",
              " ('caesalpinia', 142),\n",
              " ('cada', 141),\n",
              " ('caatinga', 140),\n",
              " ('básica', 139),\n",
              " ('busca', 138),\n",
              " ('brasileiros', 137),\n",
              " ('brasileira', 136),\n",
              " ('brasil', 135),\n",
              " ('borboleta', 134),\n",
              " ('bootstrap', 133),\n",
              " ('boa', 132),\n",
              " ('biologia', 131),\n",
              " ('biografias', 130),\n",
              " ('biografia', 129),\n",
              " ('better', 128),\n",
              " ('bens', 127),\n",
              " ('bem', 126),\n",
              " ('base', 125),\n",
              " ('baixo', 124),\n",
              " ('baixa', 123),\n",
              " ('açúcares', 122),\n",
              " ('ações', 121),\n",
              " ('ação', 120),\n",
              " ('aware', 119),\n",
              " ('avanço', 118),\n",
              " ('avaliação', 117),\n",
              " ('avaliarmos', 116),\n",
              " ('avaliados', 115),\n",
              " ('avaliadas', 114),\n",
              " ('available', 113),\n",
              " ('auxiliar', 112),\n",
              " ('autores', 111),\n",
              " ('automatically', 110),\n",
              " ('automated', 109),\n",
              " ('ausência', 108),\n",
              " ('aulas', 107),\n",
              " ('aula', 106),\n",
              " ('audiodescrições', 105),\n",
              " ('audiodescrição', 104),\n",
              " ('atuam', 103),\n",
              " ('atualmente', 102),\n",
              " ('atualidade', 101),\n",
              " ('atual', 100),\n",
              " ('atuais', 99),\n",
              " ('através', 98),\n",
              " ('atlântica', 97),\n",
              " ('atividades', 96),\n",
              " ('atividade', 95),\n",
              " ('ativa', 94),\n",
              " ('atitudes', 93),\n",
              " ('assunto', 92),\n",
              " ('associação', 91),\n",
              " ('associados', 90),\n",
              " ('associado', 89),\n",
              " ('assim', 88),\n",
              " ('assessment', 87),\n",
              " ('aspectos', 86),\n",
              " ('artificial', 85),\n",
              " ('artesãs', 84),\n",
              " ('area', 83),\n",
              " ('architectures', 82),\n",
              " ('architecture', 81),\n",
              " ('arbórea', 80),\n",
              " ('aqui', 79),\n",
              " ('após', 78),\n",
              " ('apresentação', 77),\n",
              " ('apresentarem', 76),\n",
              " ('apresentaram', 75),\n",
              " ('apresentar', 74),\n",
              " ('apresentamos', 73),\n",
              " ('apresentam', 72),\n",
              " ('apresentadas', 71),\n",
              " ('apresentada', 70),\n",
              " ('apresenta', 69),\n",
              " ('aprendizagens', 68),\n",
              " ('aprendizagem', 67),\n",
              " ('approach', 66),\n",
              " ('applied', 65),\n",
              " ('applications', 64),\n",
              " ('application', 63),\n",
              " ('apontam', 62),\n",
              " ('apontados', 61),\n",
              " ('apoio', 60),\n",
              " ('aplicações', 59),\n",
              " ('aplicação', 58),\n",
              " ('aplicativos', 57),\n",
              " ('aplicativo', 56),\n",
              " ('aplicada', 55),\n",
              " ('apis', 54),\n",
              " ('apesar', 53),\n",
              " ('apenas', 52),\n",
              " ('análise', 51),\n",
              " ('anteras', 50),\n",
              " ('anos', 49),\n",
              " ('ano', 48),\n",
              " ('animais', 47),\n",
              " ('analisar', 46),\n",
              " ('analisados', 45),\n",
              " ('amostra', 44),\n",
              " ('ambientes', 43),\n",
              " ('ambiente', 42),\n",
              " ('ambiental', 41),\n",
              " ('ambientais', 40),\n",
              " ('além', 39),\n",
              " ('alunos', 38),\n",
              " ('alimentares', 37),\n",
              " ('alimentar', 36),\n",
              " ('alguns', 35),\n",
              " ('algumas', 34),\n",
              " ('algorithms', 33),\n",
              " ('algorithm', 32),\n",
              " ('ainda', 31),\n",
              " ('afetivas', 30),\n",
              " ('adls', 29),\n",
              " ('addresses', 28),\n",
              " ('adaptação', 27),\n",
              " ('acurácia', 26),\n",
              " ('aculturação', 25),\n",
              " ('acordo', 24),\n",
              " ('aconteceram', 23),\n",
              " ('acima', 22),\n",
              " ('acesso', 21),\n",
              " ('acerca', 20),\n",
              " ('acepção', 19),\n",
              " ('according', 18),\n",
              " ('acadêmicos', 17),\n",
              " ('acadêmica', 16),\n",
              " ('abstractions', 15),\n",
              " ('absolute', 14),\n",
              " ('abordam', 13),\n",
              " ('abordagens', 12),\n",
              " ('abordagem', 11),\n",
              " ('abordados', 10),\n",
              " ('able', 9),\n",
              " ('abelhas', 8),\n",
              " ('2019', 7),\n",
              " ('2014', 6),\n",
              " ('2010', 5),\n",
              " ('2009', 4),\n",
              " ('2007', 3),\n",
              " ('2001', 2),\n",
              " ('1991', 1),\n",
              " ('1990', 0)]"
            ]
          },
          "metadata": {},
          "execution_count": 21
        }
      ]
    },
    {
      "cell_type": "code",
      "source": [
        "count_vect.vocabulary_.items()"
      ],
      "metadata": {
        "colab": {
          "base_uri": "https://localhost:8080/"
        },
        "id": "91I1ULngVZvF",
        "outputId": "01525aa6-b352-4ed4-a9be-90c0e8c90ea0"
      },
      "execution_count": 22,
      "outputs": [
        {
          "output_type": "execute_result",
          "data": {
            "text/plain": [
              "dict_items([('empresas', 314), ('economia', 301), ('comunhão', 181), ('mercado', 564), ('sob', 875), ('ótica', 997), ('teoria', 910), ('empresa', 313), ('ambiente', 42), ('tarefa', 900), ('atual', 100), ('cada', 141), ('dia', 263), ('novas', 621), ('enquanto', 329), ('outras', 650), ('fato', 403), ('desigualdades', 251), ('sociais', 877), ('grande', 459), ('maioria', 542), ('qualidade', 780), ('vida', 976), ('grupo', 461), ('pessoas', 686), ('maior', 540), ('parte', 654), ('neste', 614), ('contexto', 204), ('1991', 1), ('edc', 305), ('dentre', 238), ('características', 148), ('utilizam', 966), ('através', 98), ('formação', 431), ('trabalho', 931), ('faz', 404), ('estudo', 380), ('ponto', 703), ('vista', 981), ('sido', 866), ('inserção', 499), ('destas', 257), ('relação', 825), ('sentido', 855), ('compreender', 176), ('processo', 747), ('desenvolvimento', 249), ('deste', 258), ('modo', 584), ('analisar', 46), ('perspectivas', 680), ('projeto', 758), ('revisão', 839), ('literatura', 531), ('sobre', 876), ('assunto', 92), ('quais', 779), ('estudados', 376), ('podem', 690), ('empresários', 315), ('sistema', 868), ('gestão', 451), ('quinze', 791), ('anos', 49), ('realizados', 802), ('estudos', 381), ('caso', 152), ('todas', 923), ('existentes', 392), ('região', 820), ('metropolitana', 573), ('recife', 808), ('final', 415), ('desde', 243), ('apenas', 52), ('recompensas', 809), ('financeiras', 417), ('materiais', 552), ('chamados', 157), ('bens', 127), ('precificação', 719), ('recursos', 812), ('ambientais', 40), ('condição', 192), ('necessária', 607), ('sustentabilidade', 891), ('ambiental', 41), ('concepção', 189), ('desse', 254), ('entendimento', 333), ('problemática', 745), ('passado', 660), ('fez', 410), ('conceito', 185), ('prática', 768), ('atualidade', 101), ('necessidade', 606), ('possível', 713), ('obtenção', 637), ('resultados', 837), ('questão', 789), ('representação', 829), ('naturais', 603), ('maiores', 541), ('investigação', 512), ('desses', 255), ('conhecimento', 193), ('atuais', 99), ('considerando', 197), ('sociedades', 880), ('segunda', 849), ('implica', 486), ('frente', 435), ('tradicional', 934), ('atualmente', 102), ('economias', 302), ('geral', 450), ('somente', 885), ('compreensão', 177), ('fundamentos', 440), ('princípios', 738), ('duas', 294), ('escolas', 349), ('pensamento', 668), ('econômico', 304), ('aqui', 79), ('poderão', 694), ('iluminar', 482), ('caminho', 145), ('ecológica', 300), ('aplicação', 58), ('conceitos', 186), ('associados', 90), ('preço', 731), ('podendo', 691), ('observações', 635), ('quanto', 783), ('possibilidade', 709), ('perspectiva', 679), ('novos', 622), ('natureza', 605), ('atividade', 95), ('econômica', 303), ('fundamental', 439), ('relações', 826), ('ecologia', 299), ('melhor', 562), ('abordagens', 12), ('âmbito', 994), ('desenvolvido', 248), ('necessários', 609), ('manutenção', 547), ('devem', 262), ('mesmos', 566), ('objeto', 630), ('sistemas', 869), ('valores', 970), ('assim', 88), ('pensar', 669), ('possibilidades', 710), ('abordagem', 11), ('estratégia', 372), ('local', 533), ('instaladas', 500), ('objetivo', 628), ('investigar', 510), ('funcionamento', 438), ('segundo', 850), ('dar', 228), ('base', 125), ('programa', 757), ('método', 597), ('cidade', 159), ('tipo', 922), ('contribuição', 209), ('após', 78), ('atuam', 103), ('dados', 227), ('junto', 517), ('analisados', 45), ('dado', 226), ('política', 700), ('pública', 775), ('solidária', 883), ('brasil', 135), ('avaliação', 117), ('ideológicos', 479), ('objetiva', 627), ('políticos', 702), ('ações', 121), ('estado', 361), ('enfrentamento', 325), ('ausência', 108), ('via', 974), ('tal', 897), ('elementos', 309), ('presentes', 723), ('sociedade', 879), ('país', 661), ('indicadores', 492), ('dentro', 239), ('brasileira', 136), ('meio', 561), ('principal', 736), ('ação', 120), ('desenvolvida', 246), ('desta', 256), ('teórico', 917), ('referência', 815), ('indicam', 493), ('campo', 146), ('políticas', 701), ('implementação', 485), ('renda', 828), ('análise', 51), ('exemplo', 391), ('outra', 649), ('população', 705), ('práticas', 769), ('onde', 643), ('associado', 89), ('produção', 751), ('trabalhadores', 927), ('embora', 310), ('potencial', 714), ('espaço', 354), ('tempo', 906), ('conclusão', 191), ('empreendimentos', 312), ('atividades', 96), ('ainda', 31), ('direito', 278), ('desafio', 240), ('tanto', 899), ('digital', 274), ('maranhão', 550), ('tecnologia', 903), ('aplicações', 59), ('partir', 658), ('chamada', 156), ('teóricos', 918), ('evolução', 390), ('rede', 813), ('utilização', 968), ('globalização', 453), ('estrutura', 374), ('implicações', 487), ('nacional', 600), ('história', 469), ('especialmente', 356), ('realidade', 797), ('maranhense', 549), ('aspectos', 86), ('compartilhada', 172), ('moda', 579), ('presente', 721), ('dissertação', 284), ('aculturação', 25), ('tema', 904), ('valor', 969), ('principalmente', 737), ('propostas', 763), ('design', 250), ('serviços', 861), ('objetivos', 629), ('formas', 429), ('níveis', 625), ('público', 777), ('pernambuco', 677), ('pesquisa', 684), ('pretende', 728), ('contribuir', 208), ('área', 992), ('forma', 427), ('fenômeno', 407), ('estados', 362), ('brasileiros', 137), ('período', 681), ('papel', 652), ('estaduais', 363), ('apresenta', 69), ('dois', 292), ('década', 297), ('primeiro', 733), ('estudiosos', 379), ('diferenças', 270), ('crescimento', 214), ('governo', 456), ('federal', 405), ('criação', 215), ('regiões', 821), ('privada', 739), ('questionamentos', 786), ('entretanto', 335), ('necessário', 608), ('obtidos', 638), ('função', 441), ('demais', 235), ('nesse', 612), ('estadual', 364), ('apresentada', 70), ('prestação', 727), ('comunitária', 184), ('extensão', 399), ('fafire', 402), ('semeando', 853), ('futuro', 442), ('refletir', 817), ('instituição', 502), ('ensino', 331), ('superior', 889), ('faculdade', 401), ('escolhido', 351), ('foco', 424), ('movimento', 588), ('contribuições', 210), ('ies', 481), ('nacionais', 599), ('bem', 126), ('sendo', 854), ('única', 999), ('caráter', 150), ('tratar', 944), ('conjunto', 195), ('instituições', 503), ('metodológico', 572), ('qualitativa', 781), ('documental', 291), ('realização', 804), ('entrevistas', 337), ('artesãs', 84), ('visitas', 980), ('investigações', 513), ('aconteceram', 23), ('2009', 4), ('2010', 5), ('além', 39), ('física', 444), ('apesar', 53), ('alguns', 35), ('debate', 231), ('acadêmica', 16), ('realmente', 805), ('comunidade', 182), ('realizadas', 799), ('competitividade', 173), ('setor', 863), ('1990', 0), ('setores', 864), ('motivação', 587), ('avanço', 118), ('nordeste', 619), ('boa', 132), ('performance', 672), ('importante', 488), ('dessa', 252), ('metodologia', 570), ('utilizada', 963), ('portanto', 706), ('durante', 295), ('mostram', 586), ('perante', 670), ('itália', 515), ('tese', 913), ('interpretar', 507), ('social', 878), ('cultural', 219), ('global', 452), ('vez', 973), ('casos', 153), ('grupos', 462), ('etnográfica', 385), ('etnográficos', 386), ('observamos', 633), ('processos', 748), ('construção', 201), ('nessa', 611), ('oportunidades', 645), ('peculiar', 662), ('termos', 912), ('diferentes', 269), ('realizado', 800), ('experiências', 395), ('sete', 862), ('locais', 532), ('observação', 634), ('participante', 655), ('luz', 535), ('acordo', 24), ('propõe', 765), ('experiência', 394), ('envolvendo', 339), ('dinâmicas', 277), ('ética', 995), ('estruturas', 375), ('reflexão', 818), ('comunidades', 183), ('testes', 915), ('modelos', 582), ('séries', 894), ('potência', 716), ('generalizados', 447), ('consiste', 199), ('estatística', 366), ('escore', 352), ('desempenho', 244), ('seguintes', 848), ('estatísticas', 367), ('saber', 842), ('versões', 972), ('corrigidas', 212), ('razão', 794), ('gradiente', 457), ('tamanho', 898), ('poder', 692), ('finalmente', 416), ('apresentamos', 73), ('reais', 795), ('probabilidade', 740), ('currículos', 223), ('cursos', 225), ('licenciatura', 528), ('matemática', 551), ('discussão', 282), ('conhecimentos', 194), ('gal', 445), ('serem', 858), ('componentes', 174), ('dessas', 253), ('diversos', 287), ('educação', 307), ('amostra', 44), ('matrizes', 556), ('curriculares', 221), ('pedagógicos', 667), ('disciplinas', 281), ('questionário', 787), ('utilizamos', 967), ('conteúdo', 205), ('conceitual', 187), ('município', 593), ('todos', 924), ('têm', 953), ('currículo', 222), ('tais', 896), ('conteúdos', 206), ('presença', 725), ('curricular', 220), ('visão', 983), ('professor', 752), ('entanto', 332), ('didática', 265), ('aprendizagem', 67), ('compreensões', 178), ('letramento', 524), ('estatístico', 368), ('licenciandos', 527), ('explorando', 396), ('dimensões', 275), ('críticas', 217), ('situação', 871), ('pois', 695), ('informações', 497), ('algumas', 34), ('questões', 790), ('respeito', 833), ('professores', 755), ('ensinam', 330), ('transformação', 940), ('possam', 708), ('criticamente', 216), ('promover', 759), ('curso', 224), ('exploração', 397), ('teórica', 916), ('sistemática', 870), ('trata', 942), ('envolvem', 338), ('abordam', 13), ('temática', 907), ('ênfase', 996), ('cognitivos', 166), ('proposta', 762), ('estatísticos', 369), ('teorias', 911), ('relativas', 823), ('participantes', 656), ('maneira', 545), ('interpretações', 509), ('levando', 525), ('consideração', 198), ('áreas', 993), ('temáticas', 908), ('dificuldades', 272), ('referentes', 814), ('aplicada', 55), ('estratégias', 373), ('interpretação', 508), ('encontros', 320), ('percebemos', 671), ('povo', 718), ('xukuru', 990), ('ororubá', 648), ('indígenas', 495), ('específicos', 358), ('identificar', 477), ('trabalhados', 928), ('iniciais', 498), ('planejamento', 687), ('sala', 844), ('aula', 106), ('etapas', 384), ('desenvolvidas', 247), ('colaborativo', 167), ('escolar', 348), ('mediante', 559), ('expressões', 398), ('recentes', 807), ('apontam', 62), ('importância', 489), ('protagonismo', 766), ('estudantes', 377), ('situações', 872), ('didáticas', 266), ('indivíduos', 494), ('utilizados', 965), ('vinculadas', 977), ('discussões', 283), ('ambientes', 43), ('sujeitos', 888), ('três', 947), ('participação', 657), ('docentes', 290), ('pouca', 717), ('número', 626), ('registro', 819), ('gráficos', 464), ('quatro', 785), ('crítico', 218), ('plano', 688), ('alunos', 38), ('apresentaram', 75), ('envolveram', 340), ('gráfico', 463), ('apresentação', 77), ('tratamento', 943), ('ativa', 94), ('destes', 259), ('afetivas', 30), ('pesquisas', 685), ('técnicos', 952), ('envolvidos', 341), ('tarefas', 901), ('apresentadas', 71), ('pedagogia', 663), ('seis', 852), ('cinco', 161), ('entrevista', 336), ('primeira', 732), ('etapa', 383), ('gerais', 449), ('acesso', 21), ('relatório', 824), ('realizada', 798), ('2014', 6), ('perguntas', 674), ('finais', 414), ('vídeo', 986), ('software', 882), ('média', 594), ('respostas', 835), ('encontradas', 317), ('graduação', 458), ('próprios', 771), ('ocorrência', 639), ('aplicativos', 57), ('tablets', 895), ('smartphones', 874), ('elaboração', 308), ('auxiliar', 112), ('digitais', 273), ('recurso', 811), ('diversas', 286), ('autores', 111), ('apresentam', 72), ('potencialidades', 715), ('escola', 347), ('aplicativo', 56), ('diante', 264), ('escolha', 350), ('instrumento', 504), ('básica', 139), ('médio', 596), ('apoio', 60), ('busca', 138), ('idioma', 480), ('limitações', 530), ('apresentarem', 76), ('considerados', 196), ('técnicas', 951), ('educacionais', 306), ('disso', 285), ('encontrados', 318), ('outros', 651), ('possibilita', 711), ('pedagógica', 664), ('especificamente', 357), ('uso', 961), ('públicas', 776), ('espaços', 355), ('oficinas', 641), ('trabalham', 929), ('concepções', 190), ('pedagógicas', 665), ('enfoque', 324), ('modelo', 581), ('logo', 534), ('formato', 430), ('momentos', 585), ('histórico', 471), ('pedagógico', 666), ('permutação', 676), ('bootstrap', 133), ('zoologia', 991), ('métodos', 598), ('problema', 742), ('real', 796), ('teste', 914), ('freqüência', 436), ('espécies', 360), ('animais', 47), ('contrato', 207), ('didático', 267), ('disciplina', 280), ('oferecida', 640), ('psicologia', 772), ('ufpe', 955), ('permeiam', 675), ('mesma', 565), ('dinâmica', 276), ('universidade', 957), ('caracteriza', 147), ('visto', 982), ('encontrar', 319), ('típica', 954), ('tomada', 925), ('acerca', 20), ('atitudes', 93), ('escala', 346), ('professora', 753), ('aulas', 107), ('professoras', 754), ('apontados', 61), ('trajetórias', 939), ('matilde', 553), ('gómez', 467), ('realizadoras', 801), ('cinema', 162), ('mapeamento', 548), ('reconhecimento', 810), ('nesta', 613), ('trabalhos', 932), ('acadêmicos', 17), ('trajetória', 938), ('início', 514), ('ano', 48), ('municipal', 592), ('ciclos', 158), ('identidade', 476), ('perpassa', 678), ('tradições', 935), ('constituição', 200), ('possibilitou', 712), ('narrativas', 601), ('quase', 784), ('vinte', 978), ('identificação', 478), ('porém', 707), ('saberes', 843), ('mobilizados', 577), ('cotidiano', 213), ('mobilizam', 578), ('desenvolver', 245), ('docente', 289), ('turmas', 949), ('2001', 2), ('2019', 7), ('coleta', 168), ('metodologias', 571), ('utilizadas', 964), ('acepção', 19), ('histórias', 470), ('quadrinhos', 778), ('adaptação', 27), ('várias', 984), ('grandes', 460), ('tradicionais', 933), ('apresentar', 74), ('leitura', 523), ('pressuposto', 726), ('profissionais', 756), ('produto', 750), ('viabilidade', 975), ('biografia', 129), ('históricos', 472), ('biografias', 130), ('historiografia', 468), ('mediação', 560), ('pode', 689), ('trabalhar', 930), ('estudar', 378), ('orientações', 647), ('levantamento', 526), ('vários', 985), ('didáticos', 268), ('muitos', 589), ('filmes', 411), ('questionários', 788), ('parâmetros', 659), ('avaliados', 115), ('associação', 91), ('entidade', 334), ('tendo', 909), ('principais', 735), ('cariri', 149), ('cearense', 154), ('memória', 563), ('transmissão', 941), ('contadores', 202), ('norte', 620), ('classificação', 165), ('reprodução', 832), ('formais', 428), ('baixo', 124), ('francisco', 434), ('biologia', 131), ('fenômenos', 408), ('institucionalizados', 501), ('aprendizagens', 68), ('interdisciplinaridade', 506), ('avaliarmos', 116), ('realizamos', 803), ('enem', 322), ('abordados', 10), ('manual', 546), ('urbanos', 958), ('energia', 323), ('química', 792), ('audiodescrição', 104), ('deficiência', 233), ('turma', 948), ('imagens', 483), ('citologia', 163), ('qualquer', 782), ('audiodescrições', 105), ('acima', 22), ('inclusiva', 491), ('ferramenta', 409), ('poderá', 693), ('reprodutiva', 830), ('leguminosae', 522), ('caatinga', 140), ('colubrina', 169), ('arbórea', 80), ('espécie', 359), ('floral', 420), ('polinização', 698), ('reprodutivo', 831), ('2007', 3), ('estação', 370), ('seca', 846), ('flores', 422), ('néctar', 624), ('polinizadores', 697), ('abelhas', 8), ('apis', 54), ('trigona', 946), ('spinipes', 886), ('borboleta', 134), ('óvulos', 998), ('flor', 418), ('políade', 699), ('grãos', 465), ('pólen', 774), ('baixa', 123), ('natural', 604), ('frutos', 437), ('encontrada', 316), ('gênero', 466), ('comum', 180), ('floração', 421), ('fenologia', 406), ('caesalpinia', 142), ('echinata', 298), ('floresta', 423), ('atlântica', 97), ('nativa', 602), ('episódios', 342), ('pétalas', 773), ('estames', 365), ('anteras', 50), ('açúcares', 122), ('visitantes', 979), ('médias', 595), ('observadas', 631), ('polinizadoras', 696), ('comportamento', 175), ('experimentos', 393), ('evolutiva', 389), ('dua', 293), ('avaliadas', 114), ('primeiros', 734), ('socorros', 881), ('discente', 279), ('saúde', 845), ('sequência', 857), ('investigativa', 511), ('sei', 851), ('total', 926), ('problemas', 743), ('temas', 905), ('geradores', 448), ('prévios', 770), ('equipes', 343), ('científico', 160), ('fim', 413), ('respiração', 834), ('celular', 155), ('mitocôndrias', 574), ('rio', 840), ('calotropis', 144), ('procera', 746), ('florais', 419), ('observado', 632), ('estuário', 382), ('pesca', 682), ('machos', 538), ('fêmeas', 443), ('pesos', 683), ('esforço', 353), ('estimadas', 371), ('hábitos', 475), ('alimentares', 37), ('jovens', 516), ('alimentar', 36), ('interativa', 505), ('time', 921), ('aware', 119), ('new', 618), ('learning', 521), ('rate', 793), ('method', 567), ('hyperparameters', 474), ('training', 937), ('deep', 232), ('neural', 617), ('network', 615), ('good', 455), ('result', 836), ('error', 345), ('make', 543), ('one', 644), ('going', 454), ('context', 203), ('area', 83), ('information', 496), ('able', 9), ('called', 143), ('taso', 902), ('proposes', 761), ('proposed', 760), ('improve', 490), ('better', 128), ('series', 859), ('evaluate', 387), ('different', 271), ('methods', 569), ('results', 838), ('obtained', 636), ('three', 920), ('datasets', 230), ('architectures', 82), ('presents', 724), ('evaluated', 388), ('multilayer', 591), ('networks', 616), ('present', 720), ('thesis', 919), ('automatically', 110), ('artificial', 85), ('mlp', 575), ('models', 583), ('need', 610), ('combination', 170), ('number', 623), ('using', 960), ('splitting', 887), ('model', 580), ('order', 646), ('data', 229), ('algorithm', 32), ('developed', 261), ('produce', 749), ('train', 936), ('used', 959), ('several', 865), ('mlps', 576), ('matrix', 554), ('compared', 171), ('pool', 704), ('define', 234), ('performing', 673), ('single', 867), ('available', 113), ('filtro', 412), ('kalman', 518), ('extreme', 400), ('machine', 536), ('previsão', 730), ('treinamento', 945), ('sequencial', 856), ('matriz', 555), ('multicolinearidade', 590), ('proposto', 764), ('computacional', 179), ('erro', 344), ('engrenagens', 328), ('framework', 433), ('dentes', 237), ('engrenagem', 327), ('web', 988), ('convolutional', 211), ('acurácia', 26), ('support', 890), ('vector', 971), ('malware', 544), ('detection', 260), ('macos', 539), ('recent', 806), ('however', 473), ('problem', 741), ('solutions', 884), ('previously', 729), ('systems', 893), ('endpoint', 321), ('security', 847), ('system', 892), ('limitations', 529), ('large', 520), ('work', 989), ('algorithms', 33), ('two', 950), ('four', 432), ('presented', 722), ('demonstrate', 236), ('forecasting', 425), ('forest', 426), ('usually', 962), ('dnns', 288), ('cascade', 151), ('gcforest', 446), ('classification', 164), ('addresses', 28), ('problems', 744), ('applied', 65), ('way', 987), ('according', 18), ('mean', 557), ('absolute', 14), ('automated', 109), ('oil', 642), ('refinery', 816), ('risk', 841), ('assessment', 87), ('machines', 537), ('approach', 66), ('smadl', 873), ('architecture', 81), ('description', 242), ('language', 519), ('applications', 64), ('emerging', 311), ('describe', 241), ('services', 860), ('dynamically', 296), ('relationships', 822), ('application', 63), ('concept', 188), ('adls', 29), ('abstractions', 15), ('means', 558), ('provide', 767), ('unified', 956), ('paradigm', 653), ('implement', 484), ('engineering', 326), ('reliability', 827), ('methodologies', 568)])"
            ]
          },
          "metadata": {},
          "execution_count": 22
        }
      ]
    },
    {
      "cell_type": "code",
      "source": [
        "X = count_vect.transform(pre_processed_documents)"
      ],
      "metadata": {
        "id": "qvUBQwPOdc70"
      },
      "execution_count": 23,
      "outputs": []
    },
    {
      "cell_type": "code",
      "source": [
        "X.shape"
      ],
      "metadata": {
        "colab": {
          "base_uri": "https://localhost:8080/"
        },
        "id": "itje4Cvnddem",
        "outputId": "406d0406-8584-44d6-d0fe-4f05429cd4fe"
      },
      "execution_count": 24,
      "outputs": [
        {
          "output_type": "execute_result",
          "data": {
            "text/plain": [
              "(50, 1000)"
            ]
          },
          "metadata": {},
          "execution_count": 24
        }
      ]
    },
    {
      "cell_type": "code",
      "source": [
        "print(X[0,:])"
      ],
      "metadata": {
        "colab": {
          "base_uri": "https://localhost:8080/"
        },
        "id": "zV_AnZ65dipU",
        "outputId": "4daab16a-95fe-4a8a-ca8c-44c8367c932c"
      },
      "execution_count": 25,
      "outputs": [
        {
          "output_type": "stream",
          "name": "stdout",
          "text": [
            "  (0, 1)\t1\n",
            "  (0, 42)\t1\n",
            "  (0, 46)\t1\n",
            "  (0, 49)\t1\n",
            "  (0, 52)\t1\n",
            "  (0, 92)\t1\n",
            "  (0, 98)\t1\n",
            "  (0, 100)\t1\n",
            "  (0, 127)\t1\n",
            "  (0, 141)\t1\n",
            "  (0, 148)\t2\n",
            "  (0, 152)\t1\n",
            "  (0, 157)\t1\n",
            "  (0, 176)\t1\n",
            "  (0, 181)\t2\n",
            "  (0, 204)\t1\n",
            "  (0, 238)\t1\n",
            "  (0, 243)\t1\n",
            "  (0, 249)\t2\n",
            "  (0, 251)\t2\n",
            "  (0, 257)\t1\n",
            "  (0, 258)\t1\n",
            "  (0, 263)\t1\n",
            "  (0, 301)\t2\n",
            "  (0, 305)\t2\n",
            "  :\t:\n",
            "  (0, 747)\t1\n",
            "  (0, 758)\t4\n",
            "  (0, 779)\t1\n",
            "  (0, 780)\t1\n",
            "  (0, 791)\t1\n",
            "  (0, 802)\t1\n",
            "  (0, 808)\t1\n",
            "  (0, 809)\t2\n",
            "  (0, 820)\t1\n",
            "  (0, 825)\t1\n",
            "  (0, 839)\t1\n",
            "  (0, 855)\t1\n",
            "  (0, 866)\t2\n",
            "  (0, 868)\t1\n",
            "  (0, 875)\t1\n",
            "  (0, 876)\t1\n",
            "  (0, 877)\t2\n",
            "  (0, 900)\t1\n",
            "  (0, 910)\t2\n",
            "  (0, 923)\t1\n",
            "  (0, 931)\t1\n",
            "  (0, 966)\t1\n",
            "  (0, 976)\t1\n",
            "  (0, 981)\t1\n",
            "  (0, 997)\t1\n"
          ]
        }
      ]
    },
    {
      "cell_type": "code",
      "source": [
        "tfidf_transformer = TfidfTransformer()\n",
        "tfidf_transformer.fit(X)"
      ],
      "metadata": {
        "colab": {
          "base_uri": "https://localhost:8080/"
        },
        "id": "KnGvUY-bdnAg",
        "outputId": "d75c427e-9af8-48de-ce27-baacc346e7ac"
      },
      "execution_count": 26,
      "outputs": [
        {
          "output_type": "execute_result",
          "data": {
            "text/plain": [
              "TfidfTransformer()"
            ]
          },
          "metadata": {},
          "execution_count": 26
        }
      ]
    },
    {
      "cell_type": "code",
      "source": [
        "X_tfidf = tfidf_transformer.transform(X)\n",
        "print(X_tfidf[0,:])"
      ],
      "metadata": {
        "colab": {
          "base_uri": "https://localhost:8080/"
        },
        "id": "7ks1zknddpjN",
        "outputId": "f8686bdf-6056-40ce-be15-f2c687e1892c"
      },
      "execution_count": 27,
      "outputs": [
        {
          "output_type": "stream",
          "name": "stdout",
          "text": [
            "  (0, 997)\t0.08496357102942043\n",
            "  (0, 981)\t0.07858706807934374\n",
            "  (0, 976)\t0.06061271579544726\n",
            "  (0, 966)\t0.07858706807934374\n",
            "  (0, 931)\t0.03796771001418114\n",
            "  (0, 923)\t0.07858706807934374\n",
            "  (0, 910)\t0.14728213627757472\n",
            "  (0, 900)\t0.08496357102942043\n",
            "  (0, 877)\t0.16992714205884085\n",
            "  (0, 876)\t0.04291370995473752\n",
            "  (0, 875)\t0.06618312614348393\n",
            "  (0, 868)\t0.06322338898731883\n",
            "  (0, 866)\t0.14728213627757472\n",
            "  (0, 855)\t0.07858706807934374\n",
            "  (0, 839)\t0.07858706807934374\n",
            "  (0, 825)\t0.049290212904814196\n",
            "  (0, 820)\t0.05827738904676244\n",
            "  (0, 809)\t0.18790149434273734\n",
            "  (0, 808)\t0.06618312614348393\n",
            "  (0, 802)\t0.07364106813878736\n",
            "  (0, 791)\t0.08496357102942043\n",
            "  (0, 780)\t0.08496357102942043\n",
            "  (0, 779)\t0.05423621284537058\n",
            "  (0, 758)\t0.31434827231737494\n",
            "  (0, 747)\t0.04524903670342235\n",
            "  :\t:\n",
            "  (0, 305)\t0.16992714205884085\n",
            "  (0, 301)\t0.11232965806769163\n",
            "  (0, 263)\t0.07858706807934374\n",
            "  (0, 258)\t0.056164829033845814\n",
            "  (0, 257)\t0.07364106813878736\n",
            "  (0, 251)\t0.16992714205884085\n",
            "  (0, 249)\t0.10492411586898139\n",
            "  (0, 243)\t0.07364106813878736\n",
            "  (0, 238)\t0.07858706807934374\n",
            "  (0, 204)\t0.05827738904676244\n",
            "  (0, 181)\t0.16992714205884085\n",
            "  (0, 176)\t0.0695998919373955\n",
            "  (0, 157)\t0.08496357102942043\n",
            "  (0, 152)\t0.0695998919373955\n",
            "  (0, 148)\t0.12644677797463766\n",
            "  (0, 141)\t0.06061271579544726\n",
            "  (0, 127)\t0.08496357102942043\n",
            "  (0, 100)\t0.07858706807934374\n",
            "  (0, 98)\t0.0478597098952939\n",
            "  (0, 92)\t0.07364106813878736\n",
            "  (0, 52)\t0.07364106813878736\n",
            "  (0, 49)\t0.056164829033845814\n",
            "  (0, 46)\t0.049290212904814196\n",
            "  (0, 42)\t0.07364106813878736\n",
            "  (0, 1)\t0.07858706807934374\n"
          ]
        }
      ]
    },
    {
      "cell_type": "code",
      "source": [
        "X_tfidf.shape"
      ],
      "metadata": {
        "colab": {
          "base_uri": "https://localhost:8080/"
        },
        "id": "ykqOKBiidrL7",
        "outputId": "36028ddc-64c2-4e17-b4d2-8dde18e57abb"
      },
      "execution_count": 28,
      "outputs": [
        {
          "output_type": "execute_result",
          "data": {
            "text/plain": [
              "(50, 1000)"
            ]
          },
          "metadata": {},
          "execution_count": 28
        }
      ]
    },
    {
      "cell_type": "code",
      "source": [
        "# Pre processamento\n",
        "final_list_stop_words = list_stop + custom_list_stop\n",
        "query = 'Economia digital na era do machine learning deep learning, inteligência artificial, um panorama histórico no brasil e no mundo'\n",
        "\n",
        "query_tokens = [token for token in word_tokenize(query, language='portuguese') if not token in final_list_stop_words]\n",
        "print(query_tokens)\n",
        "pre_processed_query = ' '.join(query_tokens)\n",
        "print(pre_processed_query)\n",
        "\n",
        "# Extração de características de contagem\n",
        "X_query = count_vect.transform([pre_processed_query])\n",
        "print('1a etapa de extração de características')\n",
        "print(X_query)\n",
        "\n",
        "# Extração de características de frequência TF-IDF\n",
        "X_tfidf_query = tfidf_transformer.transform(X_query)\n",
        "print('2a etapa de extração de características')\n",
        "print(X_tfidf_query)"
      ],
      "metadata": {
        "colab": {
          "base_uri": "https://localhost:8080/"
        },
        "id": "5qvxGTChd026",
        "outputId": "90944206-f03e-4d59-f5e2-8f39304628f3"
      },
      "execution_count": 29,
      "outputs": [
        {
          "output_type": "stream",
          "name": "stdout",
          "text": [
            "['Economia', 'digital', 'machine', 'learning', 'deep', 'learning', ',', 'inteligência', 'artificial', ',', 'panorama', 'histórico', 'brasil', 'mundo']\n",
            "Economia digital machine learning deep learning , inteligência artificial , panorama histórico brasil mundo\n",
            "1a etapa de extração de características\n",
            "  (0, 85)\t1\n",
            "  (0, 135)\t1\n",
            "  (0, 232)\t1\n",
            "  (0, 274)\t1\n",
            "  (0, 301)\t1\n",
            "  (0, 471)\t1\n",
            "  (0, 521)\t2\n",
            "  (0, 536)\t1\n",
            "2a etapa de extração de características\n",
            "  (0, 536)\t0.28124096887968403\n",
            "  (0, 521)\t0.5624819377593681\n",
            "  (0, 471)\t0.3275826507313855\n",
            "  (0, 301)\t0.24984188901371443\n",
            "  (0, 274)\t0.34958428395038205\n",
            "  (0, 232)\t0.3275826507313855\n",
            "  (0, 135)\t0.24984188901371443\n",
            "  (0, 85)\t0.3779493225297507\n"
          ]
        }
      ]
    },
    {
      "cell_type": "code",
      "source": [
        "sorted_X_indices = np.argsort(X.toarray(), axis=1)[:, ::-1]\n",
        "sorted_Xtfidf_indices = np.argsort(X_tfidf.toarray(), axis=1)[:,::-1]\n",
        "\n",
        "print('Termos mais comuns nos 10 primeiros documentos:')\n",
        "for i in range(10):\n",
        "  print(count_vect.get_feature_names_out()[sorted_X_indices[i, :3]])\n",
        "\n",
        "print('\\nTermos mais relevantes nos 10 primeiros documentos:')\n",
        "for i in range(10):\n",
        "  print(count_vect.get_feature_names_out()[sorted_Xtfidf_indices[i, :3]])\n",
        "\n",
        "print('\\nTermos mais relevantes na base de dados:')\n",
        "mean_Xtfidf = X_tfidf.mean(axis=0)\n",
        "sorted_meanXtfidf_indices = np.argsort(mean_Xtfidf)[::-1]\n",
        "print(count_vect.get_feature_names_out()[sorted_meanXtfidf_indices[:3]])"
      ],
      "metadata": {
        "colab": {
          "base_uri": "https://localhost:8080/"
        },
        "id": "trAPB1yxign-",
        "outputId": "bc16c061-0bc3-464e-df7e-9b5a6c6520b1"
      },
      "execution_count": 30,
      "outputs": [
        {
          "output_type": "stream",
          "name": "stdout",
          "text": [
            "Termos mais comuns nos 10 primeiros documentos:\n",
            "['empresas' 'projeto' 'empresa']\n",
            "['economia' 'ambiental' 'recursos']\n",
            "['local' 'desenvolvimento' 'empresas']\n",
            "['política' 'trabalho' 'economia']\n",
            "['economia' 'digital' 'relações']\n",
            "['moda' 'sustentabilidade' 'compartilhada']\n",
            "['estados' 'estaduais' 'governo']\n",
            "['extensão' 'semeando' 'futuro']\n",
            "['economia' 'competitividade' 'setor']\n",
            "['economia' 'solidária' 'movimento']\n",
            "\n",
            "Termos mais relevantes nos 10 primeiros documentos:\n",
            "['empresas' 'projeto' 'empresa']\n",
            "['ambiental' 'recursos' 'economia']\n",
            "['empresas' 'local' 'desenvolvimento']\n",
            "['política' 'solidária' 'economia']\n",
            "['economia' 'digital' 'relações']\n",
            "['moda' 'compartilhada' 'sustentabilidade']\n",
            "['estados' 'governo' 'estaduais']\n",
            "['extensão' 'semeando' 'futuro']\n",
            "['competitividade' 'setor' 'economia']\n",
            "['solidária' 'movimento' 'economia']\n",
            "\n",
            "Termos mais relevantes na base de dados:\n",
            "[['atitudes' 'permeiam' 'típica' 'ufpe' 'próprios' 'foco' 'visto'\n",
            "  'transformação' 'primeira' 'vinculadas' 'única' '2010' 'abordam'\n",
            "  'abordados' 'química' 'pouca' 'envolveram' 'ativa' 'mediante' 'recent'\n",
            "  'técnicos' 'francisco' 'manual' 'energia' 'enem' 'realizamos'\n",
            "  'avaliarmos' 'gerais' 'população' 'escolhido' 'aconteceram' 'tratar'\n",
            "  'abordagens' 'according' 'apontados' 'tomada' 'públicas' 'escala'\n",
            "  'implementação' 'preço' 'iluminar' 'encontrados' 'trata' 'embora'\n",
            "  'peculiar' 'gal' 'adls' 'application' 'abstractions' 'means'\n",
            "  'necessários' 'professora' 'dinâmica' 'pedagógico' 'vídeo' 'podendo'\n",
            "  'atualmente' 'absolute' 'aplicativo' 'idioma' 'pensar' 'geradores'\n",
            "  'prévios' 'trabalhadores' 'associado' 'enfrentamento' 'ideológicos'\n",
            "  'ética' 'addresses' 'erro' 'matriz' 'atualidade' 'fez' 'investigações'\n",
            "  'entendimento' 'etnográfica' 'florais' 'açúcares' 'pétalas'\n",
            "  'possibilitou' 'implica' 'pedagógicas' 'várias' 'trabalhados'\n",
            "  'associados' 'problemática' 'poderão' 'empreendimentos' 'area'\n",
            "  'possibilita' 'perguntas' 'financeiras' 'avaliadas' 'existentes' '2009'\n",
            "  'teórica' 'encontrar' 'necessário' 'amostra' 'tratamento' 'didáticas'\n",
            "  'explorando' 'promover' 'médias' 'física' 'viabilidade' 'floral'\n",
            "  'encontrada' 'two' 'apresentada' 'qualidade' 'temáticas' 'ensinam'\n",
            "  'cognitivos' 'perpassa' 'ênfase' 'quase' 'especificamente' 'acadêmica'\n",
            "  'necessária' 'estudar' 'gráfico' 'refletir' 'exemplo' 'acepção'\n",
            "  'single' 'apresentarem' 'caráter' 'turmas' 'presents' 'fenômenos'\n",
            "  'baixo' 'associação' 'avaliados' 'previously' 'urbanos' 'mitocôndrias'\n",
            "  'referentes' 'iniciais' 'trabalhar' 'participação' 'plano'\n",
            "  'tradicionais' 'implement' 'município' 'mesma' 'percebemos' 'estames'\n",
            "  'polinizadoras' 'episódios' 'sociedades' 'estadual' 'específicos'\n",
            "  'respeito' 'relatório' 'caracteriza' 'interpretações' 'nesta'\n",
            "  'mapeamento' 'arbórea' 'exploração' 'adaptação' 'encontradas' 'four'\n",
            "  'large' 'limitations' 'however' 'fundamentos' 'caminho' 'endpoint'\n",
            "  'interdisciplinaridade' 'oferecida' 'potencialidades' 'motivação'\n",
            "  '2007' 'tradições' 'perante' 'aprendizagens' 'escolha' 'esforço'\n",
            "  'estimadas' 'estuário' 'criticamente' 'recentes' 'devem' 'estudiosos'\n",
            "  'desenvolvidas' 'indígenas' 'logo' '2001' 'usually' 'vinte' 'desafio'\n",
            "  'envolvendo' 'espaço' 'compreensões' 'tarefas' 'indivíduos' 'formato'\n",
            "  'called' 'pretende' 'quinze' 'instituição' 'prestação' 'faculdade'\n",
            "  'comunitária' 'artesãs' 'maneira' 'saúde' 'termos' 'reflexão'\n",
            "  'experimentos' 'approach' 'respostas' 'fim' 'total' 'consideração'\n",
            "  'levando' 'mostram' 'ambientes' 'etnográficos' 'able' 'dinâmicas'\n",
            "  'estudados' 'instituições' 'evaluated' 'fenômeno' 'encontros'\n",
            "  'trabalham' 'evaluate' 'improve' 'vista' 'aculturação' 'dynamically'\n",
            "  'relationships' 'aware' 'entanto' 'matrix' 'dentre' 'segunda' '2019'\n",
            "  'sistemática' '1990' 'questionários' 'acesso' 'questionamentos' 'apoio'\n",
            "  'professoras' 'classificação' 'documental' 'público' 'políticos'\n",
            "  'frente' 'mean' 'cascade' 'qualquer' 'inclusiva' 'audiodescrições'\n",
            "  'objeto' 'situação' 'locais' 'observações' 'básica' 'smartphones'\n",
            "  'tablets' 'limitações' 'possam' 'nativa' 'visitantes' 'contribuir'\n",
            "  'grandes' 'licenciatura' 'need' 'junto' 'pesos' 'científico' 'socorros'\n",
            "  'temas' 'primeiros' 'discente' 'make' 'apontam' 'pode' 'jovens'\n",
            "  'filtro' 'multicolinearidade' 'engrenagem' 'acurácia' 'sete' 'work'\n",
            "  'estruturas' 'sentido' 'contribuições' 'implicações' 'solutions'\n",
            "  'observado' 'grãos' 'conjunto' 'presented' 'busca' 'utilizamos'\n",
            "  'oportunidades' 'poderá' 'grupos' 'ferramenta' 'performing' 'apis'\n",
            "  'crítico' 'combination' 'norte' 'diferenças' 'apresentadas' 'realizada'\n",
            "  'empresários' 'recompensas' 'comportamento' 'reprodução' 'applied'\n",
            "  'globalização' 'apresentaram' 'anteras' 'observadas' 'utilizam'\n",
            "  'pedagógicos' 'artificial' 'temática' 'frutos' 'dia' 'dessas'\n",
            "  'possibilidades' 'aqui' 'renda' 'materiais' 'acordo' 'reprodutivo'\n",
            "  'gênero' 'compared' 'freqüência' 'enfoque' 'modelo' 'mlps' 'mlp'\n",
            "  'train' 'multilayer' 'pool' 'função' 'valor' 'realmente' 'destas'\n",
            "  'interpretar' 'acima' 'todas' 'entrevista' 'início' 'universidade'\n",
            "  'diversas' 'apenas' 'security' 'institucionalizados' 'observamos'\n",
            "  'entidade' 'qualitativa' 'políticas' 'dado' 'crescimento' 'disciplinas'\n",
            "  'metodologias' 'rio' 'utilizados' 'presentes' 'povo' 'ororubá' 'xukuru'\n",
            "  'one' 'ocorrência' 'avanço' 'serem' 'result' 'vários' 'comunidade'\n",
            "  'oficinas' 'going' 'tal' 'técnicas' 'manutenção' 'sistemas' 'citologia'\n",
            "  'acadêmicos' 'trajetória' 'matilde' 'gómez' 'trajetórias' 'turma'\n",
            "  'mobilizam' 'mobilizados' 'cotidiano' 'systems' 'present' 'automated'\n",
            "  'dar' 'envolvem' 'fafire' 'conceitual' 'ambientais' 'naturais'\n",
            "  'estratégia' 'spinipes' 'borboleta' 'baixa' 'computacional'\n",
            "  'transmissão' 'somente' 'ótica' 'architecture' 'respiração' 'celular'\n",
            "  'maiores' 'destes' 'experiências' 'unified' 'paradigm' 'criação'\n",
            "  'caesalpinia' 'floresta' 'atlântica' 'ecologia' '2014' 'pressuposto'\n",
            "  'system' 'demonstrate' 'description' 'smadl' 'finais' 'valores'\n",
            "  'global' 'ies' 'visão' 'contrato' 'muitos' 'tais' 'momentos' 'produto'\n",
            "  '1991' 'municipal' 'fato' 'referência' 'constituição' 'faz' 'way'\n",
            "  'atuam' 'desenvolvido' 'instaladas' 'pesca' 'forest' 'gcforest' 'dnns'\n",
            "  'leguminosae' 'passado' 'realidade' 'curricular' 'engineering'\n",
            "  'apresentam' 'error' 'registro' 'historiografia' 'históricos'\n",
            "  'biografia' 'outros' 'proposed' 'revisão' 'thesis' 'relativas' 'melhor'\n",
            "  'direito' 'disso' 'sei' 'investigativa' 'good' 'desse' 'situações'\n",
            "  'obtidos' 'sociais' 'nesse' 'interativa' 'alimentares' 'alimentar'\n",
            "  'hábitos' 'kalman' 'previsão' 'diversos' 'ponto' 'autores' 'pois'\n",
            "  'porém' 'principal' 'calotropis' 'fenologia' 'diante' 'participante'\n",
            "  'privada' 'casos' 'modo' 'proposes' 'animais' 'país' 'algorithm'\n",
            "  'classification' 'problem' 'programa' 'gestão' 'itália' 'conclusão'\n",
            "  'tradicional' 'seis' 'instrumento' 'floração' 'emerging' 'utilizadas'\n",
            "  'coleta' 'indicadores' 'pensamento' 'obtained' 'apresentação'\n",
            "  'evolutiva' 'planejamento' 'hyperparameters' 'taso' 'entretanto'\n",
            "  'ausência' 'aplicações' 'inserção' 'literatura' 'reconhecimento'\n",
            "  'desenvolver' 'teste' 'propostas' 'vector' 'envolvidos' 'presente'\n",
            "  'indicam' 'conceito' 'extreme' 'mesmos' 'condição' 'desde' 'filmes'\n",
            "  'acerca' 'tema' 'metodológico' 'ecológica' 'audiodescrição'\n",
            "  'convolutional' 'provide' 'comum' 'real' 'dimensões' 'available'\n",
            "  'polinizadores' 'narrativas' 'identificação' 'presença' 'desses'\n",
            "  'apesar' 'pública' 'nessa' 'algorithms' 'perspectivas' 'superior'\n",
            "  'algumas' 'graduação' 'seca' 'recurso' 'problemas' 'parâmetros'\n",
            "  'potencial' 'docente' 'precificação' 'framework' 'realizadas'\n",
            "  'elementos' 'automatically' 'produce' 'políade' 'colubrina' 'flor'\n",
            "  'possibilidade' 'parte' 'níveis' 'tarefa' 'ciclos' 'visitas' 'serviços'\n",
            "  'escola' 'nacionais' 'via' 'brasileiros' 'several' 'principais'\n",
            "  'discussões' 'problems' 'econômico' 'language' 'contribuição'\n",
            "  'apresentar' 'data' 'realizado' 'comunidades' 'results' 'bens' 'three'\n",
            "  'compreensão' 'protagonismo' 'papel' 'methods' 'services' 'concept'\n",
            "  'matrizes' 'probabilidade' 'atual' 'desenvolvida' 'considerando'\n",
            "  'memória' 'forecasting' 'zoologia' 'bootstrap' 'permutação'\n",
            "  'elaboração' 'estudos' 'define' 'novas' 'splitting' 'vez'\n",
            "  'especialmente' 'echinata' 'identidade' 'orientações' 'equipes' 'média'\n",
            "  'pedagogia' 'cinco' 'proposto' 'aplicada' 'teorias' 'reais'\n",
            "  'apresentamos' 'poder' 'finalmente' 'gradiente' 'realizados' 'abelhas'\n",
            "  'natural' 'describe' 'atividade' 'utilização' 'information' 'cultural'\n",
            "  'participantes' 'identificar' 'alguns' 'teoria' 'problema' 'observação'\n",
            "  'order' 'sob' 'avaliação' 'outra' 'currículo' 'atuais' 'leitura'\n",
            "  'final' 'colaborativo' 'importância' 'tese' 'caso' 'educacionais'\n",
            "  'pesquisas' 'setores' 'assunto' 'new' 'developed' 'óvulos' 'pólen'\n",
            "  'considerados' 'chamada' 'afetivas' 'dentro' 'formas' 'chamados'\n",
            "  'assessment' 'refinery' 'digitais' 'questões' 'number' 'futuro'\n",
            "  'semeando' 'dificuldades' 'sociedade' 'luz' 'nacional' 'empresa'\n",
            "  'imagens' 'obtenção' 'ainda' 'evolução' 'críticas' 'nordeste'\n",
            "  'econômica' 'escolar' 'tanto' 'debate' 'tendo' 'reprodutiva' 'docentes'\n",
            "  'cidade' 'desempenho' 'estrutura' 'datasets' 'setor' 'competitividade'\n",
            "  'etapa' 'reliability' 'methodologies' 'currículos' 'apresenta'\n",
            "  'maranhão' 'maranhense' 'número' 'maior' 'objetiva' 'desigualdades'\n",
            "  'outras' 'quatro' 'geral' 'mediação' 'sujeitos' 'utilizada' 'após'\n",
            "  'compreender' 'consiste' 'razão' 'experiência' 'demais' 'diferentes'\n",
            "  'architectures' 'tamanho' 'licenciandos' 'propõe' 'bem' 'profissionais'\n",
            "  'maioria' 'better' 'seguintes' 'etapas' 'importante' 'trigona'\n",
            "  'discussão' 'treinamento' 'rate' 'pernambuco' 'têm' 'informações'\n",
            "  'gráficos' 'teóricos' 'componentes' 'caatinga' 'sequencial'\n",
            "  'realização' 'dentes' 'engrenagens' 'boa' 'necessidade' 'natureza'\n",
            "  'analisados' 'cariri' 'cearense' 'contadores' 'portanto' 'questionário'\n",
            "  'estratégias' 'podem' 'estação' 'estaduais' 'governo' 'conhecimentos'\n",
            "  'estatísticos' 'levantamento' 'edc' 'auxiliar' 'possível' 'expressões'\n",
            "  'grande' 'além' 'used' 'ação' 'federal' 'tecnologia' 'sido'\n",
            "  'funcionamento' 'biografias' 'regiões' 'conteúdo' 'década' 'using'\n",
            "  'trabalhos' 'economias' 'concepção' 'conceitos' 'néctar' 'formais'\n",
            "  'segundo' 'teórico' 'network' 'polinização' 'séries' 'investigar'\n",
            "  'applications' 'práticas' 'compartilhada' 'movimento' 'metodologia'\n",
            "  'cinema' 'realizadoras' 'objetivos' 'software' 'processos' 'procera'\n",
            "  'âmbito' 'sistema' 'novos' 'base' 'principalmente' 'onde' 'deficiência'\n",
            "  'métodos' 'todos' 'perspectiva' 'estatísticas' 'escolas' 'curriculares'\n",
            "  'support' 'comunhão' 'período' 'malware' 'psicologia' 'ações' 'saber'\n",
            "  'vida' 'didático' 'concepções' 'áreas' 'detection' 'flores' 'durante'\n",
            "  'relações' 'quanto' 'quais' 'method' 'metropolitana' 'princípios'\n",
            "  'estados' 'investigação' 'mercado' 'extensão' 'brasileira' 'networks'\n",
            "  'series' 'uso' 'área' 'different' 'deste' 'moda' 'dua' 'método'\n",
            "  'representação' 'questão' 'pedagógica' 'conteúdos' 'model' 'pessoas'\n",
            "  'contexto' 'neste' 'oil' 'tipo' 'atividades' 'grupo' 'machos' 'fêmeas'\n",
            "  'curso' 'enquanto' 'aplicação' 'quadrinhos' 'estatístico' 'abordagem'\n",
            "  'entrevistas' 'context' 'meio' 'assim' 'deep' 'três' 'aulas' 'time'\n",
            "  'espécies' 'dissertação' 'primeiro' 'neural' 'performance'\n",
            "  'sustentabilidade' 'características' 'fundamental' 'risk' 'professor'\n",
            "  'aplicativos' 'ambiental' 'letramento' 'produção' 'espaços'\n",
            "  'generalizados' 'corrigidas' 'escore' 'modelos' 'potência' 'aspectos'\n",
            "  'didáticos' 'web' 'dois' 'didática' 'estado' 'conhecimento' 'projeto'\n",
            "  'interpretação' 'cada' 'versões' 'rede' 'campo' 'duas' 'macos'\n",
            "  'ambiente' 'saberes' 'design' 'proposta' 'sendo' 'ano' 'dessa'\n",
            "  'relação' 'digital' 'desta' 'cursos' 'analisar' 'histórias' 'sequência'\n",
            "  'resultados' 'objetivo' 'alunos' 'matemática' 'brasil' 'anos' 'espécie'\n",
            "  'política' 'tempo' 'local' 'histórico' 'construção' 'prática' 'models'\n",
            "  'empresas' 'recife' 'forma' 'machines' 'training' 'partir' 'através'\n",
            "  'estudo' 'análise' 'processo' 'aprendizagem' 'solidária' 'região'\n",
            "  'pesquisa' 'disciplina' 'estudantes' 'desenvolvimento' 'learning'\n",
            "  'machine' 'sala' 'recursos' 'formação' 'social' 'testes' 'educação'\n",
            "  'médio' 'sobre' 'dados' 'aula' 'trabalho' 'professores' 'biologia'\n",
            "  'estatística' 'economia' 'história' 'ensino']]\n"
          ]
        }
      ]
    },
    {
      "cell_type": "markdown",
      "source": [
        "## Criação de um transpose dataframe##\n",
        "\n",
        "Todos os tokes viram linhas e os indices viram colunas. \n",
        "\n",
        "Agrupando Tema por média.\n",
        "\n",
        "Renomeando as colunas."
      ],
      "metadata": {
        "id": "lZEwaec80CZ9"
      }
    },
    {
      "cell_type": "code",
      "source": [
        "def create_transpose_dataframe(X_tfidf):\n",
        "  temp_df = pd.DataFrame(X_tfidf.toarray(), index=thesis['subject'], columns=count_vect.get_feature_names_out())\n",
        "  temp_df = temp_df.groupby('subject').mean()\n",
        "  temp_df = temp_df.stack().reset_index()\n",
        "  temp_df = temp_df.rename(columns={0:'TFIDF', 'subject': 'Tema','level_1': 'Termo'})\n",
        "\n",
        "  return temp_df"
      ],
      "metadata": {
        "id": "y0Q0lEZ7hjF_"
      },
      "execution_count": 31,
      "outputs": []
    },
    {
      "cell_type": "markdown",
      "source": [
        "## Função que recebe um dataframe transposto, ordenação e retorna top 5 tokens"
      ],
      "metadata": {
        "id": "_XrgnyDf0V0r"
      }
    },
    {
      "cell_type": "code",
      "source": [
        "def get_most_relevant_terms(tfidf_df):\n",
        "  top_terms = tfidf_df.sort_values(by=['Tema','TFIDF'], ascending=[True,False]).groupby(['Tema']).head(5)\n",
        "\n",
        "  return top_terms"
      ],
      "metadata": {
        "id": "ey29EVN4l13S"
      },
      "execution_count": 32,
      "outputs": []
    },
    {
      "cell_type": "code",
      "source": [
        "tfidf_df = create_transpose_dataframe(X_tfidf)\n",
        "tfidf_df"
      ],
      "metadata": {
        "colab": {
          "base_uri": "https://localhost:8080/",
          "height": 424
        },
        "id": "CYLBf7v3iDqF",
        "outputId": "eab0a571-e585-4428-e448-1b07b5521b13"
      },
      "execution_count": 33,
      "outputs": [
        {
          "output_type": "execute_result",
          "data": {
            "text/plain": [
              "                  Tema   Termo     TFIDF\n",
              "0             biologia    1990  0.000000\n",
              "1             biologia    1991  0.000000\n",
              "2             biologia    2001  0.000000\n",
              "3             biologia    2007  0.015366\n",
              "4             biologia    2009  0.008334\n",
              "...                ...     ...       ...\n",
              "4995  machine+learning   ética  0.000000\n",
              "4996  machine+learning  ênfase  0.000000\n",
              "4997  machine+learning   ótica  0.000000\n",
              "4998  machine+learning  óvulos  0.000000\n",
              "4999  machine+learning   única  0.000000\n",
              "\n",
              "[5000 rows x 3 columns]"
            ],
            "text/html": [
              "\n",
              "  <div id=\"df-e649ccbd-c6d9-4f45-b2a8-8c0839d5b5dc\">\n",
              "    <div class=\"colab-df-container\">\n",
              "      <div>\n",
              "<style scoped>\n",
              "    .dataframe tbody tr th:only-of-type {\n",
              "        vertical-align: middle;\n",
              "    }\n",
              "\n",
              "    .dataframe tbody tr th {\n",
              "        vertical-align: top;\n",
              "    }\n",
              "\n",
              "    .dataframe thead th {\n",
              "        text-align: right;\n",
              "    }\n",
              "</style>\n",
              "<table border=\"1\" class=\"dataframe\">\n",
              "  <thead>\n",
              "    <tr style=\"text-align: right;\">\n",
              "      <th></th>\n",
              "      <th>Tema</th>\n",
              "      <th>Termo</th>\n",
              "      <th>TFIDF</th>\n",
              "    </tr>\n",
              "  </thead>\n",
              "  <tbody>\n",
              "    <tr>\n",
              "      <th>0</th>\n",
              "      <td>biologia</td>\n",
              "      <td>1990</td>\n",
              "      <td>0.000000</td>\n",
              "    </tr>\n",
              "    <tr>\n",
              "      <th>1</th>\n",
              "      <td>biologia</td>\n",
              "      <td>1991</td>\n",
              "      <td>0.000000</td>\n",
              "    </tr>\n",
              "    <tr>\n",
              "      <th>2</th>\n",
              "      <td>biologia</td>\n",
              "      <td>2001</td>\n",
              "      <td>0.000000</td>\n",
              "    </tr>\n",
              "    <tr>\n",
              "      <th>3</th>\n",
              "      <td>biologia</td>\n",
              "      <td>2007</td>\n",
              "      <td>0.015366</td>\n",
              "    </tr>\n",
              "    <tr>\n",
              "      <th>4</th>\n",
              "      <td>biologia</td>\n",
              "      <td>2009</td>\n",
              "      <td>0.008334</td>\n",
              "    </tr>\n",
              "    <tr>\n",
              "      <th>...</th>\n",
              "      <td>...</td>\n",
              "      <td>...</td>\n",
              "      <td>...</td>\n",
              "    </tr>\n",
              "    <tr>\n",
              "      <th>4995</th>\n",
              "      <td>machine+learning</td>\n",
              "      <td>ética</td>\n",
              "      <td>0.000000</td>\n",
              "    </tr>\n",
              "    <tr>\n",
              "      <th>4996</th>\n",
              "      <td>machine+learning</td>\n",
              "      <td>ênfase</td>\n",
              "      <td>0.000000</td>\n",
              "    </tr>\n",
              "    <tr>\n",
              "      <th>4997</th>\n",
              "      <td>machine+learning</td>\n",
              "      <td>ótica</td>\n",
              "      <td>0.000000</td>\n",
              "    </tr>\n",
              "    <tr>\n",
              "      <th>4998</th>\n",
              "      <td>machine+learning</td>\n",
              "      <td>óvulos</td>\n",
              "      <td>0.000000</td>\n",
              "    </tr>\n",
              "    <tr>\n",
              "      <th>4999</th>\n",
              "      <td>machine+learning</td>\n",
              "      <td>única</td>\n",
              "      <td>0.000000</td>\n",
              "    </tr>\n",
              "  </tbody>\n",
              "</table>\n",
              "<p>5000 rows × 3 columns</p>\n",
              "</div>\n",
              "      <button class=\"colab-df-convert\" onclick=\"convertToInteractive('df-e649ccbd-c6d9-4f45-b2a8-8c0839d5b5dc')\"\n",
              "              title=\"Convert this dataframe to an interactive table.\"\n",
              "              style=\"display:none;\">\n",
              "        \n",
              "  <svg xmlns=\"http://www.w3.org/2000/svg\" height=\"24px\"viewBox=\"0 0 24 24\"\n",
              "       width=\"24px\">\n",
              "    <path d=\"M0 0h24v24H0V0z\" fill=\"none\"/>\n",
              "    <path d=\"M18.56 5.44l.94 2.06.94-2.06 2.06-.94-2.06-.94-.94-2.06-.94 2.06-2.06.94zm-11 1L8.5 8.5l.94-2.06 2.06-.94-2.06-.94L8.5 2.5l-.94 2.06-2.06.94zm10 10l.94 2.06.94-2.06 2.06-.94-2.06-.94-.94-2.06-.94 2.06-2.06.94z\"/><path d=\"M17.41 7.96l-1.37-1.37c-.4-.4-.92-.59-1.43-.59-.52 0-1.04.2-1.43.59L10.3 9.45l-7.72 7.72c-.78.78-.78 2.05 0 2.83L4 21.41c.39.39.9.59 1.41.59.51 0 1.02-.2 1.41-.59l7.78-7.78 2.81-2.81c.8-.78.8-2.07 0-2.86zM5.41 20L4 18.59l7.72-7.72 1.47 1.35L5.41 20z\"/>\n",
              "  </svg>\n",
              "      </button>\n",
              "      \n",
              "  <style>\n",
              "    .colab-df-container {\n",
              "      display:flex;\n",
              "      flex-wrap:wrap;\n",
              "      gap: 12px;\n",
              "    }\n",
              "\n",
              "    .colab-df-convert {\n",
              "      background-color: #E8F0FE;\n",
              "      border: none;\n",
              "      border-radius: 50%;\n",
              "      cursor: pointer;\n",
              "      display: none;\n",
              "      fill: #1967D2;\n",
              "      height: 32px;\n",
              "      padding: 0 0 0 0;\n",
              "      width: 32px;\n",
              "    }\n",
              "\n",
              "    .colab-df-convert:hover {\n",
              "      background-color: #E2EBFA;\n",
              "      box-shadow: 0px 1px 2px rgba(60, 64, 67, 0.3), 0px 1px 3px 1px rgba(60, 64, 67, 0.15);\n",
              "      fill: #174EA6;\n",
              "    }\n",
              "\n",
              "    [theme=dark] .colab-df-convert {\n",
              "      background-color: #3B4455;\n",
              "      fill: #D2E3FC;\n",
              "    }\n",
              "\n",
              "    [theme=dark] .colab-df-convert:hover {\n",
              "      background-color: #434B5C;\n",
              "      box-shadow: 0px 1px 3px 1px rgba(0, 0, 0, 0.15);\n",
              "      filter: drop-shadow(0px 1px 2px rgba(0, 0, 0, 0.3));\n",
              "      fill: #FFFFFF;\n",
              "    }\n",
              "  </style>\n",
              "\n",
              "      <script>\n",
              "        const buttonEl =\n",
              "          document.querySelector('#df-e649ccbd-c6d9-4f45-b2a8-8c0839d5b5dc button.colab-df-convert');\n",
              "        buttonEl.style.display =\n",
              "          google.colab.kernel.accessAllowed ? 'block' : 'none';\n",
              "\n",
              "        async function convertToInteractive(key) {\n",
              "          const element = document.querySelector('#df-e649ccbd-c6d9-4f45-b2a8-8c0839d5b5dc');\n",
              "          const dataTable =\n",
              "            await google.colab.kernel.invokeFunction('convertToInteractive',\n",
              "                                                     [key], {});\n",
              "          if (!dataTable) return;\n",
              "\n",
              "          const docLinkHtml = 'Like what you see? Visit the ' +\n",
              "            '<a target=\"_blank\" href=https://colab.research.google.com/notebooks/data_table.ipynb>data table notebook</a>'\n",
              "            + ' to learn more about interactive tables.';\n",
              "          element.innerHTML = '';\n",
              "          dataTable['output_type'] = 'display_data';\n",
              "          await google.colab.output.renderOutput(dataTable, element);\n",
              "          const docLink = document.createElement('div');\n",
              "          docLink.innerHTML = docLinkHtml;\n",
              "          element.appendChild(docLink);\n",
              "        }\n",
              "      </script>\n",
              "    </div>\n",
              "  </div>\n",
              "  "
            ]
          },
          "metadata": {},
          "execution_count": 33
        }
      ]
    },
    {
      "cell_type": "code",
      "source": [
        "top_tfidf = get_most_relevant_terms(tfidf_df)\n",
        "top_tfidf"
      ],
      "metadata": {
        "colab": {
          "base_uri": "https://localhost:8080/",
          "height": 834
        },
        "id": "rl-jXq3eiUJG",
        "outputId": "35767478-c331-4554-bfc9-0efa0837b720"
      },
      "execution_count": 34,
      "outputs": [
        {
          "output_type": "execute_result",
          "data": {
            "text/plain": [
              "                  Tema        Termo     TFIDF\n",
              "131           biologia     biologia  0.157917\n",
              "331           biologia       ensino  0.117607\n",
              "596           biologia        médio  0.085721\n",
              "377           biologia   estudantes  0.077258\n",
              "359           biologia      espécie  0.076106\n",
              "1301          economia     economia  0.268454\n",
              "1883          economia    solidária  0.099295\n",
              "1314          economia     empresas  0.078297\n",
              "1700          economia     política  0.071927\n",
              "1808          economia       recife  0.061951\n",
              "2366       estatistica  estatística  0.203797\n",
              "2915       estatistica       testes  0.121523\n",
              "2307       estatistica     educação  0.077736\n",
              "2227       estatistica        dados  0.073966\n",
              "2551       estatistica   matemática  0.070629\n",
              "3469          historia     história  0.268326\n",
              "3331          historia       ensino  0.135404\n",
              "3106          historia         aula  0.086145\n",
              "3755          historia  professores  0.083195\n",
              "3844          historia         sala  0.079789\n",
              "4536  machine+learning      machine  0.110803\n",
              "4521  machine+learning     learning  0.108824\n",
              "4878  machine+learning       social  0.089513\n",
              "4937  machine+learning     training  0.086749\n",
              "4537  machine+learning     machines  0.084621"
            ],
            "text/html": [
              "\n",
              "  <div id=\"df-be4184ac-c4d0-437e-adb3-e8f13d742c45\">\n",
              "    <div class=\"colab-df-container\">\n",
              "      <div>\n",
              "<style scoped>\n",
              "    .dataframe tbody tr th:only-of-type {\n",
              "        vertical-align: middle;\n",
              "    }\n",
              "\n",
              "    .dataframe tbody tr th {\n",
              "        vertical-align: top;\n",
              "    }\n",
              "\n",
              "    .dataframe thead th {\n",
              "        text-align: right;\n",
              "    }\n",
              "</style>\n",
              "<table border=\"1\" class=\"dataframe\">\n",
              "  <thead>\n",
              "    <tr style=\"text-align: right;\">\n",
              "      <th></th>\n",
              "      <th>Tema</th>\n",
              "      <th>Termo</th>\n",
              "      <th>TFIDF</th>\n",
              "    </tr>\n",
              "  </thead>\n",
              "  <tbody>\n",
              "    <tr>\n",
              "      <th>131</th>\n",
              "      <td>biologia</td>\n",
              "      <td>biologia</td>\n",
              "      <td>0.157917</td>\n",
              "    </tr>\n",
              "    <tr>\n",
              "      <th>331</th>\n",
              "      <td>biologia</td>\n",
              "      <td>ensino</td>\n",
              "      <td>0.117607</td>\n",
              "    </tr>\n",
              "    <tr>\n",
              "      <th>596</th>\n",
              "      <td>biologia</td>\n",
              "      <td>médio</td>\n",
              "      <td>0.085721</td>\n",
              "    </tr>\n",
              "    <tr>\n",
              "      <th>377</th>\n",
              "      <td>biologia</td>\n",
              "      <td>estudantes</td>\n",
              "      <td>0.077258</td>\n",
              "    </tr>\n",
              "    <tr>\n",
              "      <th>359</th>\n",
              "      <td>biologia</td>\n",
              "      <td>espécie</td>\n",
              "      <td>0.076106</td>\n",
              "    </tr>\n",
              "    <tr>\n",
              "      <th>1301</th>\n",
              "      <td>economia</td>\n",
              "      <td>economia</td>\n",
              "      <td>0.268454</td>\n",
              "    </tr>\n",
              "    <tr>\n",
              "      <th>1883</th>\n",
              "      <td>economia</td>\n",
              "      <td>solidária</td>\n",
              "      <td>0.099295</td>\n",
              "    </tr>\n",
              "    <tr>\n",
              "      <th>1314</th>\n",
              "      <td>economia</td>\n",
              "      <td>empresas</td>\n",
              "      <td>0.078297</td>\n",
              "    </tr>\n",
              "    <tr>\n",
              "      <th>1700</th>\n",
              "      <td>economia</td>\n",
              "      <td>política</td>\n",
              "      <td>0.071927</td>\n",
              "    </tr>\n",
              "    <tr>\n",
              "      <th>1808</th>\n",
              "      <td>economia</td>\n",
              "      <td>recife</td>\n",
              "      <td>0.061951</td>\n",
              "    </tr>\n",
              "    <tr>\n",
              "      <th>2366</th>\n",
              "      <td>estatistica</td>\n",
              "      <td>estatística</td>\n",
              "      <td>0.203797</td>\n",
              "    </tr>\n",
              "    <tr>\n",
              "      <th>2915</th>\n",
              "      <td>estatistica</td>\n",
              "      <td>testes</td>\n",
              "      <td>0.121523</td>\n",
              "    </tr>\n",
              "    <tr>\n",
              "      <th>2307</th>\n",
              "      <td>estatistica</td>\n",
              "      <td>educação</td>\n",
              "      <td>0.077736</td>\n",
              "    </tr>\n",
              "    <tr>\n",
              "      <th>2227</th>\n",
              "      <td>estatistica</td>\n",
              "      <td>dados</td>\n",
              "      <td>0.073966</td>\n",
              "    </tr>\n",
              "    <tr>\n",
              "      <th>2551</th>\n",
              "      <td>estatistica</td>\n",
              "      <td>matemática</td>\n",
              "      <td>0.070629</td>\n",
              "    </tr>\n",
              "    <tr>\n",
              "      <th>3469</th>\n",
              "      <td>historia</td>\n",
              "      <td>história</td>\n",
              "      <td>0.268326</td>\n",
              "    </tr>\n",
              "    <tr>\n",
              "      <th>3331</th>\n",
              "      <td>historia</td>\n",
              "      <td>ensino</td>\n",
              "      <td>0.135404</td>\n",
              "    </tr>\n",
              "    <tr>\n",
              "      <th>3106</th>\n",
              "      <td>historia</td>\n",
              "      <td>aula</td>\n",
              "      <td>0.086145</td>\n",
              "    </tr>\n",
              "    <tr>\n",
              "      <th>3755</th>\n",
              "      <td>historia</td>\n",
              "      <td>professores</td>\n",
              "      <td>0.083195</td>\n",
              "    </tr>\n",
              "    <tr>\n",
              "      <th>3844</th>\n",
              "      <td>historia</td>\n",
              "      <td>sala</td>\n",
              "      <td>0.079789</td>\n",
              "    </tr>\n",
              "    <tr>\n",
              "      <th>4536</th>\n",
              "      <td>machine+learning</td>\n",
              "      <td>machine</td>\n",
              "      <td>0.110803</td>\n",
              "    </tr>\n",
              "    <tr>\n",
              "      <th>4521</th>\n",
              "      <td>machine+learning</td>\n",
              "      <td>learning</td>\n",
              "      <td>0.108824</td>\n",
              "    </tr>\n",
              "    <tr>\n",
              "      <th>4878</th>\n",
              "      <td>machine+learning</td>\n",
              "      <td>social</td>\n",
              "      <td>0.089513</td>\n",
              "    </tr>\n",
              "    <tr>\n",
              "      <th>4937</th>\n",
              "      <td>machine+learning</td>\n",
              "      <td>training</td>\n",
              "      <td>0.086749</td>\n",
              "    </tr>\n",
              "    <tr>\n",
              "      <th>4537</th>\n",
              "      <td>machine+learning</td>\n",
              "      <td>machines</td>\n",
              "      <td>0.084621</td>\n",
              "    </tr>\n",
              "  </tbody>\n",
              "</table>\n",
              "</div>\n",
              "      <button class=\"colab-df-convert\" onclick=\"convertToInteractive('df-be4184ac-c4d0-437e-adb3-e8f13d742c45')\"\n",
              "              title=\"Convert this dataframe to an interactive table.\"\n",
              "              style=\"display:none;\">\n",
              "        \n",
              "  <svg xmlns=\"http://www.w3.org/2000/svg\" height=\"24px\"viewBox=\"0 0 24 24\"\n",
              "       width=\"24px\">\n",
              "    <path d=\"M0 0h24v24H0V0z\" fill=\"none\"/>\n",
              "    <path d=\"M18.56 5.44l.94 2.06.94-2.06 2.06-.94-2.06-.94-.94-2.06-.94 2.06-2.06.94zm-11 1L8.5 8.5l.94-2.06 2.06-.94-2.06-.94L8.5 2.5l-.94 2.06-2.06.94zm10 10l.94 2.06.94-2.06 2.06-.94-2.06-.94-.94-2.06-.94 2.06-2.06.94z\"/><path d=\"M17.41 7.96l-1.37-1.37c-.4-.4-.92-.59-1.43-.59-.52 0-1.04.2-1.43.59L10.3 9.45l-7.72 7.72c-.78.78-.78 2.05 0 2.83L4 21.41c.39.39.9.59 1.41.59.51 0 1.02-.2 1.41-.59l7.78-7.78 2.81-2.81c.8-.78.8-2.07 0-2.86zM5.41 20L4 18.59l7.72-7.72 1.47 1.35L5.41 20z\"/>\n",
              "  </svg>\n",
              "      </button>\n",
              "      \n",
              "  <style>\n",
              "    .colab-df-container {\n",
              "      display:flex;\n",
              "      flex-wrap:wrap;\n",
              "      gap: 12px;\n",
              "    }\n",
              "\n",
              "    .colab-df-convert {\n",
              "      background-color: #E8F0FE;\n",
              "      border: none;\n",
              "      border-radius: 50%;\n",
              "      cursor: pointer;\n",
              "      display: none;\n",
              "      fill: #1967D2;\n",
              "      height: 32px;\n",
              "      padding: 0 0 0 0;\n",
              "      width: 32px;\n",
              "    }\n",
              "\n",
              "    .colab-df-convert:hover {\n",
              "      background-color: #E2EBFA;\n",
              "      box-shadow: 0px 1px 2px rgba(60, 64, 67, 0.3), 0px 1px 3px 1px rgba(60, 64, 67, 0.15);\n",
              "      fill: #174EA6;\n",
              "    }\n",
              "\n",
              "    [theme=dark] .colab-df-convert {\n",
              "      background-color: #3B4455;\n",
              "      fill: #D2E3FC;\n",
              "    }\n",
              "\n",
              "    [theme=dark] .colab-df-convert:hover {\n",
              "      background-color: #434B5C;\n",
              "      box-shadow: 0px 1px 3px 1px rgba(0, 0, 0, 0.15);\n",
              "      filter: drop-shadow(0px 1px 2px rgba(0, 0, 0, 0.3));\n",
              "      fill: #FFFFFF;\n",
              "    }\n",
              "  </style>\n",
              "\n",
              "      <script>\n",
              "        const buttonEl =\n",
              "          document.querySelector('#df-be4184ac-c4d0-437e-adb3-e8f13d742c45 button.colab-df-convert');\n",
              "        buttonEl.style.display =\n",
              "          google.colab.kernel.accessAllowed ? 'block' : 'none';\n",
              "\n",
              "        async function convertToInteractive(key) {\n",
              "          const element = document.querySelector('#df-be4184ac-c4d0-437e-adb3-e8f13d742c45');\n",
              "          const dataTable =\n",
              "            await google.colab.kernel.invokeFunction('convertToInteractive',\n",
              "                                                     [key], {});\n",
              "          if (!dataTable) return;\n",
              "\n",
              "          const docLinkHtml = 'Like what you see? Visit the ' +\n",
              "            '<a target=\"_blank\" href=https://colab.research.google.com/notebooks/data_table.ipynb>data table notebook</a>'\n",
              "            + ' to learn more about interactive tables.';\n",
              "          element.innerHTML = '';\n",
              "          dataTable['output_type'] = 'display_data';\n",
              "          await google.colab.output.renderOutput(dataTable, element);\n",
              "          const docLink = document.createElement('div');\n",
              "          docLink.innerHTML = docLinkHtml;\n",
              "          element.appendChild(docLink);\n",
              "        }\n",
              "      </script>\n",
              "    </div>\n",
              "  </div>\n",
              "  "
            ]
          },
          "metadata": {},
          "execution_count": 34
        }
      ]
    },
    {
      "cell_type": "markdown",
      "source": [
        "## Plot dos termos mais relevantes por tema (Altair)"
      ],
      "metadata": {
        "id": "50axCfYn00Vq"
      }
    },
    {
      "cell_type": "code",
      "source": [
        "import altair as alt\n",
        "# adding a little randomness to break ties in term ranking\n",
        "top_tfidf_plusRand = top_tfidf.copy()\n",
        "top_tfidf_plusRand['TFIDF'] = top_tfidf_plusRand['TFIDF'] + np.random.rand(top_tfidf.shape[0])*0.0001\n",
        "\n",
        "# base for all visualizations, with rank calculation\n",
        "base = alt.Chart(top_tfidf_plusRand).encode(\n",
        "    x = 'rank:O',\n",
        "    y = 'Tema:N'\n",
        ").transform_window(\n",
        "    rank = \"rank()\",\n",
        "    sort = [alt.SortField(\"TFIDF\", order=\"descending\")],\n",
        "    groupby = [\"Tema\"],\n",
        ").properties(\n",
        "    title='5 tokens mais relevantes para cada tema'\n",
        ")\n",
        "\n",
        "# heatmap specification\n",
        "heatmap = base.mark_rect().encode(\n",
        "    #color = 'TFIDF:N',\n",
        "    color = alt.Color(\n",
        "            'TFIDF:Q',\n",
        "            scale=alt.Scale(scheme='lightmulti')) \n",
        ")\n",
        "\n",
        "# text labels, white for darker heatmap colors\n",
        "text = base.mark_text(baseline='middle').encode(\n",
        "    text = 'Termo:N',\n",
        "    color = alt.condition(alt.datum.TFIDF >= 0.2, alt.value('white'), alt.value('black'))\n",
        ")\n",
        "\n",
        "# display the three superimposed visualizations\n",
        "(heatmap + text).properties(width =600, height=300).configure_title().configure_axis(\n",
        "    labelFontSize = 12,\n",
        "    titleFontSize = 14\n",
        ")"
      ],
      "metadata": {
        "colab": {
          "base_uri": "https://localhost:8080/",
          "height": 381
        },
        "id": "avS6QtM1ihaF",
        "outputId": "ca87bb02-a392-4e60-889f-6e0899d04f84"
      },
      "execution_count": 35,
      "outputs": [
        {
          "output_type": "execute_result",
          "data": {
            "text/html": [
              "\n",
              "<div id=\"altair-viz-b558d091942e4f80b816849760a5f8a0\"></div>\n",
              "<script type=\"text/javascript\">\n",
              "  var VEGA_DEBUG = (typeof VEGA_DEBUG == \"undefined\") ? {} : VEGA_DEBUG;\n",
              "  (function(spec, embedOpt){\n",
              "    let outputDiv = document.currentScript.previousElementSibling;\n",
              "    if (outputDiv.id !== \"altair-viz-b558d091942e4f80b816849760a5f8a0\") {\n",
              "      outputDiv = document.getElementById(\"altair-viz-b558d091942e4f80b816849760a5f8a0\");\n",
              "    }\n",
              "    const paths = {\n",
              "      \"vega\": \"https://cdn.jsdelivr.net/npm//vega@5?noext\",\n",
              "      \"vega-lib\": \"https://cdn.jsdelivr.net/npm//vega-lib?noext\",\n",
              "      \"vega-lite\": \"https://cdn.jsdelivr.net/npm//vega-lite@4.17.0?noext\",\n",
              "      \"vega-embed\": \"https://cdn.jsdelivr.net/npm//vega-embed@6?noext\",\n",
              "    };\n",
              "\n",
              "    function maybeLoadScript(lib, version) {\n",
              "      var key = `${lib.replace(\"-\", \"\")}_version`;\n",
              "      return (VEGA_DEBUG[key] == version) ?\n",
              "        Promise.resolve(paths[lib]) :\n",
              "        new Promise(function(resolve, reject) {\n",
              "          var s = document.createElement('script');\n",
              "          document.getElementsByTagName(\"head\")[0].appendChild(s);\n",
              "          s.async = true;\n",
              "          s.onload = () => {\n",
              "            VEGA_DEBUG[key] = version;\n",
              "            return resolve(paths[lib]);\n",
              "          };\n",
              "          s.onerror = () => reject(`Error loading script: ${paths[lib]}`);\n",
              "          s.src = paths[lib];\n",
              "        });\n",
              "    }\n",
              "\n",
              "    function showError(err) {\n",
              "      outputDiv.innerHTML = `<div class=\"error\" style=\"color:red;\">${err}</div>`;\n",
              "      throw err;\n",
              "    }\n",
              "\n",
              "    function displayChart(vegaEmbed) {\n",
              "      vegaEmbed(outputDiv, spec, embedOpt)\n",
              "        .catch(err => showError(`Javascript Error: ${err.message}<br>This usually means there's a typo in your chart specification. See the javascript console for the full traceback.`));\n",
              "    }\n",
              "\n",
              "    if(typeof define === \"function\" && define.amd) {\n",
              "      requirejs.config({paths});\n",
              "      require([\"vega-embed\"], displayChart, err => showError(`Error loading script: ${err.message}`));\n",
              "    } else {\n",
              "      maybeLoadScript(\"vega\", \"5\")\n",
              "        .then(() => maybeLoadScript(\"vega-lite\", \"4.17.0\"))\n",
              "        .then(() => maybeLoadScript(\"vega-embed\", \"6\"))\n",
              "        .catch(showError)\n",
              "        .then(() => displayChart(vegaEmbed));\n",
              "    }\n",
              "  })({\"config\": {\"view\": {\"continuousWidth\": 400, \"continuousHeight\": 300}, \"axis\": {\"labelFontSize\": 12, \"titleFontSize\": 14}, \"title\": {}}, \"layer\": [{\"mark\": \"rect\", \"encoding\": {\"color\": {\"field\": \"TFIDF\", \"scale\": {\"scheme\": \"lightmulti\"}, \"type\": \"quantitative\"}, \"x\": {\"field\": \"rank\", \"type\": \"ordinal\"}, \"y\": {\"field\": \"Tema\", \"type\": \"nominal\"}}, \"title\": \"5 tokens mais relevantes para cada tema\", \"transform\": [{\"window\": [{\"op\": \"rank\", \"field\": \"\", \"as\": \"rank\"}], \"groupby\": [\"Tema\"], \"sort\": [{\"field\": \"TFIDF\", \"order\": \"descending\"}]}]}, {\"mark\": {\"type\": \"text\", \"baseline\": \"middle\"}, \"encoding\": {\"color\": {\"condition\": {\"value\": \"white\", \"test\": \"(datum.TFIDF >= 0.2)\"}, \"value\": \"black\"}, \"text\": {\"field\": \"Termo\", \"type\": \"nominal\"}, \"x\": {\"field\": \"rank\", \"type\": \"ordinal\"}, \"y\": {\"field\": \"Tema\", \"type\": \"nominal\"}}, \"title\": \"5 tokens mais relevantes para cada tema\", \"transform\": [{\"window\": [{\"op\": \"rank\", \"field\": \"\", \"as\": \"rank\"}], \"groupby\": [\"Tema\"], \"sort\": [{\"field\": \"TFIDF\", \"order\": \"descending\"}]}]}], \"data\": {\"name\": \"data-911a280536088357494f16918caa1583\"}, \"height\": 300, \"width\": 600, \"$schema\": \"https://vega.github.io/schema/vega-lite/v4.17.0.json\", \"datasets\": {\"data-911a280536088357494f16918caa1583\": [{\"Tema\": \"biologia\", \"Termo\": \"biologia\", \"TFIDF\": 0.15792102165367153}, {\"Tema\": \"biologia\", \"Termo\": \"ensino\", \"TFIDF\": 0.11766635263547433}, {\"Tema\": \"biologia\", \"Termo\": \"m\\u00e9dio\", \"TFIDF\": 0.08577588184522597}, {\"Tema\": \"biologia\", \"Termo\": \"estudantes\", \"TFIDF\": 0.07734717392134333}, {\"Tema\": \"biologia\", \"Termo\": \"esp\\u00e9cie\", \"TFIDF\": 0.07617231988909044}, {\"Tema\": \"economia\", \"Termo\": \"economia\", \"TFIDF\": 0.2684973483734988}, {\"Tema\": \"economia\", \"Termo\": \"solid\\u00e1ria\", \"TFIDF\": 0.0993626349046163}, {\"Tema\": \"economia\", \"Termo\": \"empresas\", \"TFIDF\": 0.0783840304883748}, {\"Tema\": \"economia\", \"Termo\": \"pol\\u00edtica\", \"TFIDF\": 0.07195146728095166}, {\"Tema\": \"economia\", \"Termo\": \"recife\", \"TFIDF\": 0.061956811320394226}, {\"Tema\": \"estatistica\", \"Termo\": \"estat\\u00edstica\", \"TFIDF\": 0.2038623435520796}, {\"Tema\": \"estatistica\", \"Termo\": \"testes\", \"TFIDF\": 0.12160238432198721}, {\"Tema\": \"estatistica\", \"Termo\": \"educa\\u00e7\\u00e3o\", \"TFIDF\": 0.07776816483379846}, {\"Tema\": \"estatistica\", \"Termo\": \"dados\", \"TFIDF\": 0.07405926528848882}, {\"Tema\": \"estatistica\", \"Termo\": \"matem\\u00e1tica\", \"TFIDF\": 0.07067664642743614}, {\"Tema\": \"historia\", \"Termo\": \"hist\\u00f3ria\", \"TFIDF\": 0.2683289623304092}, {\"Tema\": \"historia\", \"Termo\": \"ensino\", \"TFIDF\": 0.13540579636491712}, {\"Tema\": \"historia\", \"Termo\": \"aula\", \"TFIDF\": 0.08617379275385789}, {\"Tema\": \"historia\", \"Termo\": \"professores\", \"TFIDF\": 0.08321312392299947}, {\"Tema\": \"historia\", \"Termo\": \"sala\", \"TFIDF\": 0.07983853073308257}, {\"Tema\": \"machine+learning\", \"Termo\": \"machine\", \"TFIDF\": 0.1108442620171072}, {\"Tema\": \"machine+learning\", \"Termo\": \"learning\", \"TFIDF\": 0.10883975783460904}, {\"Tema\": \"machine+learning\", \"Termo\": \"social\", \"TFIDF\": 0.08952009791057172}, {\"Tema\": \"machine+learning\", \"Termo\": \"training\", \"TFIDF\": 0.0867668211039968}, {\"Tema\": \"machine+learning\", \"Termo\": \"machines\", \"TFIDF\": 0.08469240768645417}]}}, {\"mode\": \"vega-lite\"});\n",
              "</script>"
            ],
            "text/plain": [
              "alt.LayerChart(...)"
            ]
          },
          "metadata": {},
          "execution_count": 35
        }
      ]
    },
    {
      "cell_type": "markdown",
      "source": [
        "# Modelagem de tópicos usando SVD\n",
        "\n",
        "A quantidade de tópicos pode ser analisada pela variabilidade explicada."
      ],
      "metadata": {
        "id": "S2x-DJyDHnDm"
      }
    },
    {
      "cell_type": "code",
      "source": [
        "from sklearn.decomposition import TruncatedSVD, NMF, LatentDirichletAllocation\n",
        "import matplotlib.pyplot as plt\n",
        "from sklearn.metrics import pairwise_distances\n",
        "import numpy as np\n",
        "from sklearn.ensemble import RandomForestClassifier\n",
        "from sklearn.model_selection import train_test_split\n",
        "from sklearn.metrics import classification_report"
      ],
      "metadata": {
        "id": "yFapAK3NHlmb"
      },
      "execution_count": 36,
      "outputs": []
    },
    {
      "cell_type": "code",
      "source": [
        "svd = TruncatedSVD(n_components=20, n_iter=10 , random_state=0)\n",
        "svd.fit(X_tfidf)"
      ],
      "metadata": {
        "colab": {
          "base_uri": "https://localhost:8080/"
        },
        "id": "y8JuBEFQHl1F",
        "outputId": "8091ae79-da22-4e97-f038-d14802db81cf"
      },
      "execution_count": 37,
      "outputs": [
        {
          "output_type": "execute_result",
          "data": {
            "text/plain": [
              "TruncatedSVD(n_components=20, n_iter=10, random_state=0)"
            ]
          },
          "metadata": {},
          "execution_count": 37
        }
      ]
    },
    {
      "cell_type": "code",
      "source": [
        "print('Total de variabilidade explicada: ', sum(svd.explained_variance_ratio_))"
      ],
      "metadata": {
        "colab": {
          "base_uri": "https://localhost:8080/"
        },
        "id": "S1iNzck0Hl5G",
        "outputId": "75c92205-1a9b-43cc-ef9d-8c2c3beebc1e"
      },
      "execution_count": 38,
      "outputs": [
        {
          "output_type": "stream",
          "name": "stdout",
          "text": [
            "Total de variabilidade explicada:  0.5507777745156984\n"
          ]
        }
      ]
    },
    {
      "cell_type": "markdown",
      "source": [
        "# Matrizes do LSA\n",
        "\n",
        "Criar figura heatmap com os componentes do SVD. Com ela, você consegue visualizar quais são os termos mais importantes dentro de cada tópico"
      ],
      "metadata": {
        "id": "_PNMZHdGJZdO"
      }
    },
    {
      "cell_type": "code",
      "source": [
        "X_tfidf.shape"
      ],
      "metadata": {
        "colab": {
          "base_uri": "https://localhost:8080/"
        },
        "id": "Kqjp-BaRHl8b",
        "outputId": "bdf0cc7c-842d-4096-ab5a-d4c47ad22f02"
      },
      "execution_count": 39,
      "outputs": [
        {
          "output_type": "execute_result",
          "data": {
            "text/plain": [
              "(50, 1000)"
            ]
          },
          "metadata": {},
          "execution_count": 39
        }
      ]
    },
    {
      "cell_type": "code",
      "source": [
        "# topics x tokens\n",
        "V = svd.components_\n",
        "print(V.shape)\n",
        "\n",
        "# top 'm' tokens mais importantes do tópico k -> 1) V[k,:] 2) np.argsort(V[k,:]) 3) np.argsort(V[k,:])[-m:] 4)[::-1]\n",
        "m = 10\n",
        "k = 19\n",
        "tokens_t_k = np.argsort(V[k,:])[-m:][::-1]\n",
        "print('ids: ', tokens_t_k)\n",
        "print(f'Tópico {k}: ', count_vect.get_feature_names_out()[tokens_t_k])"
      ],
      "metadata": {
        "colab": {
          "base_uri": "https://localhost:8080/"
        },
        "id": "a52UdRaIHmIc",
        "outputId": "009f8f5c-dcd0-4b51-98d9-e8894bb65a39"
      },
      "execution_count": 40,
      "outputs": [
        {
          "output_type": "stream",
          "name": "stdout",
          "text": [
            "(20, 1000)\n",
            "ids:  [539 544 260 847 321  33  57 806 387 490]\n",
            "Tópico 19:  ['macos' 'malware' 'detection' 'security' 'endpoint' 'algorithms'\n",
            " 'aplicativos' 'recent' 'evaluate' 'improve']\n"
          ]
        }
      ]
    },
    {
      "cell_type": "code",
      "source": [
        "S = svd.singular_values_\n",
        "print(S.shape)"
      ],
      "metadata": {
        "colab": {
          "base_uri": "https://localhost:8080/"
        },
        "id": "pRmfQEssK-_v",
        "outputId": "e320f8fc-0cc3-400e-fc23-5087b2a4f062"
      },
      "execution_count": 41,
      "outputs": [
        {
          "output_type": "stream",
          "name": "stdout",
          "text": [
            "(20,)\n"
          ]
        }
      ]
    },
    {
      "cell_type": "code",
      "source": [
        "X_lsa = svd.transform(X_tfidf) # Matriz U do SVD => documentos x tópicos\n",
        "\n",
        "# Para entender os tópicos de um documento, liste os mais importantes, em seguida substitua o id do tópico pelos top-k tokens desse tópico."
      ],
      "metadata": {
        "id": "oiVkXR3sK_DE"
      },
      "execution_count": 42,
      "outputs": []
    },
    {
      "cell_type": "code",
      "source": [
        "# top 3 tópicos mais importantes do documento d\n",
        "t = 3\n",
        "d = 30\n",
        "topics_t_d = np.argsort(X_lsa[d,:])[-t:][::-1]\n",
        "print(pre_processed_documents[d])\n",
        "print('Tópicos: ', topics_t_d)\n",
        "print(X_lsa[d,topics_t_d])\n",
        "\n",
        "# print('\\nDescrição do documento ', d, ':')\n",
        "# m = 15\n",
        "# for topic in topics_t_d:\n",
        "#   tokens_t_k = np.argsort(V[topic,:])[-m:][::-1]\n",
        "#   print(f'Tópico {topic}: ', count_vect.get_feature_names_out()[tokens_t_k])"
      ],
      "metadata": {
        "colab": {
          "base_uri": "https://localhost:8080/"
        },
        "id": "h9Pxv9SLK_K8",
        "outputId": "f26e452b-3338-41bf-f805-c14174bddde4"
      },
      "execution_count": 43,
      "outputs": [
        {
          "output_type": "stream",
          "name": "stdout",
          "text": [
            "espaços formais região baixo francisco espaços pedagógicos ensino biologia estudo biologia caracteriza toda gama conhecimentos muitos limitados teorias escola oportunizarem maior relação práticas contextualização fenômenos natureza nesse aspecto espaços formais institucionalizados institucionalizados oportunizam aprendizagens diversas interdisciplinaridade contextualizando materializando saberes ciências natureza objetivo avaliamos potencial visitas espaços formais institucionalizados institucionalizados localizados região baixo francisco orientações estudo meio ambiente disciplina biologia pesquisa caráter qualiquantitativa observações potencial exploratório espaços formais avaliarmos potencial espaços formais região disciplina biologia enfoque meio ambiente primeira etapa realizamos visitas seis espaços região descrevendo características potencialidades ensino biologia enem interdisciplinaridade segunda etapa realizamos entrevistas vinte professores biologia região identificação espaços formais explorados conteúdos abordados compararmos habilidades identificadas enem terceira etapa analisamos entrevistas organizarmos roteiros quarta etapa utilizamos construção manual estratégias aulas espaços formais levantamento identificou diversos espaços urbanos urbanos abertos predial mista alto potencial ensino aprendizagem biologia exemplo museus hidroelétricas usina energia eólica estações tratamento águas esgotos trilhas ecológicas praças interdisciplinaridade história geografia física química sociologia matemática dentre outras depender enfoque dado afirma quanto possível ensino integrado maior compreensão fenômenos consequências ações homem ambiente assim possível avaliarmos impactos ambiente formas transformação energia biodiversidade interação homem ambiente processo ocupação urbana sociedades locais pesquisados lamentam dificuldades financeiras biossegurança tempo realização visitas construímos produto manual orientações visitas espaços formais região colabora planejamento visitas outras regiões espaços semelhantes\n",
            "Tópicos:  [18 13  0]\n",
            "[0.49657113 0.25754909 0.22171574]\n"
          ]
        }
      ]
    },
    {
      "cell_type": "code",
      "source": [
        "print('\\nDescrição do documento ', d, ':')\n",
        "m = 20\n",
        "t = 10\n",
        "d = 30\n",
        "topics_t_d = np.argsort(X_lsa[d,:])[-t:][::-1]\n",
        "for topic in topics_t_d:\n",
        "  tokens_t_k = np.argsort(V[topic,:])[-m:][::-1]\n",
        "  print(f'Tópico {topic}: ', count_vect.get_feature_names_out()[tokens_t_k])"
      ],
      "metadata": {
        "colab": {
          "base_uri": "https://localhost:8080/"
        },
        "id": "B-BpcBsiK_Qq",
        "outputId": "29f7812c-7300-47de-91e1-3bd996c64d37"
      },
      "execution_count": 44,
      "outputs": [
        {
          "output_type": "stream",
          "name": "stdout",
          "text": [
            "\n",
            "Descrição do documento  30 :\n",
            "Tópico 18:  ['espaços' 'formais' 'estados' 'governo' 'estaduais' 'visitas'\n",
            " 'brasileiros' 'extensão' 'década' 'ambiente' 'institucionalizados'\n",
            " 'federal' 'economias' 'dua' 'semeando' 'futuro' 'realizadoras' 'cinema'\n",
            " 'potencial' 'projeto']\n",
            "Tópico 13:  ['histórias' 'quadrinhos' 'ambiente' 'espaços' 'professores' 'tempo'\n",
            " 'campo' 'cariri' 'contadores' 'cearense' 'concepção' 'formais'\n",
            " 'histórico' 'memória' 'região' 'letramento' 'digitais' 'mediação'\n",
            " 'política' 'digital']\n",
            "Tópico 0:  ['ensino' 'história' 'professores' 'economia' 'estatística' 'aula'\n",
            " 'educação' 'biologia' 'sobre' 'trabalho' 'médio' 'formação' 'sala'\n",
            " 'estudantes' 'disciplina' 'dados' 'pesquisa' 'prática' 'recursos'\n",
            " 'aprendizagem']\n",
            "Tópico 8:  ['empresas' 'comunhão' 'edc' 'metropolitana' 'recife' 'local' 'região'\n",
            " 'disciplina' 'empresa' 'desenvolvimento' 'projeto' 'instaladas' 'sociais'\n",
            " 'história' 'funcionamento' 'empresários' 'recompensas' 'caso' 'espaços'\n",
            " 'características']\n",
            "Tópico 6:  ['sequência' 'biologia' 'estudantes' 'ensino' 'didática' 'médio'\n",
            " 'deficiência' 'aulas' 'dua' 'levantamento' 'dessa' 'didáticos'\n",
            " 'alimentar' 'alimentares' 'hábitos' 'interativa' 'aprendizagem' 'equipes'\n",
            " 'recursos' 'celular']\n",
            "Tópico 11:  ['histórias' 'quadrinhos' 'digital' 'design' 'contadores' 'cariri'\n",
            " 'cearense' 'interpretação' 'dados' 'training' 'memória' 'ambiente'\n",
            " 'leitura' 'concepção' 'afetivas' 'expressões' 'transmissão' 'região'\n",
            " 'moda' 'mediação']\n",
            "Tópico 4:  ['biologia' 'espécie' 'espécies' 'flores' 'polinização' 'procera' 'néctar'\n",
            " 'caatinga' 'áreas' 'trigona' 'reprodutiva' 'óvulos' 'pólen' 'estação'\n",
            " 'sequência' 'estudantes' 'número' 'abelhas' 'natural' 'médio']\n",
            "Tópico 14:  ['dua' 'histórico' 'quadrinhos' 'cursos' 'tempo' 'digital' 'design'\n",
            " 'representação' 'ensino' 'curriculares' 'aplicativos' 'concepção'\n",
            " 'estratégias' 'alunos' 'probabilidade' 'evolutiva' 'questionário' 'forma'\n",
            " 'aprendizagem' 'ambiente']\n",
            "Tópico 12:  ['disciplina' 'solidária' 'psicologia' 'política' 'alunos' 'aula' 'sala'\n",
            " 'curso' 'contrato' 'movimento' 'dua' 'training' 'histórias' 'construção'\n",
            " 'biografias' 'tempo' 'didático' 'cearense' 'contadores' 'cariri']\n",
            "Tópico 19:  ['macos' 'malware' 'detection' 'security' 'endpoint' 'algorithms'\n",
            " 'aplicativos' 'recent' 'evaluate' 'improve' 'system' 'new' 'learning'\n",
            " 'espaços' 'extensão' 'limitations' 'four' 'large' 'systems' 'however']\n"
          ]
        }
      ]
    },
    {
      "cell_type": "code",
      "source": [
        "X_lsa_copy = X_lsa.copy()\n",
        "\n",
        "# Selecionando os 't' tópicos mais relevantes para toda a base\n",
        "X_lsa_copy.sort()\n",
        "X_lsa_copy = X_lsa_copy[:, :t]\n",
        "X_lsa_copy.shape"
      ],
      "metadata": {
        "colab": {
          "base_uri": "https://localhost:8080/"
        },
        "id": "wVhZoy-WRxIU",
        "outputId": "f2ac9fb3-460f-44a6-9ce5-b1451f88562a"
      },
      "execution_count": 45,
      "outputs": [
        {
          "output_type": "execute_result",
          "data": {
            "text/plain": [
              "(50, 10)"
            ]
          },
          "metadata": {},
          "execution_count": 45
        }
      ]
    },
    {
      "cell_type": "code",
      "source": [
        "fig = plt.figure()\n",
        "ax = fig.add_subplot(projection='3d')\n",
        "ax.scatter(X_lsa_copy[:,0], X_lsa_copy[:,1], X_lsa_copy[:,2], marker='o')\n",
        "\n",
        "ax.set_xlabel('Topic top 1')\n",
        "ax.set_ylabel('Topic top 2')\n",
        "ax.set_zlabel('Topic top 3')\n",
        "\n",
        "plt.show()"
      ],
      "metadata": {
        "colab": {
          "base_uri": "https://localhost:8080/",
          "height": 248
        },
        "id": "U5jIbDgDRxM7",
        "outputId": "89d096e0-ee59-42e6-9f76-7fa3a9e5dfc5"
      },
      "execution_count": 46,
      "outputs": [
        {
          "output_type": "display_data",
          "data": {
            "text/plain": [
              "<Figure size 432x288 with 1 Axes>"
            ],
            "image/png": "[encoded data removed]"
          },
          "metadata": {
            "needs_background": "light"
          }
        }
      ]
    },
    {
      "cell_type": "code",
      "source": [
        "# Aplicando PCA para análise semântica dos documentos\n",
        "from sklearn.decomposition import PCA\n",
        "\n",
        "X_lsa_3d = PCA(n_components=20, random_state=0).fit_transform(X_lsa)\n",
        "print(X_lsa_3d.shape)\n",
        "\n",
        "fig = plt.figure(figsize=(20, 10))\n",
        "ax = fig.add_subplot(projection='3d')\n",
        "ax.scatter(X_lsa_3d[:,0], X_lsa_3d[:,1], X_lsa_3d[:,2], marker='o')\n",
        "\n",
        "ax.set_xlabel('PC 1')\n",
        "ax.set_ylabel('PC 2')\n",
        "ax.set_zlabel('PC 3')\n",
        "\n",
        "plt.show()"
      ],
      "metadata": {
        "colab": {
          "base_uri": "https://localhost:8080/",
          "height": 593
        },
        "id": "b1n095T5RxSh",
        "outputId": "850dee3e-6a83-452a-ff00-56dcd8af8f88"
      },
      "execution_count": 47,
      "outputs": [
        {
          "output_type": "stream",
          "name": "stdout",
          "text": [
            "(50, 20)\n"
          ]
        },
        {
          "output_type": "display_data",
          "data": {
            "text/plain": [
              "<Figure size 1440x720 with 1 Axes>"
            ],
            "image/png": "[encoded data removed]"
          },
          "metadata": {
            "needs_background": "light"
          }
        }
      ]
    },
    {
      "cell_type": "markdown",
      "source": [
        "# Transformando o texto de uma query em vetores de características"
      ],
      "metadata": {
        "id": "bwyydlZcSMHF"
      }
    },
    {
      "cell_type": "code",
      "source": [
        "# Pre processamento\n",
        "final_list_stop_words = list_stop + custom_list_stop\n",
        "query = 'pode o covid esta presente na historia antiga'\n",
        "\n",
        "query_tokens = [token for token in word_tokenize(query, language='english') if not token in final_list_stop_words]\n",
        "print(query_tokens)\n",
        "pre_processed_query = ' '.join(query_tokens)\n",
        "print(pre_processed_query)\n",
        "\n",
        "# Extração de características de contagem\n",
        "X_query = count_vect.transform([pre_processed_query])\n",
        "print('1a etapa de extração de características')\n",
        "print(X_query)\n",
        "\n",
        "# Extração de características de frequência TF-IDF\n",
        "X_tfidf_query = tfidf_transformer.transform(X_query)\n",
        "print('2a etapa de extração de características')\n",
        "print(X_tfidf_query)\n",
        "\n",
        "# Extração dos embeddings da query\n",
        "X_lsa_query = svd.transform(X_tfidf_query)\n",
        "print('3a etapa de extração de características')\n",
        "print(X_lsa_query)\n",
        "\n"
      ],
      "metadata": {
        "colab": {
          "base_uri": "https://localhost:8080/"
        },
        "id": "mZTDQtPnRxYt",
        "outputId": "9073679a-7d88-45a4-b537-dc535129b846"
      },
      "execution_count": 48,
      "outputs": [
        {
          "output_type": "stream",
          "name": "stdout",
          "text": [
            "['pode', 'covid', 'presente', 'historia', 'antiga']\n",
            "pode covid presente historia antiga\n",
            "1a etapa de extração de características\n",
            "  (0, 689)\t1\n",
            "  (0, 721)\t1\n",
            "2a etapa de extração de características\n",
            "  (0, 721)\t0.6336971311090583\n",
            "  (0, 689)\t0.7735812472029999\n",
            "3a etapa de extração de características\n",
            "[[ 0.02979405 -0.00887641 -0.00861933  0.0003143   0.01523046  0.00169848\n",
            "   0.04792157  0.00602748 -0.01324463  0.02435563 -0.02907319  0.01446424\n",
            "   0.00067087  0.0036858  -0.02124095  0.01102613  0.00982519 -0.00147025\n",
            "  -0.01825441 -0.01299491]]\n"
          ]
        }
      ]
    },
    {
      "cell_type": "markdown",
      "source": [
        "# Recuperar documentos mais relevantes dada uma query"
      ],
      "metadata": {
        "id": "W0qsG_3aT5IG"
      }
    },
    {
      "cell_type": "code",
      "source": [
        "print(X_lsa_query.shape)"
      ],
      "metadata": {
        "colab": {
          "base_uri": "https://localhost:8080/"
        },
        "id": "MRpC2jYXT5lU",
        "outputId": "7f47d439-e09c-43ca-ba9a-b4a6b9f8fe97"
      },
      "execution_count": 49,
      "outputs": [
        {
          "output_type": "stream",
          "name": "stdout",
          "text": [
            "(1, 20)\n"
          ]
        }
      ]
    },
    {
      "cell_type": "code",
      "source": [
        "# Matriz de vetores dos documentos -> X_lsa\n",
        "# Vetor da query -> X_lsa_query\n",
        "# Recuperar k documentos mais relevantes a query\n",
        "k = 3\n",
        "\n",
        "ouput_distances = pairwise_distances(X_lsa, X_lsa_query, metric='euclidean')[:,0]\n",
        "sorted_distances = list(sorted(ouput_distances))[:k]\n",
        "sorted_indexes = list(np.argsort(ouput_distances)[:k])\n",
        "\n",
        "print(query)\n",
        "for id_doc, dist in zip(sorted_indexes, sorted_distances):\n",
        "    print('Doc id: ', id_doc, ' Distance: ', dist)"
      ],
      "metadata": {
        "colab": {
          "base_uri": "https://localhost:8080/"
        },
        "id": "ULVXMKwoT8i8",
        "outputId": "e5475bad-27eb-4329-fe04-b2d8d4312f73"
      },
      "execution_count": 50,
      "outputs": [
        {
          "output_type": "stream",
          "name": "stdout",
          "text": [
            "pode o covid esta presente na historia antiga\n",
            "Doc id:  16  Distance:  0.5625215399003114\n",
            "Doc id:  31  Distance:  0.5866456766665431\n",
            "Doc id:  35  Distance:  0.5932062892291194\n"
          ]
        }
      ]
    },
    {
      "cell_type": "code",
      "source": [
        "# Matriz de vetores dos documentos -> X_tfidf\n",
        "# Vetor da query -> X_tfidf_query\n",
        "# Recuperar k documentos mais relevantes a query\n",
        "k = 3\n",
        "\n",
        "ouput_distances = pairwise_distances(X_tfidf, X_tfidf_query, metric='euclidean')[:,0]\n",
        "sorted_distances = list(sorted(ouput_distances))[:k]\n",
        "sorted_indexes = list(np.argsort(ouput_distances)[:k])\n",
        "\n",
        "print('Distância usando TF-IDF')\n",
        "print(query)\n",
        "for id_doc, dist in zip(sorted_indexes, sorted_distances):\n",
        "    print('Doc id: ', id_doc, ' Distance: ', dist)"
      ],
      "metadata": {
        "colab": {
          "base_uri": "https://localhost:8080/"
        },
        "id": "7WifjF6hUCDa",
        "outputId": "01ab975d-ddcb-4288-e8e2-097a412d3b0a"
      },
      "execution_count": 51,
      "outputs": [
        {
          "output_type": "stream",
          "name": "stdout",
          "text": [
            "Distância usando TF-IDF\n",
            "pode o covid esta presente na historia antiga\n",
            "Doc id:  39  Distance:  1.3324768931869386\n",
            "Doc id:  26  Distance:  1.347463594086062\n",
            "Doc id:  5  Distance:  1.3857812260501683\n"
          ]
        }
      ]
    },
    {
      "cell_type": "code",
      "source": [
        "# Matriz de vetores dos documentos -> X\n",
        "# Vetor da query -> X_query\n",
        "# Recuperar k documentos mais relevantes a query\n",
        "k = 3\n",
        "\n",
        "ouput_distances = pairwise_distances(X, X_query, metric='euclidean')[:,0]\n",
        "sorted_distances = list(sorted(ouput_distances))[:k]\n",
        "sorted_indexes = list(np.argsort(ouput_distances)[:k])\n",
        "\n",
        "print('Distância usando Count Vectorizer')\n",
        "print(query)\n",
        "for id_doc, dist in zip(sorted_indexes, sorted_distances):\n",
        "    print('Doc id: ', id_doc, ' Distance: ', dist)"
      ],
      "metadata": {
        "colab": {
          "base_uri": "https://localhost:8080/"
        },
        "id": "sjKvCjESUjEb",
        "outputId": "75177b1a-c8a5-4ff6-f41c-8351f2a1c9b9"
      },
      "execution_count": 52,
      "outputs": [
        {
          "output_type": "stream",
          "name": "stdout",
          "text": [
            "Distância usando Count Vectorizer\n",
            "pode o covid esta presente na historia antiga\n",
            "Doc id:  10  Distance:  7.211102550927978\n",
            "Doc id:  11  Distance:  7.211102550927978\n",
            "Doc id:  22  Distance:  9.38083151964686\n"
          ]
        }
      ]
    },
    {
      "cell_type": "markdown",
      "source": [
        "# Construindo um classificador de texto"
      ],
      "metadata": {
        "id": "dLvClpGdUskf"
      }
    },
    {
      "cell_type": "code",
      "source": [
        "rf_clf_tfidf = RandomForestClassifier(n_estimators=500, n_jobs=-1, max_features=5, max_depth=5, oob_score=True, verbose=2, random_state=0)"
      ],
      "metadata": {
        "id": "XOAm2lFJUo3I"
      },
      "execution_count": 53,
      "outputs": []
    },
    {
      "cell_type": "code",
      "source": [
        "y = list(thesis.subject.copy())\n",
        "rf_clf_tfidf.fit(X_tfidf, y)"
      ],
      "metadata": {
        "colab": {
          "base_uri": "https://localhost:8080/"
        },
        "id": "PJWVQS32VJTC",
        "outputId": "376d95cf-78c4-4df7-9463-49a21c25ede6"
      },
      "execution_count": 54,
      "outputs": [
        {
          "output_type": "stream",
          "name": "stdout",
          "text": [
            "building tree 1 of 500\n",
            "building tree 2 of 500\n",
            "building tree 3 of 500\n",
            "building tree 4 of 500\n",
            "building tree 5 of 500\n",
            "building tree 6 of 500\n",
            "building tree 7 of 500\n",
            "building tree 8 of 500\n",
            "building tree 9 of 500\n",
            "building tree 10 of 500\n",
            "building tree 11 of 500\n",
            "building tree 12 of 500\n",
            "building tree 13 of 500building tree 14 of 500"
          ]
        },
        {
          "output_type": "stream",
          "name": "stderr",
          "text": [
            "[Parallel(n_jobs=-1)]: Using backend ThreadingBackend with 2 concurrent workers.\n",
            "[Parallel(n_jobs=-1)]: Done  37 tasks      | elapsed:    0.1s\n"
          ]
        },
        {
          "output_type": "stream",
          "name": "stdout",
          "text": [
            "\n",
            "\n",
            "building tree 15 of 500\n",
            "building tree 16 of 500\n",
            "building tree 17 of 500\n",
            "building tree 18 of 500\n",
            "building tree 19 of 500\n",
            "building tree 20 of 500\n",
            "building tree 21 of 500\n",
            "building tree 22 of 500\n",
            "building tree 23 of 500\n",
            "building tree 24 of 500\n",
            "building tree 25 of 500\n",
            "building tree 26 of 500\n",
            "building tree 27 of 500\n",
            "building tree 28 of 500\n",
            "building tree 29 of 500\n",
            "building tree 30 of 500\n",
            "building tree 31 of 500\n",
            "building tree 32 of 500\n",
            "building tree 33 of 500\n",
            "building tree 34 of 500\n",
            "building tree 35 of 500\n",
            "building tree 36 of 500building tree 37 of 500\n",
            "\n",
            "building tree 38 of 500\n",
            "building tree 39 of 500\n",
            "building tree 40 of 500building tree 41 of 500\n",
            "\n",
            "building tree 42 of 500building tree 43 of 500\n",
            "\n",
            "building tree 44 of 500building tree 45 of 500\n",
            "\n",
            "building tree 46 of 500building tree 47 of 500\n",
            "\n",
            "building tree 48 of 500building tree 49 of 500\n",
            "building tree 50 of 500\n",
            "building tree 51 of 500\n",
            "building tree 52 of 500\n",
            "building tree 53 of 500\n",
            "building tree 54 of 500\n",
            "building tree 55 of 500\n",
            "\n",
            "building tree 56 of 500\n",
            "building tree 57 of 500building tree 58 of 500\n",
            "building tree 59 of 500\n",
            "\n",
            "building tree 60 of 500\n",
            "building tree 61 of 500building tree 62 of 500\n",
            "building tree 63 of 500\n",
            "\n",
            "building tree 64 of 500building tree 65 of 500\n",
            "building tree 66 of 500\n",
            "building tree 67 of 500\n",
            "building tree 68 of 500\n",
            "\n",
            "building tree 69 of 500building tree 70 of 500\n",
            "building tree 71 of 500\n",
            "\n",
            "building tree 72 of 500\n",
            "building tree 73 of 500\n",
            "building tree 74 of 500\n",
            "building tree 75 of 500building tree 76 of 500\n",
            "\n",
            "building tree 77 of 500\n",
            "building tree 78 of 500\n",
            "building tree 79 of 500building tree 80 of 500\n",
            "\n",
            "building tree 81 of 500building tree 82 of 500\n",
            "\n",
            "building tree 83 of 500building tree 84 of 500\n",
            "building tree 85 of 500\n",
            "\n",
            "building tree 86 of 500building tree 87 of 500\n",
            "\n",
            "building tree 88 of 500building tree 89 of 500\n",
            "\n",
            "building tree 90 of 500building tree 91 of 500\n",
            "\n",
            "building tree 92 of 500building tree 93 of 500\n",
            "\n",
            "building tree 94 of 500building tree 95 of 500\n",
            "building tree 96 of 500\n",
            "\n",
            "building tree 97 of 500\n",
            "building tree 98 of 500\n",
            "building tree 99 of 500\n",
            "building tree 100 of 500\n",
            "building tree 101 of 500\n",
            "building tree 102 of 500\n",
            "building tree 103 of 500\n",
            "building tree 104 of 500building tree 105 of 500\n",
            "\n",
            "building tree 106 of 500\n",
            "building tree 107 of 500\n",
            "building tree 108 of 500\n",
            "building tree 109 of 500\n",
            "building tree 110 of 500\n",
            "building tree 111 of 500building tree 112 of 500\n",
            "\n",
            "building tree 113 of 500\n",
            "building tree 114 of 500\n",
            "building tree 115 of 500\n",
            "building tree 116 of 500\n",
            "building tree 117 of 500\n",
            "building tree 118 of 500\n",
            "building tree 119 of 500\n",
            "building tree 120 of 500\n",
            "building tree 121 of 500building tree 122 of 500\n",
            "\n",
            "building tree 123 of 500\n",
            "building tree 124 of 500\n",
            "building tree 125 of 500\n",
            "building tree 126 of 500\n",
            "building tree 127 of 500\n",
            "building tree 128 of 500\n",
            "building tree 129 of 500building tree 130 of 500\n",
            "\n",
            "building tree 131 of 500\n",
            "building tree 132 of 500\n",
            "building tree 133 of 500\n",
            "building tree 134 of 500\n",
            "building tree 135 of 500\n",
            "building tree 136 of 500\n",
            "building tree 137 of 500\n",
            "building tree 138 of 500\n",
            "building tree 139 of 500\n",
            "building tree 140 of 500\n",
            "building tree 141 of 500\n",
            "building tree 142 of 500\n",
            "building tree 143 of 500\n",
            "building tree 144 of 500\n",
            "building tree 145 of 500\n",
            "building tree 146 of 500\n",
            "building tree 147 of 500\n",
            "building tree 148 of 500\n",
            "building tree 149 of 500\n",
            "building tree 150 of 500\n",
            "building tree 151 of 500\n",
            "building tree 152 of 500\n",
            "building tree 153 of 500\n",
            "building tree 154 of 500\n",
            "building tree 155 of 500\n",
            "building tree 156 of 500\n",
            "building tree 157 of 500\n",
            "building tree 158 of 500\n",
            "building tree 159 of 500\n",
            "building tree 160 of 500\n",
            "building tree 161 of 500\n",
            "building tree 162 of 500\n",
            "building tree 163 of 500\n",
            "building tree 164 of 500\n",
            "building tree 165 of 500\n",
            "building tree 166 of 500building tree 167 of 500\n",
            "\n",
            "building tree 168 of 500\n",
            "building tree 169 of 500\n",
            "building tree 170 of 500\n",
            "building tree 171 of 500\n",
            "building tree 172 of 500\n",
            "building tree 173 of 500\n",
            "building tree 174 of 500\n",
            "building tree 175 of 500\n",
            "building tree 176 of 500\n",
            "building tree 177 of 500building tree 178 of 500\n",
            "\n",
            "building tree 179 of 500\n",
            "building tree 180 of 500\n",
            "building tree 181 of 500\n",
            "building tree 182 of 500\n",
            "building tree 183 of 500\n",
            "building tree 184 of 500building tree 185 of 500\n",
            "\n",
            "building tree 186 of 500\n",
            "building tree 187 of 500\n",
            "building tree 188 of 500building tree 189 of 500\n",
            "\n",
            "building tree 190 of 500\n",
            "building tree 191 of 500building tree 192 of 500\n",
            "\n",
            "building tree 193 of 500\n",
            "building tree 194 of 500\n",
            "building tree 195 of 500\n",
            "building tree 196 of 500\n",
            "building tree 197 of 500\n",
            "building tree 198 of 500\n",
            "building tree 199 of 500\n",
            "building tree 200 of 500building tree 201 of 500\n",
            "\n",
            "building tree 202 of 500\n",
            "building tree 203 of 500\n",
            "building tree 204 of 500building tree 205 of 500\n",
            "\n",
            "building tree 206 of 500\n",
            "building tree 207 of 500\n",
            "building tree 208 of 500\n",
            "building tree 209 of 500\n",
            "building tree 210 of 500\n",
            "building tree 211 of 500\n",
            "building tree 212 of 500\n",
            "building tree 213 of 500building tree 214 of 500\n",
            "\n"
          ]
        },
        {
          "output_type": "stream",
          "name": "stderr",
          "text": [
            "[Parallel(n_jobs=-1)]: Done 158 tasks      | elapsed:    0.3s\n"
          ]
        },
        {
          "output_type": "stream",
          "name": "stdout",
          "text": [
            "building tree 215 of 500\n",
            "building tree 216 of 500\n",
            "building tree 217 of 500\n",
            "building tree 218 of 500\n",
            "building tree 219 of 500\n",
            "building tree 220 of 500\n",
            "building tree 221 of 500\n",
            "building tree 222 of 500\n",
            "building tree 223 of 500\n",
            "building tree 224 of 500\n",
            "building tree 225 of 500\n",
            "building tree 226 of 500\n",
            "building tree 227 of 500\n",
            "building tree 228 of 500\n",
            "building tree 229 of 500\n",
            "building tree 230 of 500building tree 231 of 500\n",
            "\n",
            "building tree 232 of 500\n",
            "building tree 233 of 500\n",
            "building tree 234 of 500building tree 235 of 500\n",
            "building tree 236 of 500\n",
            "\n",
            "building tree 237 of 500\n",
            "building tree 238 of 500\n",
            "building tree 239 of 500building tree 240 of 500\n",
            "\n",
            "building tree 241 of 500\n",
            "building tree 242 of 500\n",
            "building tree 243 of 500\n",
            "building tree 244 of 500\n",
            "building tree 245 of 500\n",
            "building tree 246 of 500building tree 247 of 500\n",
            "\n",
            "building tree 248 of 500building tree 249 of 500\n",
            "building tree 250 of 500\n",
            "\n",
            "building tree 251 of 500\n",
            "building tree 252 of 500building tree 253 of 500\n",
            "\n",
            "building tree 254 of 500\n",
            "building tree 255 of 500\n",
            "building tree 256 of 500\n",
            "building tree 257 of 500building tree 258 of 500\n",
            "\n",
            "building tree 259 of 500\n",
            "building tree 260 of 500\n",
            "building tree 261 of 500\n",
            "building tree 262 of 500\n",
            "building tree 263 of 500\n",
            "building tree 264 of 500building tree 265 of 500\n",
            "\n",
            "building tree 266 of 500\n",
            "building tree 267 of 500\n",
            "building tree 268 of 500\n",
            "building tree 269 of 500\n",
            "building tree 270 of 500\n",
            "building tree 271 of 500\n",
            "building tree 272 of 500\n",
            "building tree 273 of 500\n",
            "building tree 274 of 500\n",
            "building tree 275 of 500\n",
            "building tree 276 of 500building tree 277 of 500\n",
            "\n",
            "building tree 278 of 500\n",
            "building tree 279 of 500\n",
            "building tree 280 of 500\n",
            "building tree 281 of 500building tree 282 of 500\n",
            "\n",
            "building tree 283 of 500\n",
            "building tree 284 of 500\n",
            "building tree 285 of 500\n",
            "building tree 286 of 500\n",
            "building tree 287 of 500\n",
            "building tree 288 of 500\n",
            "building tree 289 of 500\n",
            "building tree 290 of 500\n",
            "building tree 291 of 500building tree 292 of 500\n",
            "\n",
            "building tree 293 of 500\n",
            "building tree 294 of 500\n",
            "building tree 295 of 500\n",
            "building tree 296 of 500\n",
            "building tree 297 of 500\n",
            "building tree 298 of 500\n",
            "building tree 299 of 500\n",
            "building tree 300 of 500\n",
            "building tree 301 of 500\n",
            "building tree 302 of 500\n",
            "building tree 303 of 500\n",
            "building tree 304 of 500\n",
            "building tree 305 of 500\n",
            "building tree 306 of 500\n",
            "building tree 307 of 500\n",
            "building tree 308 of 500\n",
            "building tree 309 of 500\n",
            "building tree 310 of 500\n",
            "building tree 311 of 500building tree 312 of 500\n",
            "building tree 313 of 500\n",
            "building tree 314 of 500\n",
            "building tree 315 of 500\n",
            "building tree 316 of 500\n",
            "building tree 317 of 500\n",
            "building tree 318 of 500\n",
            "\n",
            "building tree 319 of 500\n",
            "building tree 320 of 500\n",
            "building tree 321 of 500\n",
            "building tree 322 of 500\n",
            "building tree 323 of 500\n",
            "building tree 324 of 500\n",
            "building tree 325 of 500building tree 326 of 500\n",
            "\n",
            "building tree 327 of 500\n",
            "building tree 328 of 500\n",
            "building tree 329 of 500\n",
            "building tree 330 of 500\n",
            "building tree 331 of 500\n",
            "building tree 332 of 500\n",
            "building tree 333 of 500\n",
            "building tree 334 of 500\n",
            "building tree 335 of 500building tree 336 of 500\n",
            "\n",
            "building tree 337 of 500\n",
            "building tree 338 of 500\n",
            "building tree 339 of 500\n",
            "building tree 340 of 500\n",
            "building tree 341 of 500building tree 342 of 500\n",
            "\n",
            "building tree 343 of 500building tree 344 of 500\n",
            "\n",
            "building tree 345 of 500\n",
            "building tree 346 of 500\n",
            "building tree 347 of 500\n",
            "building tree 348 of 500\n",
            "building tree 349 of 500\n",
            "building tree 350 of 500\n",
            "building tree 351 of 500\n",
            "building tree 352 of 500\n",
            "building tree 353 of 500\n",
            "building tree 354 of 500\n",
            "building tree 355 of 500\n",
            "building tree 356 of 500\n",
            "building tree 357 of 500\n",
            "building tree 358 of 500\n",
            "building tree 359 of 500\n",
            "building tree 360 of 500\n",
            "building tree 361 of 500\n",
            "building tree 362 of 500\n",
            "building tree 363 of 500\n",
            "building tree 364 of 500\n",
            "building tree 365 of 500\n",
            "building tree 366 of 500building tree 367 of 500\n",
            "\n",
            "building tree 368 of 500\n",
            "building tree 369 of 500\n",
            "building tree 370 of 500\n",
            "building tree 371 of 500\n",
            "building tree 372 of 500\n",
            "building tree 373 of 500\n",
            "building tree 374 of 500building tree 375 of 500\n",
            "building tree 376 of 500\n",
            "\n",
            "building tree 377 of 500building tree 378 of 500\n",
            "\n",
            "building tree 379 of 500building tree 380 of 500\n",
            "\n",
            "building tree 381 of 500\n",
            "building tree 382 of 500\n",
            "building tree 383 of 500\n",
            "building tree 384 of 500\n",
            "building tree 385 of 500building tree 386 of 500\n",
            "\n",
            "building tree 387 of 500\n",
            "building tree 388 of 500\n",
            "building tree 389 of 500\n",
            "building tree 390 of 500building tree 391 of 500\n",
            "\n",
            "building tree 392 of 500\n",
            "building tree 393 of 500\n",
            "building tree 394 of 500\n",
            "building tree 395 of 500building tree 396 of 500\n",
            "\n",
            "building tree 397 of 500\n",
            "building tree 398 of 500\n",
            "building tree 399 of 500building tree 400 of 500\n",
            "\n",
            "building tree 401 of 500building tree 402 of 500\n",
            "\n",
            "building tree 403 of 500building tree 404 of 500\n"
          ]
        },
        {
          "output_type": "stream",
          "name": "stderr",
          "text": [
            "[Parallel(n_jobs=-1)]: Done 361 tasks      | elapsed:    0.8s\n"
          ]
        },
        {
          "output_type": "stream",
          "name": "stdout",
          "text": [
            "building tree 405 of 500\n",
            "building tree 406 of 500\n",
            "building tree 407 of 500\n",
            "\n",
            "building tree 408 of 500\n",
            "building tree 409 of 500building tree 410 of 500\n",
            "\n",
            "building tree 411 of 500\n",
            "building tree 412 of 500building tree 413 of 500\n",
            "\n",
            "building tree 414 of 500\n",
            "building tree 415 of 500\n",
            "building tree 416 of 500\n",
            "building tree 417 of 500\n",
            "building tree 418 of 500\n",
            "building tree 419 of 500\n",
            "building tree 420 of 500\n",
            "building tree 421 of 500building tree 422 of 500\n",
            "\n",
            "building tree 423 of 500\n",
            "building tree 424 of 500\n",
            "building tree 425 of 500\n",
            "building tree 426 of 500\n",
            "building tree 427 of 500building tree 428 of 500\n",
            "\n",
            "building tree 429 of 500\n",
            "building tree 430 of 500\n",
            "building tree 431 of 500\n",
            "building tree 432 of 500\n",
            "building tree 433 of 500\n",
            "building tree 434 of 500\n",
            "building tree 435 of 500building tree 436 of 500\n",
            "\n",
            "building tree 437 of 500\n",
            "building tree 438 of 500\n",
            "building tree 439 of 500\n",
            "building tree 440 of 500\n",
            "building tree 441 of 500\n",
            "building tree 442 of 500\n",
            "building tree 443 of 500\n",
            "building tree 444 of 500building tree 445 of 500\n",
            "\n",
            "building tree 446 of 500\n",
            "building tree 447 of 500\n",
            "building tree 448 of 500\n",
            "building tree 449 of 500building tree 450 of 500\n",
            "building tree 451 of 500\n",
            "building tree 452 of 500\n",
            "building tree 453 of 500\n",
            "building tree 454 of 500\n",
            "\n",
            "building tree 455 of 500\n",
            "building tree 456 of 500\n",
            "building tree 457 of 500\n",
            "building tree 458 of 500\n",
            "building tree 459 of 500\n",
            "building tree 460 of 500\n",
            "building tree 461 of 500building tree 462 of 500\n",
            "\n",
            "building tree 463 of 500\n",
            "building tree 464 of 500building tree 465 of 500\n",
            "\n",
            "building tree 466 of 500\n",
            "building tree 467 of 500\n",
            "building tree 468 of 500\n",
            "building tree 469 of 500building tree 470 of 500\n",
            "\n",
            "building tree 471 of 500\n",
            "building tree 472 of 500building tree 473 of 500\n",
            "\n",
            "building tree 474 of 500\n",
            "building tree 475 of 500\n",
            "building tree 476 of 500\n",
            "building tree 477 of 500building tree 478 of 500\n",
            "\n",
            "building tree 479 of 500\n",
            "building tree 480 of 500building tree 481 of 500\n",
            "\n",
            "building tree 482 of 500\n",
            "building tree 483 of 500\n",
            "building tree 484 of 500\n",
            "building tree 485 of 500\n",
            "building tree 486 of 500\n",
            "building tree 487 of 500\n",
            "building tree 488 of 500building tree 489 of 500\n",
            "\n",
            "building tree 490 of 500building tree 491 of 500\n",
            "building tree 492 of 500\n",
            "\n",
            "building tree 493 of 500\n",
            "building tree 494 of 500\n",
            "building tree 495 of 500\n",
            "building tree 496 of 500building tree 497 of 500\n",
            "building tree 498 of 500\n",
            "\n",
            "building tree 499 of 500\n",
            "building tree 500 of 500\n"
          ]
        },
        {
          "output_type": "stream",
          "name": "stderr",
          "text": [
            "[Parallel(n_jobs=-1)]: Done 500 out of 500 | elapsed:    1.1s finished\n"
          ]
        },
        {
          "output_type": "execute_result",
          "data": {
            "text/plain": [
              "RandomForestClassifier(max_depth=5, max_features=5, n_estimators=500, n_jobs=-1,\n",
              "                       oob_score=True, random_state=0, verbose=2)"
            ]
          },
          "metadata": {},
          "execution_count": 54
        }
      ]
    },
    {
      "cell_type": "code",
      "source": [
        "print(rf_clf_tfidf.feature_importances_)"
      ],
      "metadata": {
        "colab": {
          "base_uri": "https://localhost:8080/"
        },
        "id": "2vXTGtbqhCFC",
        "outputId": "4a3e1f00-2298-4169-db69-9849b60438a2"
      },
      "execution_count": 55,
      "outputs": [
        {
          "output_type": "stream",
          "name": "stdout",
          "text": [
            "[4.65038235e-04 1.43705001e-03 6.38240716e-04 1.74812859e-03\n",
            " 5.58195489e-05 0.00000000e+00 4.91373353e-04 8.98110933e-04\n",
            " 1.84358884e-03 1.11644596e-03 1.26738940e-03 4.36864817e-04\n",
            " 7.08429423e-04 6.26179321e-04 2.57049856e-04 2.71783181e-04\n",
            " 3.26250902e-04 2.20674854e-04 4.02812525e-04 2.01028999e-04\n",
            " 1.34846048e-03 2.93744155e-04 5.51013339e-04 8.46399061e-04\n",
            " 7.67950769e-04 1.14191731e-04 0.00000000e+00 3.68533338e-04\n",
            " 5.09327433e-04 0.00000000e+00 0.00000000e+00 7.53177861e-04\n",
            " 3.81852378e-04 1.94680044e-03 0.00000000e+00 1.01756017e-03\n",
            " 3.87695571e-04 2.71277723e-04 5.56596496e-04 1.21236348e-03\n",
            " 2.73872558e-05 8.00883856e-04 9.79574086e-04 2.02264579e-03\n",
            " 6.59695148e-04 1.73253171e-03 3.78633736e-03 1.97275795e-04\n",
            " 3.06491921e-03 1.49294331e-03 7.24999648e-04 4.18272722e-03\n",
            " 1.02383929e-03 1.00128300e-03 1.35135135e-05 2.90197178e-03\n",
            " 7.54392395e-04 0.00000000e+00 2.33653490e-03 2.39765652e-04\n",
            " 1.48069000e-03 0.00000000e+00 1.81532791e-03 0.00000000e+00\n",
            " 1.63458924e-03 2.58587338e-03 2.34812276e-03 7.83360979e-04\n",
            " 1.63347853e-04 0.00000000e+00 0.00000000e+00 8.12619892e-04\n",
            " 7.24487675e-04 1.81769956e-03 2.94091888e-04 3.37104438e-03\n",
            " 2.51526645e-04 3.87465754e-04 1.64910936e-03 9.31101802e-04\n",
            " 7.04740554e-04 8.05410551e-04 4.28625875e-04 5.04943450e-04\n",
            " 1.16544847e-04 1.29153306e-03 2.23055907e-03 0.00000000e+00\n",
            " 1.50647522e-03 0.00000000e+00 0.00000000e+00 1.07794359e-03\n",
            " 7.07821290e-04 7.30460190e-06 4.22539481e-04 9.72435256e-04\n",
            " 3.09623633e-03 0.00000000e+00 4.53055533e-03 3.56265755e-04\n",
            " 1.12110952e-03 1.80904487e-04 2.92586591e-04 3.76899741e-04\n",
            " 6.66436689e-04 2.34621419e-04 4.14099899e-03 2.48525783e-03\n",
            " 1.17633841e-03 3.44268123e-04 8.61007468e-04 1.27765568e-04\n",
            " 6.20373086e-04 2.96262506e-03 2.67040153e-04 3.46503184e-04\n",
            " 0.00000000e+00 7.98851479e-04 3.51580829e-04 0.00000000e+00\n",
            " 3.66146334e-03 1.91928556e-03 0.00000000e+00 7.67085044e-04\n",
            " 5.48665013e-04 1.68682518e-03 4.66439620e-03 1.56546939e-03\n",
            " 9.42640883e-04 2.92440302e-04 2.79909796e-04 9.12573690e-03\n",
            " 1.46856688e-04 5.06593830e-04 1.35310848e-03 1.90156766e-03\n",
            " 1.26683481e-03 6.42381345e-04 1.82006156e-03 8.07111042e-04\n",
            " 1.01976233e-03 1.91460902e-03 2.23428180e-04 3.31116147e-03\n",
            " 5.55646214e-04 1.19166003e-03 9.74228912e-04 6.54857552e-04\n",
            " 1.18236615e-03 7.54891371e-04 0.00000000e+00 2.39191030e-04\n",
            " 1.34739399e-03 5.16273641e-04 5.83554393e-04 0.00000000e+00\n",
            " 1.29913182e-03 9.01427309e-04 6.51591999e-04 9.89539476e-04\n",
            " 0.00000000e+00 1.64362887e-03 2.80052153e-04 4.08010685e-04\n",
            " 6.77367597e-04 5.21548931e-04 0.00000000e+00 0.00000000e+00\n",
            " 9.07856489e-04 0.00000000e+00 3.09320745e-03 0.00000000e+00\n",
            " 1.73778206e-05 0.00000000e+00 8.95338188e-04 0.00000000e+00\n",
            " 0.00000000e+00 1.74584831e-03 1.54269972e-04 1.48475484e-03\n",
            " 3.09877195e-03 7.47730269e-04 1.11186644e-03 0.00000000e+00\n",
            " 1.24019236e-04 1.33373049e-03 2.30264066e-03 2.30073703e-04\n",
            " 2.99677271e-04 1.25646519e-03 1.87009031e-03 9.14749440e-04\n",
            " 5.09302453e-05 2.86931566e-03 5.12897477e-03 1.05827201e-03\n",
            " 1.03242553e-03 0.00000000e+00 1.25827947e-03 4.46088383e-04\n",
            " 1.18454074e-03 1.50026607e-03 2.62526994e-04 9.32700628e-04\n",
            " 2.10435338e-03 9.00760165e-04 3.55132365e-03 7.16149164e-06\n",
            " 6.05290237e-06 6.72855539e-04 9.43005382e-04 7.38398760e-04\n",
            " 1.40819249e-03 1.53145370e-04 5.69631067e-04 0.00000000e+00\n",
            " 4.59183673e-05 0.00000000e+00 1.16506023e-03 0.00000000e+00\n",
            " 2.98160130e-04 8.11825373e-05 2.69065471e-04 2.84145400e-04\n",
            " 1.51040074e-03 6.66325517e-04 1.49118472e-03 2.35798142e-03\n",
            " 2.91577396e-04 1.08461241e-03 1.52236248e-03 8.39513409e-04\n",
            " 2.14848284e-03 5.07636341e-04 3.80013543e-04 1.44679175e-03\n",
            " 1.88157700e-03 3.89827402e-04 1.09954380e-03 1.44631662e-03\n",
            " 0.00000000e+00 7.97993300e-04 0.00000000e+00 1.09556107e-03\n",
            " 1.69164544e-03 1.21471032e-03 1.94544884e-03 6.55629753e-04\n",
            " 5.68283251e-04 2.81699308e-03 2.06854553e-04 1.09124867e-03\n",
            " 2.38780385e-03 2.53179679e-04 1.27792324e-03 2.81241143e-03\n",
            " 2.04201337e-03 1.42606984e-03 3.36809354e-03 2.85988987e-04\n",
            " 6.65937235e-04 2.19031846e-03 1.25607211e-04 3.09424967e-04\n",
            " 2.56789833e-03 2.10600383e-03 3.19627909e-05 1.18876915e-03\n",
            " 8.57412745e-04 2.11520937e-03 1.00957590e-03 6.47923111e-03\n",
            " 1.56525858e-03 3.70483725e-04 3.23608299e-04 1.56350967e-03\n",
            " 0.00000000e+00 2.50569312e-04 1.10129830e-03 3.24425045e-04\n",
            " 2.27602990e-04 3.26649480e-04 2.58447248e-03 1.18578370e-03\n",
            " 1.17917365e-03 1.33747844e-03 1.72014004e-04 6.71296870e-04\n",
            " 6.66653773e-04 0.00000000e+00 1.02032167e-03 5.81080530e-04\n",
            " 2.55446545e-03 2.79062218e-04 8.71809276e-04 2.15449165e-03\n",
            " 0.00000000e+00 7.87506351e-04 0.00000000e+00 3.50171186e-04\n",
            " 1.07902622e-03 8.06979327e-03 7.38697354e-04 1.28295099e-03\n",
            " 1.33610916e-03 8.70289018e-04 9.58326051e-04 4.58709616e-03\n",
            " 1.17697090e-03 1.16937960e-03 0.00000000e+00 4.87641814e-04\n",
            " 7.19923630e-05 1.00807253e-03 1.12546554e-03 1.89403974e-04\n",
            " 1.69265591e-03 9.14816592e-04 0.00000000e+00 0.00000000e+00\n",
            " 2.42593566e-03 1.07132086e-04 6.09632189e-05 1.77852674e-04\n",
            " 6.55565318e-04 2.57967015e-04 0.00000000e+00 0.00000000e+00\n",
            " 1.43412388e-04 3.45434896e-03 4.79973942e-04 6.09276221e-03\n",
            " 6.16772894e-05 6.91420942e-04 0.00000000e+00 2.36815386e-04\n",
            " 1.74013189e-03 1.01248398e-03 1.36092620e-03 5.13456977e-04\n",
            " 3.12250835e-04 8.30259820e-04 1.03744147e-04 8.13614228e-04\n",
            " 5.26799653e-04 3.25447537e-04 3.31794791e-04 1.73634212e-03\n",
            " 1.15027164e-03 2.25452473e-03 2.32640639e-04 0.00000000e+00\n",
            " 3.77820834e-04 4.23148223e-05 4.81123423e-04 5.78225095e-04\n",
            " 1.84890940e-04 3.68668186e-04 4.65819366e-04 3.64925494e-03\n",
            " 2.83718195e-03 2.78784848e-03 0.00000000e+00 0.00000000e+00\n",
            " 1.41819821e-03 7.35294118e-05 1.09521910e-02 1.56187139e-03\n",
            " 9.30323596e-04 1.82557325e-03 5.81128491e-03 1.67366797e-04\n",
            " 1.89370531e-04 1.21536863e-03 1.50975510e-03 2.33055039e-04\n",
            " 8.09492729e-04 3.50051853e-03 5.17360536e-04 3.05217024e-04\n",
            " 2.19121375e-03 1.20357966e-03 7.37333657e-04 6.15033261e-04\n",
            " 1.82550311e-03 0.00000000e+00 0.00000000e+00 4.34238795e-04\n",
            " 1.87888145e-03 5.81639498e-04 1.15226976e-03 9.56964957e-04\n",
            " 4.47291363e-04 1.66666667e-04 3.82097828e-04 1.04481689e-03\n",
            " 0.00000000e+00 1.13348779e-04 0.00000000e+00 5.62864399e-04\n",
            " 8.16398343e-04 3.97863317e-04 3.14363473e-04 1.13820320e-03\n",
            " 4.94518803e-04 0.00000000e+00 5.24861661e-04 7.48004091e-04\n",
            " 7.96717304e-04 2.45063953e-03 0.00000000e+00 0.00000000e+00\n",
            " 2.67231216e-04 2.28040737e-03 1.59427012e-03 5.52433679e-04\n",
            " 0.00000000e+00 0.00000000e+00 0.00000000e+00 7.13637570e-04\n",
            " 1.00436348e-03 2.51373459e-04 2.91586448e-04 0.00000000e+00\n",
            " 0.00000000e+00 0.00000000e+00 4.38176485e-04 1.51725772e-03\n",
            " 0.00000000e+00 6.52721139e-04 3.86972923e-04 2.88993906e-03\n",
            " 1.28255249e-03 3.55426980e-04 0.00000000e+00 7.35458270e-04\n",
            " 1.26086122e-04 7.83937447e-04 8.23651848e-04 5.95773978e-04\n",
            " 3.69546216e-04 1.29922481e-03 0.00000000e+00 4.85139814e-04\n",
            " 7.69648323e-04 0.00000000e+00 9.11768472e-05 1.14442275e-03\n",
            " 0.00000000e+00 8.52597908e-04 5.06019049e-04 1.21044641e-03\n",
            " 4.64512262e-04 0.00000000e+00 1.64424920e-03 1.24839721e-03\n",
            " 0.00000000e+00 9.90802390e-04 5.41291468e-04 1.19831800e-03\n",
            " 3.87055676e-04 3.26087165e-04 5.47206749e-04 3.65278826e-04\n",
            " 1.32426171e-03 2.78685492e-04 1.31426546e-03 0.00000000e+00\n",
            " 3.19562038e-04 7.41469443e-03 1.70692899e-03 6.00966398e-04\n",
            " 0.00000000e+00 8.39601356e-04 0.00000000e+00 0.00000000e+00\n",
            " 5.40899726e-04 3.44324131e-04 2.69345002e-04 3.37751517e-04\n",
            " 0.00000000e+00 2.14246835e-04 1.50012798e-04 8.48148959e-04\n",
            " 0.00000000e+00 1.85469310e-04 0.00000000e+00 3.63848701e-04\n",
            " 1.59882427e-03 8.66071255e-04 1.03434129e-03 0.00000000e+00\n",
            " 9.50412264e-04 3.32499691e-04 2.31404959e-04 1.85116199e-04\n",
            " 1.57285756e-03 2.04709412e-03 1.96348139e-04 8.35583424e-04\n",
            " 8.58280162e-04 1.51924375e-05 5.68334678e-04 9.41801433e-04\n",
            " 1.36994326e-03 1.58328488e-04 4.74245139e-04 2.13941291e-04\n",
            " 2.69702384e-03 3.99893844e-04 5.62701396e-04 5.43522630e-04\n",
            " 1.70219031e-03 0.00000000e+00 1.87734668e-04 8.03677698e-04\n",
            " 7.41846378e-04 5.21273530e-04 2.69141934e-04 6.64788376e-05\n",
            " 1.00320674e-03 8.01174990e-03 0.00000000e+00 5.42898450e-04\n",
            " 1.12427720e-03 3.25096820e-04 2.45031268e-03 3.06890235e-04\n",
            " 7.93695445e-04 9.93725753e-04 3.46020761e-05 5.01367847e-04\n",
            " 4.06752341e-04 1.22543895e-03 5.48198196e-04 2.88717797e-04\n",
            " 9.03084056e-03 3.47790133e-03 1.07474805e-04 0.00000000e+00\n",
            " 1.83752828e-03 2.29110145e-03 1.97819630e-04 7.44593022e-04\n",
            " 0.00000000e+00 0.00000000e+00 0.00000000e+00 4.96595491e-04\n",
            " 1.62651709e-04 8.51097567e-04 1.48202610e-03 4.60650024e-03\n",
            " 7.65707802e-04 0.00000000e+00 6.75895293e-04 0.00000000e+00\n",
            " 3.91234769e-04 0.00000000e+00 6.16792147e-04 0.00000000e+00\n",
            " 2.17180432e-03 1.90252305e-03 4.61672565e-04 1.05714871e-04\n",
            " 3.35838330e-03 2.29986339e-04 1.72269250e-03 2.82653204e-03\n",
            " 0.00000000e+00 1.41252988e-03 1.02582169e-03 2.29855130e-03\n",
            " 0.00000000e+00 2.00340615e-03 8.27251162e-04 3.33125778e-04\n",
            " 1.47518481e-04 4.16788988e-04 0.00000000e+00 0.00000000e+00\n",
            " 7.75409561e-04 1.00475576e-03 9.50351844e-04 3.32426738e-03\n",
            " 1.59690607e-03 2.18487645e-04 3.05366299e-04 0.00000000e+00\n",
            " 3.22504663e-04 2.04216822e-03 1.68340626e-04 4.01530160e-04\n",
            " 2.17582032e-04 1.13173279e-04 1.35145776e-03 1.08054009e-03\n",
            " 5.40431770e-03 3.84164026e-04 4.87269566e-04 0.00000000e+00\n",
            " 1.72963583e-03 1.14867849e-03 1.23063922e-03 2.54475937e-04\n",
            " 5.91632418e-04 8.36582096e-04 1.55096378e-03 3.85498304e-04\n",
            " 6.69326041e-04 3.41083957e-04 1.49383485e-03 1.15214395e-03\n",
            " 1.23250627e-03 8.99302665e-04 1.31750770e-03 2.60127399e-03\n",
            " 2.30549827e-03 4.78318604e-03 2.04731138e-03 3.14314043e-04\n",
            " 8.45846546e-04 9.24487707e-04 2.88783952e-03 1.65444480e-03\n",
            " 2.41279629e-03 4.22612107e-04 4.36838561e-04 5.34530711e-04\n",
            " 1.31659438e-03 1.66140083e-03 1.00028179e-03 5.34243837e-04\n",
            " 0.00000000e+00 0.00000000e+00 4.30040050e-04 4.85916502e-04\n",
            " 1.48616267e-03 1.06734318e-03 1.62882054e-03 6.85899109e-04\n",
            " 2.46838336e-04 0.00000000e+00 0.00000000e+00 2.83906314e-03\n",
            " 2.36047541e-03 1.18937234e-03 2.14005688e-03 4.07567431e-04\n",
            " 2.62295478e-04 1.97823133e-03 5.86691732e-04 3.00704814e-04\n",
            " 4.88476326e-04 3.53374929e-04 6.60681552e-04 3.07186863e-04\n",
            " 3.49799166e-03 2.80513859e-04 5.98487386e-03 3.79913600e-04\n",
            " 7.45615853e-04 8.66767968e-04 9.57634306e-04 4.67556995e-04\n",
            " 1.58802828e-03 1.65025723e-03 2.32731335e-04 2.25889256e-04\n",
            " 1.73790937e-03 1.57894737e-05 6.61313798e-04 1.28590980e-03\n",
            " 1.47573822e-03 1.38908092e-03 2.05103162e-04 1.95737008e-04\n",
            " 2.94866542e-04 7.98804228e-04 1.84737337e-04 1.17229656e-03\n",
            " 8.50785194e-04 2.20056981e-03 0.00000000e+00 0.00000000e+00\n",
            " 3.88980030e-03 9.67618102e-04 5.97385179e-04 1.03335000e-03\n",
            " 2.72597480e-04 7.33797620e-04 9.35005522e-04 5.03782455e-04\n",
            " 1.06074538e-03 1.69990210e-03 4.37156085e-04 5.16907276e-04\n",
            " 8.29833767e-04 1.95199484e-03 1.73327156e-03 0.00000000e+00\n",
            " 1.53889142e-03 3.30709342e-04 3.70149545e-04 2.56931177e-03\n",
            " 0.00000000e+00 0.00000000e+00 1.99227287e-03 9.62392841e-04\n",
            " 3.94933873e-04 2.80264265e-03 1.53466409e-04 3.94442449e-04\n",
            " 0.00000000e+00 9.05056713e-04 9.70422700e-04 1.16797115e-03\n",
            " 1.25832810e-03 8.99492807e-04 0.00000000e+00 3.87816111e-05\n",
            " 8.28454444e-04 8.92653781e-04 9.71789043e-04 2.17879944e-04\n",
            " 4.61575094e-04 6.03482786e-04 6.08024353e-04 0.00000000e+00\n",
            " 5.30852882e-04 1.13460803e-03 0.00000000e+00 8.80361174e-05\n",
            " 0.00000000e+00 2.65329988e-03 4.12537011e-04 1.31154311e-03\n",
            " 2.51304180e-04 9.26786660e-04 2.05492026e-03 1.65675446e-04\n",
            " 0.00000000e+00 6.67749987e-04 5.52414875e-04 1.20712699e-03\n",
            " 9.73830777e-04 5.70200321e-04 1.61089223e-04 1.03631980e-03\n",
            " 3.86386041e-04 3.70815581e-04 1.41826839e-03 2.86865735e-03\n",
            " 2.23641158e-03 7.19939673e-04 7.61769841e-04 6.59906604e-03\n",
            " 1.04224392e-03 1.21608165e-03 4.49511077e-04 6.48193096e-04\n",
            " 2.98244600e-03 2.54968921e-03 1.62681564e-03 2.45243161e-04\n",
            " 8.14714425e-04 1.15269766e-03 3.35789335e-04 8.00284437e-04\n",
            " 1.17351669e-03 1.85319796e-03 2.20466166e-04 1.20000897e-03\n",
            " 1.90839695e-04 1.79311484e-03 1.26553111e-03 4.22627185e-04\n",
            " 0.00000000e+00 4.69021260e-04 2.51114827e-04 1.09761474e-03\n",
            " 0.00000000e+00 3.12438280e-03 1.87106748e-04 2.43547979e-03\n",
            " 1.00832440e-03 7.08179352e-04 3.20035518e-04 1.38268893e-03\n",
            " 3.53354360e-04 2.03514551e-03 1.02954695e-03 9.75692256e-04\n",
            " 1.90326470e-03 1.44268006e-03 1.28297712e-03 1.25807126e-03\n",
            " 1.10169176e-03 2.59139287e-04 8.26785595e-04 8.10850316e-04\n",
            " 1.18144700e-03 0.00000000e+00 6.84121513e-04 0.00000000e+00\n",
            " 1.19169609e-03 6.95827963e-04 0.00000000e+00 2.94058812e-04\n",
            " 4.79467693e-03 0.00000000e+00 6.55490661e-04 1.22636399e-03\n",
            " 8.46477414e-04 9.67409699e-04 6.76503096e-04 1.44845440e-03\n",
            " 0.00000000e+00 4.41688939e-04 0.00000000e+00 1.45088492e-03\n",
            " 3.11291717e-03 1.92216590e-03 6.20210890e-04 7.24301835e-04\n",
            " 3.75735645e-04 2.69692367e-03 3.67329758e-03 7.00380064e-04\n",
            " 9.55010643e-04 4.14704227e-06 1.80256777e-03 2.90969005e-04\n",
            " 2.29912943e-04 1.20825191e-03 2.61873374e-04 4.19767031e-04\n",
            " 2.95911260e-03 1.89583776e-03 3.72146683e-03 0.00000000e+00\n",
            " 1.37691469e-03 1.38238783e-03 3.35391569e-03 1.03445609e-03\n",
            " 6.65525485e-03 5.86520645e-04 1.41671716e-03 6.43419072e-04\n",
            " 8.60691224e-04 6.34215443e-04 2.29362114e-03 2.82317172e-05\n",
            " 5.08681893e-04 6.02728712e-04 1.33530496e-03 9.42230460e-05\n",
            " 0.00000000e+00 1.56527774e-03 8.76224852e-04 1.52684714e-03\n",
            " 8.11972021e-04 1.97351893e-03 1.83434896e-04 8.24904791e-04\n",
            " 1.22549020e-04 3.53049330e-04 1.14625376e-03 1.34119998e-03\n",
            " 1.43853423e-03 1.47203140e-04 6.83764270e-04 1.28796195e-04\n",
            " 1.12841473e-03 1.93873113e-04 0.00000000e+00 2.02478818e-04\n",
            " 2.37851749e-03 1.53396542e-03 1.03674095e-03 2.00338766e-03\n",
            " 0.00000000e+00 0.00000000e+00 3.66288800e-05 3.40861001e-03\n",
            " 2.30508786e-03 4.95749011e-04 1.12192188e-03 6.73452533e-04\n",
            " 1.96648027e-03 0.00000000e+00 2.30295643e-03 8.14850770e-04\n",
            " 2.08308363e-03 9.76783802e-04 5.29007571e-04 0.00000000e+00\n",
            " 2.42460621e-03 1.42585688e-03 1.81451559e-03 1.54099940e-03\n",
            " 5.94603591e-04 4.68644232e-04 2.42432657e-04 4.83821555e-04\n",
            " 4.48861372e-04 0.00000000e+00 2.40088289e-03 5.03362288e-04\n",
            " 6.58338595e-04 9.75104333e-04 1.36989369e-03 7.87571494e-04\n",
            " 1.67398174e-04 2.34129983e-04 0.00000000e+00 2.20655495e-03\n",
            " 4.04641044e-04 3.05525303e-04 8.97783196e-04 2.21144371e-03\n",
            " 4.36818318e-04 9.16329049e-04 2.55446527e-03 1.96800406e-04\n",
            " 3.91531949e-03 0.00000000e+00 9.12691497e-04 2.65219660e-04\n",
            " 0.00000000e+00 5.10512584e-04 4.38215655e-04 5.67018704e-03\n",
            " 9.33706816e-05 5.43350208e-04 6.55768969e-04 2.31365967e-04\n",
            " 0.00000000e+00 4.73264597e-04 0.00000000e+00 1.13047574e-04\n",
            " 9.78199620e-04 3.26852357e-04 1.57735763e-03 4.47947736e-04\n",
            " 4.21222344e-04 1.57194724e-03 0.00000000e+00 5.10474832e-03\n",
            " 1.80742289e-03 1.00190222e-04 5.99929961e-04 1.87244803e-03\n",
            " 5.32850746e-04 3.04918296e-03 5.53728781e-04 3.81045836e-04\n",
            " 6.28254835e-04 6.02364788e-04 2.49755795e-03 4.58727014e-03\n",
            " 2.85221458e-03 1.36687822e-03 1.08150706e-03 1.42317466e-03\n",
            " 3.46133139e-04 1.38593819e-03 3.98678164e-04 0.00000000e+00\n",
            " 3.75825852e-04 9.83891417e-04 2.66130999e-03 1.48079036e-03\n",
            " 2.78658054e-03 9.20207535e-04 8.82323318e-04 1.72294049e-04\n",
            " 1.67122835e-03 2.21740829e-03 1.64796458e-04 0.00000000e+00\n",
            " 1.05226612e-03 1.20929084e-03 3.46197408e-04 2.87241455e-04\n",
            " 7.03397498e-04 1.21167962e-03 0.00000000e+00 1.64732011e-03\n",
            " 6.24149220e-04 2.09031319e-03 3.83021050e-04 2.49575191e-04\n",
            " 1.43817515e-03 2.63578086e-04 1.58711753e-03 0.00000000e+00\n",
            " 1.41965677e-03 2.11953010e-04 6.60935324e-04 0.00000000e+00]\n"
          ]
        }
      ]
    },
    {
      "cell_type": "code",
      "source": [
        "min(rf_clf_tfidf.feature_importances_)"
      ],
      "metadata": {
        "colab": {
          "base_uri": "https://localhost:8080/"
        },
        "id": "sYhiuLD2hCHw",
        "outputId": "732fcb25-6c82-4eb7-e148-8c60c5902b82"
      },
      "execution_count": 56,
      "outputs": [
        {
          "output_type": "execute_result",
          "data": {
            "text/plain": [
              "0.0"
            ]
          },
          "metadata": {},
          "execution_count": 56
        }
      ]
    },
    {
      "cell_type": "code",
      "source": [
        "print('Média da acurácia das classes: ', rf_clf_tfidf.score(X_tfidf, y))"
      ],
      "metadata": {
        "colab": {
          "base_uri": "https://localhost:8080/"
        },
        "id": "uSl1ICrfhCL3",
        "outputId": "fddfa715-0e0a-4851-f29f-1dfd9e039805"
      },
      "execution_count": 57,
      "outputs": [
        {
          "output_type": "stream",
          "name": "stdout",
          "text": [
            "Média da acurácia das classes:  1.0\n"
          ]
        },
        {
          "output_type": "stream",
          "name": "stderr",
          "text": [
            "[Parallel(n_jobs=2)]: Using backend ThreadingBackend with 2 concurrent workers.\n",
            "[Parallel(n_jobs=2)]: Done  37 tasks      | elapsed:    0.0s\n",
            "[Parallel(n_jobs=2)]: Done 158 tasks      | elapsed:    0.0s\n",
            "[Parallel(n_jobs=2)]: Done 361 tasks      | elapsed:    0.1s\n",
            "[Parallel(n_jobs=2)]: Done 500 out of 500 | elapsed:    0.1s finished\n"
          ]
        }
      ]
    },
    {
      "cell_type": "markdown",
      "source": [
        "## Treinando uma RandomForest com as features LSA (tópicos) dos documentos"
      ],
      "metadata": {
        "id": "UMFeN0rahe-V"
      }
    },
    {
      "cell_type": "code",
      "source": [
        "rf_clf_lsa = RandomForestClassifier(n_estimators=500, n_jobs=-1, max_features=5, max_depth=5, oob_score=True, verbose=2, random_state=0)\n",
        "rf_clf_lsa.fit(X_lsa, y)"
      ],
      "metadata": {
        "colab": {
          "base_uri": "https://localhost:8080/"
        },
        "id": "cX1wXLkDhavZ",
        "outputId": "8a62c3be-99d5-4256-a7bd-9fc39eda7b04"
      },
      "execution_count": 58,
      "outputs": [
        {
          "output_type": "stream",
          "name": "stdout",
          "text": [
            "building tree 1 of 500\n",
            "building tree 2 of 500\n",
            "building tree 3 of 500\n",
            "building tree 4 of 500\n",
            "building tree 5 of 500\n",
            "building tree 6 of 500\n",
            "building tree 7 of 500\n",
            "building tree 8 of 500\n",
            "building tree 9 of 500\n",
            "building tree 10 of 500\n",
            "building tree 11 of 500building tree 12 of 500\n",
            "\n",
            "building tree 13 of 500\n",
            "building tree 14 of 500\n",
            "building tree 15 of 500\n",
            "building tree 16 of 500\n",
            "building tree 17 of 500\n",
            "building tree 18 of 500\n",
            "building tree 19 of 500\n",
            "building tree 20 of 500\n",
            "building tree 21 of 500\n",
            "building tree 22 of 500\n",
            "building tree 23 of 500\n",
            "building tree 24 of 500\n",
            "building tree 25 of 500\n",
            "building tree 26 of 500\n",
            "building tree 27 of 500\n",
            "building tree 28 of 500\n",
            "building tree 29 of 500\n",
            "building tree 30 of 500\n",
            "building tree 31 of 500\n",
            "building tree 32 of 500\n",
            "building tree 33 of 500building tree 34 of 500\n",
            "building tree 35 of 500\n",
            "building tree 36 of 500\n",
            "building tree 37 of 500\n",
            "\n",
            "building tree 38 of 500\n",
            "building tree 39 of 500building tree 40 of 500\n",
            "\n",
            "building tree 41 of 500\n"
          ]
        },
        {
          "output_type": "stream",
          "name": "stderr",
          "text": [
            "[Parallel(n_jobs=-1)]: Using backend ThreadingBackend with 2 concurrent workers.\n",
            "[Parallel(n_jobs=-1)]: Done  37 tasks      | elapsed:    0.1s\n"
          ]
        },
        {
          "output_type": "stream",
          "name": "stdout",
          "text": [
            "building tree 42 of 500\n",
            "building tree 43 of 500\n",
            "building tree 44 of 500\n",
            "building tree 45 of 500\n",
            "building tree 46 of 500\n",
            "building tree 47 of 500\n",
            "building tree 48 of 500\n",
            "building tree 49 of 500\n",
            "building tree 50 of 500\n",
            "building tree 51 of 500\n",
            "building tree 52 of 500building tree 53 of 500\n",
            "\n",
            "building tree 54 of 500\n",
            "building tree 55 of 500\n",
            "building tree 56 of 500\n",
            "building tree 57 of 500\n",
            "building tree 58 of 500\n",
            "building tree 59 of 500\n",
            "building tree 60 of 500building tree 61 of 500\n",
            "building tree 62 of 500\n",
            "building tree 63 of 500\n",
            "building tree 64 of 500\n",
            "building tree 65 of 500\n",
            "building tree 66 of 500\n",
            "building tree 67 of 500\n",
            "building tree 68 of 500\n",
            "building tree 69 of 500\n",
            "building tree 70 of 500\n",
            "building tree 71 of 500\n",
            "building tree 72 of 500\n",
            "building tree 73 of 500\n",
            "\n",
            "building tree 74 of 500\n",
            "building tree 75 of 500\n",
            "building tree 76 of 500\n",
            "building tree 77 of 500\n",
            "building tree 78 of 500\n",
            "building tree 79 of 500building tree 80 of 500\n",
            "building tree 81 of 500\n",
            "\n",
            "building tree 82 of 500\n",
            "building tree 83 of 500\n",
            "building tree 84 of 500\n",
            "building tree 85 of 500building tree 86 of 500\n",
            "\n",
            "building tree 87 of 500\n",
            "building tree 88 of 500\n",
            "building tree 89 of 500\n",
            "building tree 90 of 500\n",
            "building tree 91 of 500\n",
            "building tree 92 of 500\n",
            "building tree 93 of 500\n",
            "building tree 94 of 500\n",
            "building tree 95 of 500\n",
            "building tree 96 of 500\n",
            "building tree 97 of 500building tree 98 of 500\n",
            "building tree 99 of 500\n",
            "\n",
            "building tree 100 of 500\n",
            "building tree 101 of 500\n",
            "building tree 102 of 500\n",
            "building tree 103 of 500building tree 104 of 500\n",
            "\n",
            "building tree 105 of 500\n",
            "building tree 106 of 500\n",
            "building tree 107 of 500\n",
            "building tree 108 of 500\n",
            "building tree 109 of 500building tree 110 of 500\n",
            "\n",
            "building tree 111 of 500\n",
            "building tree 112 of 500\n",
            "building tree 113 of 500\n",
            "building tree 114 of 500building tree 115 of 500\n",
            "\n",
            "building tree 116 of 500\n",
            "building tree 117 of 500\n",
            "building tree 118 of 500\n",
            "building tree 119 of 500\n",
            "building tree 120 of 500\n",
            "building tree 121 of 500\n",
            "building tree 122 of 500\n",
            "building tree 123 of 500\n",
            "building tree 124 of 500\n",
            "building tree 125 of 500\n",
            "building tree 126 of 500building tree 127 of 500\n",
            "building tree 128 of 500\n",
            "\n",
            "building tree 129 of 500\n",
            "building tree 130 of 500\n",
            "building tree 131 of 500\n",
            "building tree 132 of 500\n",
            "building tree 133 of 500\n",
            "building tree 134 of 500\n",
            "building tree 135 of 500\n",
            "building tree 136 of 500\n",
            "building tree 137 of 500\n",
            "building tree 138 of 500\n",
            "building tree 139 of 500\n",
            "building tree 140 of 500\n",
            "building tree 141 of 500\n",
            "building tree 142 of 500\n",
            "building tree 143 of 500\n",
            "building tree 144 of 500\n",
            "building tree 145 of 500\n",
            "building tree 146 of 500building tree 147 of 500\n",
            "\n",
            "building tree 148 of 500\n",
            "building tree 149 of 500\n",
            "building tree 150 of 500\n",
            "building tree 151 of 500\n",
            "building tree 152 of 500\n",
            "building tree 153 of 500\n",
            "building tree 154 of 500\n",
            "building tree 155 of 500\n",
            "building tree 156 of 500\n",
            "building tree 157 of 500\n",
            "building tree 158 of 500\n",
            "building tree 159 of 500\n",
            "building tree 160 of 500\n",
            "building tree 161 of 500building tree 162 of 500\n",
            "\n",
            "building tree 163 of 500\n",
            "building tree 164 of 500\n",
            "building tree 165 of 500\n",
            "building tree 166 of 500\n",
            "building tree 167 of 500\n",
            "building tree 168 of 500\n",
            "building tree 169 of 500\n",
            "building tree 170 of 500\n",
            "building tree 171 of 500building tree 172 of 500\n",
            "\n",
            "building tree 173 of 500\n",
            "building tree 174 of 500\n",
            "building tree 175 of 500\n",
            "building tree 176 of 500\n",
            "building tree 177 of 500\n",
            "building tree 178 of 500\n",
            "building tree 179 of 500\n",
            "building tree 180 of 500\n",
            "building tree 181 of 500\n",
            "building tree 182 of 500\n",
            "building tree 183 of 500\n",
            "building tree 184 of 500\n",
            "building tree 185 of 500\n",
            "building tree 186 of 500building tree 187 of 500\n",
            "building tree 188 of 500\n",
            "building tree 189 of 500\n",
            "building tree 190 of 500\n",
            "building tree 191 of 500\n",
            "building tree 192 of 500\n",
            "building tree 193 of 500\n",
            "building tree 194 of 500\n",
            "building tree 195 of 500\n",
            "building tree 196 of 500\n",
            "\n",
            "building tree 197 of 500\n",
            "building tree 198 of 500\n",
            "building tree 199 of 500\n",
            "building tree 200 of 500building tree 201 of 500\n",
            "\n",
            "building tree 202 of 500\n",
            "building tree 203 of 500building tree 204 of 500\n",
            "building tree 205 of 500\n",
            "\n",
            "building tree 206 of 500\n",
            "building tree 207 of 500building tree 208 of 500\n",
            "building tree 209 of 500\n",
            "\n",
            "building tree 210 of 500\n",
            "building tree 211 of 500building tree 212 of 500\n",
            "\n",
            "building tree 213 of 500building tree 214 of 500\n",
            "\n",
            "building tree 215 of 500\n",
            "building tree 216 of 500building tree 217 of 500\n",
            "\n",
            "building tree 218 of 500building tree 219 of 500\n",
            "building tree 220 of 500\n",
            "building tree 221 of 500\n",
            "\n",
            "building tree 222 of 500\n",
            "building tree 223 of 500building tree 224 of 500\n",
            "\n",
            "building tree 225 of 500building tree 226 of 500\n",
            "\n",
            "building tree 227 of 500\n",
            "building tree 228 of 500\n",
            "building tree 229 of 500\n",
            "building tree 230 of 500\n",
            "building tree 231 of 500\n",
            "building tree 232 of 500building tree 233 of 500\n",
            "\n",
            "building tree 234 of 500\n",
            "building tree 235 of 500\n",
            "building tree 236 of 500\n",
            "building tree 237 of 500\n",
            "building tree 238 of 500\n",
            "building tree 239 of 500\n",
            "building tree 240 of 500\n",
            "building tree 241 of 500\n",
            "building tree 242 of 500\n",
            "building tree 243 of 500\n",
            "building tree 244 of 500building tree 245 of 500\n",
            "\n",
            "building tree 246 of 500\n",
            "building tree 247 of 500\n",
            "building tree 248 of 500\n",
            "building tree 249 of 500\n",
            "building tree 250 of 500\n",
            "building tree 251 of 500\n",
            "building tree 252 of 500\n",
            "building tree 253 of 500\n",
            "building tree 254 of 500\n",
            "building tree 255 of 500"
          ]
        },
        {
          "output_type": "stream",
          "name": "stderr",
          "text": [
            "[Parallel(n_jobs=-1)]: Done 158 tasks      | elapsed:    0.3s\n"
          ]
        },
        {
          "output_type": "stream",
          "name": "stdout",
          "text": [
            "\n",
            "building tree 256 of 500\n",
            "building tree 257 of 500\n",
            "building tree 258 of 500\n",
            "building tree 259 of 500\n",
            "building tree 260 of 500\n",
            "building tree 261 of 500\n",
            "building tree 262 of 500\n",
            "building tree 263 of 500\n",
            "building tree 264 of 500\n",
            "building tree 265 of 500\n",
            "building tree 266 of 500\n",
            "building tree 267 of 500\n",
            "building tree 268 of 500\n",
            "building tree 269 of 500\n",
            "building tree 270 of 500\n",
            "building tree 271 of 500building tree 272 of 500\n",
            "\n",
            "building tree 273 of 500\n",
            "building tree 274 of 500\n",
            "building tree 275 of 500\n",
            "building tree 276 of 500\n",
            "building tree 277 of 500building tree 278 of 500\n",
            "\n",
            "building tree 279 of 500\n",
            "building tree 280 of 500\n",
            "building tree 281 of 500building tree 282 of 500\n",
            "\n",
            "building tree 283 of 500\n",
            "building tree 284 of 500\n",
            "building tree 285 of 500building tree 286 of 500\n",
            "\n",
            "building tree 287 of 500building tree 288 of 500\n",
            "\n",
            "building tree 289 of 500\n",
            "building tree 290 of 500\n",
            "building tree 291 of 500\n",
            "building tree 292 of 500\n",
            "building tree 293 of 500\n",
            "building tree 294 of 500\n",
            "building tree 295 of 500\n",
            "building tree 296 of 500\n",
            "building tree 297 of 500\n",
            "building tree 298 of 500\n",
            "building tree 299 of 500\n",
            "building tree 300 of 500building tree 301 of 500\n",
            "\n",
            "building tree 302 of 500\n",
            "building tree 303 of 500\n",
            "building tree 304 of 500\n",
            "building tree 305 of 500\n",
            "building tree 306 of 500\n",
            "building tree 307 of 500\n",
            "building tree 308 of 500\n",
            "building tree 309 of 500\n",
            "building tree 310 of 500building tree 311 of 500\n",
            "building tree 312 of 500\n",
            "building tree 313 of 500\n",
            "\n",
            "building tree 314 of 500\n",
            "building tree 315 of 500building tree 316 of 500\n",
            "building tree 317 of 500\n",
            "\n",
            "building tree 318 of 500\n",
            "building tree 319 of 500\n",
            "building tree 320 of 500building tree 321 of 500\n",
            "building tree 322 of 500\n",
            "\n",
            "building tree 323 of 500\n",
            "building tree 324 of 500\n",
            "building tree 325 of 500\n",
            "building tree 326 of 500\n",
            "building tree 327 of 500\n",
            "building tree 328 of 500building tree 329 of 500\n",
            "\n",
            "building tree 330 of 500\n",
            "building tree 331 of 500\n",
            "building tree 332 of 500\n",
            "building tree 333 of 500\n",
            "building tree 334 of 500\n",
            "building tree 335 of 500\n",
            "building tree 336 of 500\n",
            "building tree 337 of 500\n",
            "building tree 338 of 500\n",
            "building tree 339 of 500building tree 340 of 500\n",
            "\n",
            "building tree 341 of 500building tree 342 of 500\n",
            "\n",
            "building tree 343 of 500\n",
            "building tree 344 of 500\n",
            "building tree 345 of 500\n",
            "building tree 346 of 500\n",
            "building tree 347 of 500\n",
            "building tree 348 of 500\n",
            "building tree 349 of 500\n",
            "building tree 350 of 500\n",
            "building tree 351 of 500\n",
            "building tree 352 of 500\n",
            "building tree 353 of 500\n",
            "building tree 354 of 500\n",
            "building tree 355 of 500\n",
            "building tree 356 of 500\n",
            "building tree 357 of 500\n",
            "building tree 358 of 500\n",
            "building tree 359 of 500\n",
            "building tree 360 of 500\n",
            "building tree 361 of 500\n",
            "building tree 362 of 500\n",
            "building tree 363 of 500\n",
            "building tree 364 of 500\n",
            "building tree 365 of 500\n",
            "building tree 366 of 500\n",
            "building tree 367 of 500\n",
            "building tree 368 of 500\n",
            "building tree 369 of 500\n",
            "building tree 370 of 500building tree 371 of 500\n",
            "\n",
            "building tree 372 of 500\n",
            "building tree 373 of 500\n",
            "building tree 374 of 500\n",
            "building tree 375 of 500\n",
            "building tree 376 of 500\n",
            "building tree 377 of 500\n",
            "building tree 378 of 500\n",
            "building tree 379 of 500\n",
            "building tree 380 of 500\n",
            "building tree 381 of 500\n",
            "building tree 382 of 500\n",
            "building tree 383 of 500\n",
            "building tree 384 of 500\n",
            "building tree 385 of 500\n",
            "building tree 386 of 500building tree 387 of 500\n",
            "\n",
            "building tree 388 of 500\n",
            "building tree 389 of 500\n",
            "building tree 390 of 500\n",
            "building tree 391 of 500\n",
            "building tree 392 of 500\n",
            "building tree 393 of 500\n",
            "building tree 394 of 500\n",
            "building tree 395 of 500\n",
            "building tree 396 of 500\n",
            "building tree 397 of 500\n",
            "building tree 398 of 500\n",
            "building tree 399 of 500\n",
            "building tree 400 of 500\n",
            "building tree 401 of 500building tree 402 of 500\n",
            "\n",
            "building tree 403 of 500\n",
            "building tree 404 of 500building tree 405 of 500\n",
            "\n",
            "building tree 406 of 500\n",
            "building tree 407 of 500\n",
            "building tree 408 of 500\n",
            "building tree 409 of 500\n",
            "building tree 410 of 500\n",
            "building tree 411 of 500\n",
            "building tree 412 of 500\n",
            "building tree 413 of 500building tree 414 of 500\n",
            "\n",
            "building tree 415 of 500\n",
            "building tree 416 of 500\n",
            "building tree 417 of 500\n",
            "building tree 418 of 500\n",
            "building tree 419 of 500\n",
            "building tree 420 of 500\n",
            "building tree 421 of 500\n",
            "building tree 422 of 500\n",
            "building tree 423 of 500\n",
            "building tree 424 of 500\n",
            "building tree 425 of 500\n",
            "building tree 426 of 500building tree 427 of 500\n",
            "\n",
            "building tree 428 of 500\n",
            "building tree 429 of 500\n",
            "building tree 430 of 500\n",
            "building tree 431 of 500\n",
            "building tree 432 of 500building tree 433 of 500\n",
            "\n",
            "building tree 434 of 500\n",
            "building tree 435 of 500\n",
            "building tree 436 of 500\n",
            "building tree 437 of 500building tree 438 of 500\n",
            "\n",
            "building tree 439 of 500\n",
            "building tree 440 of 500\n",
            "building tree 441 of 500\n",
            "building tree 442 of 500building tree 443 of 500\n",
            "\n",
            "building tree 444 of 500\n",
            "building tree 445 of 500\n",
            "building tree 446 of 500\n",
            "building tree 447 of 500\n",
            "building tree 448 of 500\n",
            "building tree 449 of 500\n",
            "building tree 450 of 500\n",
            "building tree 451 of 500building tree 452 of 500\n",
            "\n",
            "building tree 453 of 500building tree 454 of 500\n",
            "\n",
            "building tree 455 of 500\n",
            "building tree 456 of 500\n",
            "building tree 457 of 500\n",
            "building tree 458 of 500\n",
            "building tree 459 of 500\n"
          ]
        },
        {
          "output_type": "stream",
          "name": "stderr",
          "text": [
            "[Parallel(n_jobs=-1)]: Done 361 tasks      | elapsed:    0.7s\n"
          ]
        },
        {
          "output_type": "stream",
          "name": "stdout",
          "text": [
            "building tree 460 of 500\n",
            "building tree 461 of 500\n",
            "building tree 462 of 500\n",
            "building tree 463 of 500\n",
            "building tree 464 of 500\n",
            "building tree 465 of 500\n",
            "building tree 466 of 500\n",
            "building tree 467 of 500\n",
            "building tree 468 of 500\n",
            "building tree 469 of 500building tree 470 of 500\n",
            "\n",
            "building tree 471 of 500\n",
            "building tree 472 of 500\n",
            "building tree 473 of 500building tree 474 of 500\n",
            "\n",
            "building tree 475 of 500building tree 476 of 500\n",
            "\n",
            "building tree 477 of 500building tree 478 of 500\n",
            "\n",
            "building tree 479 of 500\n",
            "building tree 480 of 500\n",
            "building tree 481 of 500\n",
            "building tree 482 of 500\n",
            "building tree 483 of 500\n",
            "building tree 484 of 500\n",
            "building tree 485 of 500building tree 486 of 500\n",
            "building tree 487 of 500\n",
            "building tree 488 of 500\n",
            "\n",
            "building tree 489 of 500\n",
            "building tree 490 of 500building tree 491 of 500\n",
            "\n",
            "building tree 492 of 500\n",
            "building tree 493 of 500\n",
            "building tree 494 of 500building tree 495 of 500\n",
            "\n",
            "building tree 496 of 500\n",
            "building tree 497 of 500\n",
            "building tree 498 of 500\n",
            "building tree 499 of 500building tree 500 of 500\n",
            "\n"
          ]
        },
        {
          "output_type": "stream",
          "name": "stderr",
          "text": [
            "[Parallel(n_jobs=-1)]: Done 500 out of 500 | elapsed:    1.0s finished\n"
          ]
        },
        {
          "output_type": "execute_result",
          "data": {
            "text/plain": [
              "RandomForestClassifier(max_depth=5, max_features=5, n_estimators=500, n_jobs=-1,\n",
              "                       oob_score=True, random_state=0, verbose=2)"
            ]
          },
          "metadata": {},
          "execution_count": 58
        }
      ]
    },
    {
      "cell_type": "code",
      "source": [
        "print(max(rf_clf_lsa.feature_importances_), min(rf_clf_lsa.feature_importances_))"
      ],
      "metadata": {
        "colab": {
          "base_uri": "https://localhost:8080/"
        },
        "id": "zszU9jX5hhyj",
        "outputId": "aceb26a1-29fe-447d-8c1e-8f9d84cef41e"
      },
      "execution_count": 59,
      "outputs": [
        {
          "output_type": "stream",
          "name": "stdout",
          "text": [
            "0.18545320963770562 0.003997889839521897\n"
          ]
        }
      ]
    },
    {
      "cell_type": "code",
      "source": [
        "print('Média da acurácia das classes: ', rf_clf_lsa.score(X_lsa, y))"
      ],
      "metadata": {
        "colab": {
          "base_uri": "https://localhost:8080/"
        },
        "id": "n7CvhGhhiK8M",
        "outputId": "765697ad-0179-4577-c7cc-35b84a1dd75a"
      },
      "execution_count": 60,
      "outputs": [
        {
          "output_type": "stream",
          "name": "stdout",
          "text": [
            "Média da acurácia das classes:  1.0\n"
          ]
        },
        {
          "output_type": "stream",
          "name": "stderr",
          "text": [
            "[Parallel(n_jobs=2)]: Using backend ThreadingBackend with 2 concurrent workers.\n",
            "[Parallel(n_jobs=2)]: Done  37 tasks      | elapsed:    0.0s\n",
            "[Parallel(n_jobs=2)]: Done 158 tasks      | elapsed:    0.0s\n",
            "[Parallel(n_jobs=2)]: Done 361 tasks      | elapsed:    0.1s\n",
            "[Parallel(n_jobs=2)]: Done 500 out of 500 | elapsed:    0.1s finished\n"
          ]
        }
      ]
    },
    {
      "cell_type": "markdown",
      "source": [],
      "metadata": {
        "id": "5fkFvaig3i8I"
      }
    },
    {
      "cell_type": "markdown",
      "source": [
        "## Classificação de texto usando LSA"
      ],
      "metadata": {
        "id": "KeX7tYyg3jGX"
      }
    },
    {
      "cell_type": "code",
      "source": [
        "y = list(thesis.subject.copy())\n",
        "\n",
        "X_train, X_test, y_train, y_test = train_test_split(X_lsa, y, test_size=0.33, random_state=0)"
      ],
      "metadata": {
        "id": "Bd6U7VSxY0vL"
      },
      "execution_count": 61,
      "outputs": []
    },
    {
      "cell_type": "code",
      "source": [
        "clf = RandomForestClassifier(random_state=0)"
      ],
      "metadata": {
        "id": "-cLPGyLOY05o"
      },
      "execution_count": 62,
      "outputs": []
    },
    {
      "cell_type": "code",
      "source": [
        "clf.fit(X_train, y_train)"
      ],
      "metadata": {
        "colab": {
          "base_uri": "https://localhost:8080/"
        },
        "id": "5WZfyviOY0_I",
        "outputId": "ff3b746e-a9a0-49c1-9add-4e4a1fdbd5c1"
      },
      "execution_count": 63,
      "outputs": [
        {
          "output_type": "execute_result",
          "data": {
            "text/plain": [
              "RandomForestClassifier(random_state=0)"
            ]
          },
          "metadata": {},
          "execution_count": 63
        }
      ]
    },
    {
      "cell_type": "code",
      "source": [
        "y_pred_test = clf.predict(X_test)\n",
        "y_pred_train = clf.predict(X_train)"
      ],
      "metadata": {
        "id": "6ir4i3XdZg-b"
      },
      "execution_count": 64,
      "outputs": []
    },
    {
      "cell_type": "code",
      "source": [
        "print(\"Train Dataset Metrics\")\n",
        "print(classification_report(y_train, y_pred_train))\n",
        "print(\"--------------------------------\")\n",
        "print(\"Test Dataset Metrics\")\n",
        "print(classification_report(y_test, y_pred_test))"
      ],
      "metadata": {
        "colab": {
          "base_uri": "https://localhost:8080/"
        },
        "id": "vnt2VUr4ZhBH",
        "outputId": "444cab8c-1417-4fe8-b1fd-edf6697d4eed"
      },
      "execution_count": 65,
      "outputs": [
        {
          "output_type": "stream",
          "name": "stdout",
          "text": [
            "Train Dataset Metrics\n",
            "                  precision    recall  f1-score   support\n",
            "\n",
            "        biologia       1.00      1.00      1.00         5\n",
            "        economia       1.00      1.00      1.00         7\n",
            "     estatistica       1.00      1.00      1.00         6\n",
            "        historia       1.00      1.00      1.00         6\n",
            "machine+learning       1.00      1.00      1.00         9\n",
            "\n",
            "        accuracy                           1.00        33\n",
            "       macro avg       1.00      1.00      1.00        33\n",
            "    weighted avg       1.00      1.00      1.00        33\n",
            "\n",
            "--------------------------------\n",
            "Test Dataset Metrics\n",
            "                  precision    recall  f1-score   support\n",
            "\n",
            "        biologia       1.00      1.00      1.00         5\n",
            "        economia       1.00      1.00      1.00         3\n",
            "     estatistica       1.00      0.50      0.67         4\n",
            "        historia       0.67      1.00      0.80         4\n",
            "machine+learning       1.00      1.00      1.00         1\n",
            "\n",
            "        accuracy                           0.88        17\n",
            "       macro avg       0.93      0.90      0.89        17\n",
            "    weighted avg       0.92      0.88      0.87        17\n",
            "\n"
          ]
        }
      ]
    },
    {
      "cell_type": "markdown",
      "source": [
        "## Pesquisa de documentos com LSA\n",
        "\n"
      ],
      "metadata": {
        "id": "VfdcZAxs3v6m"
      }
    },
    {
      "cell_type": "code",
      "source": [
        "def tokenizer(document, join=True):\n",
        "    tokens = [unidecode(token.lower()) for token in word_tokenize(document, language='portuguese') if token not in list_stop and token.isalpha()]\n",
        "    if join == True:\n",
        "        tokens = \" \".join(tokens)\n",
        "        return tokens\n",
        "    else:\n",
        "        return tokens\n",
        "\n"
      ],
      "metadata": {
        "id": "DGqNrH-M2N1Q"
      },
      "execution_count": 66,
      "outputs": []
    },
    {
      "cell_type": "code",
      "source": [
        "tokenizer(\"pode o SARS covid esta presente na história antiga?\")"
      ],
      "metadata": {
        "colab": {
          "base_uri": "https://localhost:8080/",
          "height": 36
        },
        "id": "vGKrsSod2N5M",
        "outputId": "4b24e865-67fa-4e53-d375-924be430a1b2"
      },
      "execution_count": 67,
      "outputs": [
        {
          "output_type": "execute_result",
          "data": {
            "text/plain": [
              "'pode sars covid presente historia antiga'"
            ],
            "application/vnd.google.colaboratory.intrinsic+json": {
              "type": "string"
            }
          },
          "metadata": {},
          "execution_count": 67
        }
      ]
    },
    {
      "cell_type": "code",
      "source": [
        "def get_lsa_from_query(query):\n",
        "    \n",
        "    query = tokenizer(query)\n",
        "    \n",
        "    X_query = count_vect.transform([query])\n",
        "    X_tfidf_query = tfidf_transformer.transform(X_query)\n",
        "    X_lsa_query = svd.transform(X_tfidf_query)\n",
        "    return X_lsa_query"
      ],
      "metadata": {
        "id": "AijTipkn2N81"
      },
      "execution_count": 68,
      "outputs": []
    },
    {
      "cell_type": "code",
      "source": [
        "def get_most_relevant_docs(query, n_documents, corpus):\n",
        "    \n",
        "    X_lsa_query = get_lsa_from_query(query)\n",
        "    \n",
        "    ouput_distances = pairwise_distances(corpus, X_lsa_query, metric='euclidean')[:,0]\n",
        "    sorted_distances = list(sorted(ouput_distances))[:n_documents]\n",
        "    sorted_indexes = list(np.argsort(ouput_distances)[:n_documents])\n",
        "    \n",
        "    print(f'Query: {query} \\n')\n",
        "    for id_doc, dist in zip(sorted_indexes, sorted_distances):\n",
        "        print(f'Id: {id_doc}, Title: {thesis._get_value(id_doc, \"title\")}, Dist: {round(dist, 4)} \\n')   \n",
        "\n"
      ],
      "metadata": {
        "id": "eA7JIVDi2N_t"
      },
      "execution_count": 69,
      "outputs": []
    },
    {
      "cell_type": "markdown",
      "source": [
        "## Recuperar documentos mais relevantes dada uma query utilizando LSA"
      ],
      "metadata": {
        "id": "_XtjmWcgVCCB"
      }
    },
    {
      "cell_type": "code",
      "source": [
        "query = \"covid\"\n",
        "n_documents = 5\n",
        "corpus = X_lsa\n",
        "\n",
        "get_most_relevant_docs(query, n_documents, corpus)"
      ],
      "metadata": {
        "colab": {
          "base_uri": "https://localhost:8080/"
        },
        "id": "u3lWo5eV2xTf",
        "outputId": "88b3e4a9-f6ea-42cf-8067-9796f66fe8c4"
      },
      "execution_count": 70,
      "outputs": [
        {
          "output_type": "stream",
          "name": "stdout",
          "text": [
            "Query: covid \n",
            "\n",
            "Id: 18, Title: Testes de permutação e bootstrap em análise estatística de formas: aplicações a zoologia, Dist: 0.5811 \n",
            "\n",
            "Id: 16, Title: Aplicativos que Abordam Conceitos Estatísticos em Tablets e Smartphones, Dist: 0.5898 \n",
            "\n",
            "Id: 31, Title: Contribuições da audiodescrição para o ensino de células animais no ensino médio, Dist: 0.6291 \n",
            "\n",
            "Id: 38, Title: Biologia populacional do caranguejo-uçá Ucides cordatus  (Linnaeus, 1763) (Crustaceae, Decapoda, Brachyura) no estuário do  rio Maracaípe, Ipojuca, PE, Dist: 0.6323 \n",
            "\n",
            "Id: 35, Title: Primeiros socorros com ênfase no protagonismo discente : uma proposta de ensino por investigação na abordagem de conteúdos de biologia e saúde no ensino médio, Dist: 0.6341 \n",
            "\n"
          ]
        }
      ]
    },
    {
      "cell_type": "markdown",
      "source": [
        "## Word2Vec"
      ],
      "metadata": {
        "id": "s-qGQ2uO4EOA"
      }
    },
    {
      "cell_type": "code",
      "source": [
        "from gensim.test.utils import datapath\n",
        "from gensim.models import Word2Vec\n",
        "from gensim import utils\n",
        "import multiprocessing"
      ],
      "metadata": {
        "id": "Msqe77LR4C0M"
      },
      "execution_count": 71,
      "outputs": []
    },
    {
      "cell_type": "code",
      "source": [
        "documents = thesis.title + thesis.abstract\n",
        "\n",
        "documents_tokens = []\n",
        "for document in documents:\n",
        "    documents_tokens.append(tokenizer(document, join=False))\n"
      ],
      "metadata": {
        "id": "QuAVHgaa2xYc"
      },
      "execution_count": 72,
      "outputs": []
    },
    {
      "cell_type": "code",
      "source": [
        "len(documents_tokens)"
      ],
      "metadata": {
        "colab": {
          "base_uri": "https://localhost:8080/"
        },
        "id": "atfbIeJE2xa0",
        "outputId": "b12ab396-c0d5-4e23-a3a5-bce3f01d7ba8"
      },
      "execution_count": 73,
      "outputs": [
        {
          "output_type": "execute_result",
          "data": {
            "text/plain": [
              "50"
            ]
          },
          "metadata": {},
          "execution_count": 73
        }
      ]
    },
    {
      "cell_type": "code",
      "source": [
        "w2vec_model = Word2Vec(\n",
        "          min_count=20,\n",
        "          window=3,\n",
        "          vector_size=20, \n",
        "          alpha=0.03, \n",
        "          min_alpha=0.0007, \n",
        "          negative=20,\n",
        "          workers=4\n",
        "        )"
      ],
      "metadata": {
        "id": "X_bRpwSmJIWk"
      },
      "execution_count": 74,
      "outputs": []
    },
    {
      "cell_type": "code",
      "source": [
        "w2vec_model.build_vocab(corpus_iterable=documents_tokens)\n",
        "w2vec_model.train(documents_tokens, total_examples=w2vec_model.corpus_count, epochs=50, report_delay=1)"
      ],
      "metadata": {
        "colab": {
          "base_uri": "https://localhost:8080/"
        },
        "id": "ZSddJ1xFJN0B",
        "outputId": "e45d2d8d-be73-47d6-e0e3-4e3d901dc10e"
      },
      "execution_count": 75,
      "outputs": [
        {
          "output_type": "execute_result",
          "data": {
            "text/plain": [
              "(13555, 435950)"
            ]
          },
          "metadata": {},
          "execution_count": 75
        }
      ]
    },
    {
      "cell_type": "code",
      "source": [
        "w2vec_model.get_latest_training_loss()"
      ],
      "metadata": {
        "colab": {
          "base_uri": "https://localhost:8080/"
        },
        "id": "14ul6R5_JN7c",
        "outputId": "03ef7861-e1b2-4448-9ccf-5c8afed3712e"
      },
      "execution_count": 76,
      "outputs": [
        {
          "output_type": "execute_result",
          "data": {
            "text/plain": [
              "0.0"
            ]
          },
          "metadata": {},
          "execution_count": 76
        }
      ]
    },
    {
      "cell_type": "code",
      "source": [
        "print(\"Tamanho do vocabulário: \", len(w2vec_model.wv))"
      ],
      "metadata": {
        "colab": {
          "base_uri": "https://localhost:8080/"
        },
        "id": "u9MIjsziJN_e",
        "outputId": "423842e0-a830-497a-89cf-72d74c8f5b66"
      },
      "execution_count": 77,
      "outputs": [
        {
          "output_type": "stream",
          "name": "stdout",
          "text": [
            "Tamanho do vocabulário:  36\n"
          ]
        }
      ]
    },
    {
      "cell_type": "code",
      "source": [
        "w2vec_model.predict_output_word(['historia'], topn=10)"
      ],
      "metadata": {
        "colab": {
          "base_uri": "https://localhost:8080/"
        },
        "id": "gzxt2INwJXDj",
        "outputId": "18e298bf-4606-4753-9337-e2e6072003be"
      },
      "execution_count": 78,
      "outputs": [
        {
          "output_type": "execute_result",
          "data": {
            "text/plain": [
              "[('historia', 0.039398674),\n",
              " ('aula', 0.03802973),\n",
              " ('medio', 0.03775039),\n",
              " ('partir', 0.03625985),\n",
              " ('professores', 0.036020655),\n",
              " ('sala', 0.035610974),\n",
              " ('matematica', 0.03544006),\n",
              " ('forma', 0.03528282),\n",
              " ('construcao', 0.034983363),\n",
              " ('biologia', 0.03485416)]"
            ]
          },
          "metadata": {},
          "execution_count": 78
        }
      ]
    },
    {
      "cell_type": "code",
      "source": [
        "w2vec_model.wv['historia']"
      ],
      "metadata": {
        "colab": {
          "base_uri": "https://localhost:8080/"
        },
        "id": "TQt3KmCZJiER",
        "outputId": "5dbf0187-8265-4f81-8366-ceb949fed84d"
      },
      "execution_count": 79,
      "outputs": [
        {
          "output_type": "execute_result",
          "data": {
            "text/plain": [
              "array([-0.11420801,  0.02437424, -0.02654472, -0.26821086,  0.23447463,\n",
              "        0.38167813,  0.8472191 ,  1.1277658 , -0.456138  ,  0.12038396,\n",
              "        0.48129967,  0.31432164, -0.3499061 , -0.36141083,  0.23030783,\n",
              "        0.19978724,  0.9264379 , -0.76745373, -0.80409825, -0.45507514],\n",
              "      dtype=float32)"
            ]
          },
          "metadata": {},
          "execution_count": 79
        }
      ]
    },
    {
      "cell_type": "code",
      "source": [
        "w2vec_model.wv.most_similar('historia')"
      ],
      "metadata": {
        "colab": {
          "base_uri": "https://localhost:8080/"
        },
        "id": "aLbMv1W9JiHM",
        "outputId": "061065cf-26c5-4a45-ee40-7135c448121e"
      },
      "execution_count": 80,
      "outputs": [
        {
          "output_type": "execute_result",
          "data": {
            "text/plain": [
              "[('ensino', 0.9782739281654358),\n",
              " ('sala', 0.9766039252281189),\n",
              " ('aula', 0.9761922955513),\n",
              " ('professores', 0.9740358591079712),\n",
              " ('construcao', 0.9664080142974854),\n",
              " ('pesquisa', 0.9627724885940552),\n",
              " ('partir', 0.9584004878997803),\n",
              " ('analise', 0.9581626057624817),\n",
              " ('medio', 0.9546864032745361),\n",
              " ('estudantes', 0.9464429616928101)]"
            ]
          },
          "metadata": {},
          "execution_count": 80
        }
      ]
    },
    {
      "cell_type": "code",
      "source": [
        "w2vec_model.wv.similarity('historia', 'machine')"
      ],
      "metadata": {
        "colab": {
          "base_uri": "https://localhost:8080/"
        },
        "id": "mnmmTOJ0RLIC",
        "outputId": "61265a47-a442-4eec-adae-aed1ec331c8e"
      },
      "execution_count": 81,
      "outputs": [
        {
          "output_type": "execute_result",
          "data": {
            "text/plain": [
              "0.4382061"
            ]
          },
          "metadata": {},
          "execution_count": 81
        }
      ]
    },
    {
      "cell_type": "markdown",
      "source": [
        "## Text Classification"
      ],
      "metadata": {
        "id": "APa6ZzzmLBuw"
      }
    },
    {
      "cell_type": "code",
      "source": [
        "word_vec_dict = dict({})\n",
        "\n",
        "for idex, key in enumerate(w2vec_model.wv.key_to_index):\n",
        "    word_vec_dict[key] = w2vec_model.wv[key]\n",
        "    \n",
        "len(word_vec_dict)\n"
      ],
      "metadata": {
        "colab": {
          "base_uri": "https://localhost:8080/"
        },
        "id": "9KpgN1CoLB4w",
        "outputId": "3e592da4-409e-459f-f4f6-3e21ed7e64bc"
      },
      "execution_count": 82,
      "outputs": [
        {
          "output_type": "execute_result",
          "data": {
            "text/plain": [
              "36"
            ]
          },
          "metadata": {},
          "execution_count": 82
        }
      ]
    },
    {
      "cell_type": "code",
      "source": [
        "doc = []\n",
        "\n",
        "for document in range(len(documents_tokens)):\n",
        "    doc_sentence = np.zeros(20)\n",
        "    for word in range(len(documents_tokens[document])):\n",
        "        word = documents_tokens[document][word]\n",
        "        if word in word_vec_dict.keys():\n",
        "            doc_sentence = np.add(doc_sentence, word_vec_dict[word])\n",
        "            \n",
        "    doc.append(doc_sentence)      "
      ],
      "metadata": {
        "id": "xHzT16xcLB8y"
      },
      "execution_count": 83,
      "outputs": []
    },
    {
      "cell_type": "code",
      "source": [
        "w2vec_df = pd.DataFrame(doc)\n",
        "\n",
        "X_w2vec_train, X_w2vec_test, y_w2vec_train, y_w2vec_test = train_test_split(w2vec_df, y, test_size=0.33, random_state=0)"
      ],
      "metadata": {
        "id": "Cc3SqVeeLB_9"
      },
      "execution_count": 84,
      "outputs": []
    },
    {
      "cell_type": "code",
      "source": [
        "clf = RandomForestClassifier(random_state=0)"
      ],
      "metadata": {
        "id": "XKWa3DaCLCCx"
      },
      "execution_count": 85,
      "outputs": []
    },
    {
      "cell_type": "code",
      "source": [
        "clf.fit(X_w2vec_train, y_w2vec_train)"
      ],
      "metadata": {
        "colab": {
          "base_uri": "https://localhost:8080/"
        },
        "id": "lBj4vbEnLCFY",
        "outputId": "277ca19c-df70-492e-8a8c-c9b4b9e709ca"
      },
      "execution_count": 86,
      "outputs": [
        {
          "output_type": "execute_result",
          "data": {
            "text/plain": [
              "RandomForestClassifier(random_state=0)"
            ]
          },
          "metadata": {},
          "execution_count": 86
        }
      ]
    },
    {
      "cell_type": "code",
      "source": [
        "y_pred_train = clf.predict(X_w2vec_train)\n",
        "y_pred_test = clf.predict(X_w2vec_test)\n"
      ],
      "metadata": {
        "id": "a2iGqNlALCHf"
      },
      "execution_count": 87,
      "outputs": []
    },
    {
      "cell_type": "code",
      "source": [
        "print(\"Train Dataset Metrics\")\n",
        "print(classification_report(y_w2vec_train, y_pred_train))\n",
        "print(\"--------------------------------\")\n",
        "print(\"Test Dataset Metrics\")\n",
        "print(classification_report(y_w2vec_test, y_pred_test))\n",
        "\n"
      ],
      "metadata": {
        "colab": {
          "base_uri": "https://localhost:8080/"
        },
        "id": "G8EsXeprMuOd",
        "outputId": "4e9c8ae1-bce7-4181-f6bd-e24ed3b2fcc9"
      },
      "execution_count": 88,
      "outputs": [
        {
          "output_type": "stream",
          "name": "stdout",
          "text": [
            "Train Dataset Metrics\n",
            "                  precision    recall  f1-score   support\n",
            "\n",
            "        biologia       1.00      1.00      1.00         5\n",
            "        economia       1.00      1.00      1.00         7\n",
            "     estatistica       1.00      1.00      1.00         6\n",
            "        historia       1.00      1.00      1.00         6\n",
            "machine+learning       1.00      1.00      1.00         9\n",
            "\n",
            "        accuracy                           1.00        33\n",
            "       macro avg       1.00      1.00      1.00        33\n",
            "    weighted avg       1.00      1.00      1.00        33\n",
            "\n",
            "--------------------------------\n",
            "Test Dataset Metrics\n",
            "                  precision    recall  f1-score   support\n",
            "\n",
            "        biologia       0.40      0.40      0.40         5\n",
            "        economia       1.00      1.00      1.00         3\n",
            "     estatistica       0.33      0.25      0.29         4\n",
            "        historia       0.50      0.50      0.50         4\n",
            "machine+learning       0.50      1.00      0.67         1\n",
            "\n",
            "        accuracy                           0.53        17\n",
            "       macro avg       0.55      0.63      0.57        17\n",
            "    weighted avg       0.52      0.53      0.52        17\n",
            "\n"
          ]
        }
      ]
    },
    {
      "cell_type": "markdown",
      "source": [
        "## Recuperar documentos mais relevantes dada uma query utilizando Word2Vec"
      ],
      "metadata": {
        "id": "CAZIP9GXU2L5"
      }
    },
    {
      "cell_type": "code",
      "source": [
        "query = \"covid\"\n",
        "n_documents = 5\n",
        "corpus = w2vec_df\n",
        "\n",
        "get_most_relevant_docs(query, n_documents, corpus)"
      ],
      "metadata": {
        "colab": {
          "base_uri": "https://localhost:8080/"
        },
        "id": "XDGuZL-8Ud0m",
        "outputId": "493e9685-fed1-4b26-c3b1-7229fd3ff95b"
      },
      "execution_count": 89,
      "outputs": [
        {
          "output_type": "stream",
          "name": "stdout",
          "text": [
            "Query: covid \n",
            "\n",
            "Id: 41, Title: Embarrassingly parallel autoconstructive multilayer perceptron neural networks, Dist: 0.0 \n",
            "\n",
            "Id: 10, Title: APERFEIÇOAMENTO DE TESTES NOS MODELOS SÉRIES DE POTÊNCIA NÃO-LINEARES GENERALIZADOS, Dist: 8.5787 \n",
            "\n",
            "Id: 11, Title: Aperfeiçoamento de testes nos modelos séries de  potência não-lineares generalizados, Dist: 8.5787 \n",
            "\n",
            "Id: 40, Title: Time Aware Sigmoid Optimization : a new learning rate scheduling method, Dist: 10.2089 \n",
            "\n",
            "Id: 46, Title: A machine learning-based methodology for automated classification of risks in an oil refinery, Dist: 11.063 \n",
            "\n"
          ]
        }
      ]
    },
    {
      "cell_type": "markdown",
      "source": [
        "## Utilizar técnicas de decomposição ou redes neurais não vistas em sala na etapa de classificação, compare resultados com LSA e Word2Vec."
      ],
      "metadata": {
        "id": "WHXgZGJz4Ies"
      }
    },
    {
      "cell_type": "code",
      "source": [
        "from sklearn.decomposition import KernelPCA"
      ],
      "metadata": {
        "id": "esrlUUcp4LVo"
      },
      "execution_count": 90,
      "outputs": []
    },
    {
      "cell_type": "code",
      "source": [
        "transformer = KernelPCA(n_components=20, kernel='linear')\n",
        "X_transformed = transformer.fit_transform(X_tfidf)"
      ],
      "metadata": {
        "id": "2w0SmDnw6vNc"
      },
      "execution_count": 91,
      "outputs": []
    },
    {
      "cell_type": "code",
      "source": [
        "y = list(thesis.subject.copy())\n",
        "\n",
        "X_train, X_test, y_train, y_test = train_test_split(X_transformed, y, test_size=0.33, random_state=0)"
      ],
      "metadata": {
        "id": "CBoukHKg6CTF"
      },
      "execution_count": 92,
      "outputs": []
    },
    {
      "cell_type": "code",
      "source": [
        "clf = RandomForestClassifier(random_state=0)"
      ],
      "metadata": {
        "id": "hUMmB6Ze6CVs"
      },
      "execution_count": 93,
      "outputs": []
    },
    {
      "cell_type": "code",
      "source": [
        "clf.fit(X_train, y_train)"
      ],
      "metadata": {
        "colab": {
          "base_uri": "https://localhost:8080/"
        },
        "id": "KlC1Jt7x6CYE",
        "outputId": "c60308d0-01c3-4024-cdbe-2394a3bee9bb"
      },
      "execution_count": 94,
      "outputs": [
        {
          "output_type": "execute_result",
          "data": {
            "text/plain": [
              "RandomForestClassifier(random_state=0)"
            ]
          },
          "metadata": {},
          "execution_count": 94
        }
      ]
    },
    {
      "cell_type": "code",
      "source": [
        "y_pred_test = clf.predict(X_test)\n",
        "y_pred_train = clf.predict(X_train)"
      ],
      "metadata": {
        "id": "-jxdediy6CbK"
      },
      "execution_count": 95,
      "outputs": []
    },
    {
      "cell_type": "code",
      "source": [
        "print(\"Train Dataset Metrics\")\n",
        "print(classification_report(y_train, y_pred_train))\n",
        "print(\"--------------------------------\")\n",
        "print(\"Test Dataset Metrics\")\n",
        "print(classification_report(y_test, y_pred_test))"
      ],
      "metadata": {
        "colab": {
          "base_uri": "https://localhost:8080/"
        },
        "id": "uayzYH2u6CeB",
        "outputId": "9adf5d78-c3d3-4943-8804-f3d03b65fd0e"
      },
      "execution_count": 96,
      "outputs": [
        {
          "output_type": "stream",
          "name": "stdout",
          "text": [
            "Train Dataset Metrics\n",
            "                  precision    recall  f1-score   support\n",
            "\n",
            "        biologia       1.00      1.00      1.00         5\n",
            "        economia       1.00      1.00      1.00         7\n",
            "     estatistica       1.00      1.00      1.00         6\n",
            "        historia       1.00      1.00      1.00         6\n",
            "machine+learning       1.00      1.00      1.00         9\n",
            "\n",
            "        accuracy                           1.00        33\n",
            "       macro avg       1.00      1.00      1.00        33\n",
            "    weighted avg       1.00      1.00      1.00        33\n",
            "\n",
            "--------------------------------\n",
            "Test Dataset Metrics\n",
            "                  precision    recall  f1-score   support\n",
            "\n",
            "        biologia       1.00      1.00      1.00         5\n",
            "        economia       1.00      1.00      1.00         3\n",
            "     estatistica       1.00      0.25      0.40         4\n",
            "        historia       1.00      1.00      1.00         4\n",
            "machine+learning       0.25      1.00      0.40         1\n",
            "\n",
            "        accuracy                           0.82        17\n",
            "       macro avg       0.85      0.85      0.76        17\n",
            "    weighted avg       0.96      0.82      0.82        17\n",
            "\n"
          ]
        }
      ]
    },
    {
      "cell_type": "markdown",
      "source": [
        "## Análise Final:\n",
        "\n",
        "Comparando as acurácia dos modelos: \n",
        "\n",
        "Avaliando o resultado apresentado pelos modelos, o LSA obteve a melhor acurácia para representação dos textos.\n",
        "\n",
        "LSA ==> accuracy 0.88\n",
        "\n",
        "Word2Vec ==> accuracy 0.53\n",
        "\n",
        "KernelPCA ==> accuracy 0.82"
      ],
      "metadata": {
        "id": "wnRW1LIUB931"
      }
    }
  ]
}